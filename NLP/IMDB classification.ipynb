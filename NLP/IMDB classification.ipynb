{
  "nbformat": 4,
  "nbformat_minor": 0,
  "metadata": {
    "colab": {
      "name": "IMDB.ipynb",
      "provenance": [],
      "collapsed_sections": []
    },
    "kernelspec": {
      "name": "python3",
      "display_name": "Python 3"
    }
  },
  "cells": [
    {
      "cell_type": "code",
      "metadata": {
        "id": "u0cl84jhtwuF",
        "colab_type": "code",
        "colab": {
          "base_uri": "https://localhost:8080/",
          "height": 34
        },
        "outputId": "bd32692e-d63c-4e7b-95b8-d15234fd1729"
      },
      "source": [
        "import tensorflow as tf\n",
        "print(tf.__version__)"
      ],
      "execution_count": 1,
      "outputs": [
        {
          "output_type": "stream",
          "text": [
            "2.3.0\n"
          ],
          "name": "stdout"
        }
      ]
    },
    {
      "cell_type": "code",
      "metadata": {
        "id": "m4YinlArvlSm",
        "colab_type": "code",
        "colab": {}
      },
      "source": [
        "import tensorflow_datasets as tfds\n",
        "imdb, info = tfds.load(\"imdb_reviews\", with_info=True, as_supervised=True)"
      ],
      "execution_count": 2,
      "outputs": []
    },
    {
      "cell_type": "code",
      "metadata": {
        "id": "J4Wv_AnPD5oX",
        "colab_type": "code",
        "colab": {}
      },
      "source": [
        "import numpy as np\n",
        "\n",
        "train_data, test_data = imdb['train'], imdb['test']\n",
        "\n",
        "training_sentences = []\n",
        "training_labels = []\n",
        "\n",
        "testing_sentences = []\n",
        "testing_labels = []\n",
        "\n",
        "# str(s.tonumpy()) is needed in Python3 instead of just s.numpy()\n",
        "for s,l in train_data:\n",
        "  training_sentences.append(s.numpy().decode('utf8'))\n",
        "  training_labels.append(l.numpy())\n",
        "  \n",
        "for s,l in test_data:\n",
        "  testing_sentences.append(s.numpy().decode('utf8'))\n",
        "  testing_labels.append(l.numpy())\n",
        "  \n",
        "training_labels_final = np.array(training_labels)\n",
        "testing_labels_final = np.array(testing_labels)\n"
      ],
      "execution_count": 3,
      "outputs": []
    },
    {
      "cell_type": "code",
      "metadata": {
        "id": "4uhOAey-D76T",
        "colab_type": "code",
        "colab": {}
      },
      "source": [
        "vocab_size = 1000\n",
        "embedding_dim = 16\n",
        "max_length = 16\n",
        "trunc_type='post'\n",
        "padding_type = 'post'\n",
        "oov_tok = \"<OOV>\"\n",
        "\n",
        "\n",
        "from tensorflow.keras.preprocessing.text import Tokenizer\n",
        "from tensorflow.keras.preprocessing.sequence import pad_sequences\n",
        "\n",
        "tokenizer = Tokenizer(num_words = vocab_size, oov_token=oov_tok)\n",
        "tokenizer.fit_on_texts(training_sentences)\n",
        "\n",
        "word_index = tokenizer.word_index\n",
        "\n",
        "sequences = tokenizer.texts_to_sequences(training_sentences)\n",
        "padded = pad_sequences(sequences, maxlen=max_length, padding=padding_type, truncating=trunc_type)\n",
        "\n",
        "testing_sequences = tokenizer.texts_to_sequences(testing_sentences)\n",
        "testing_padded = pad_sequences(testing_sequences,  maxlen=max_length, padding=padding_type, truncating=trunc_type)"
      ],
      "execution_count": 4,
      "outputs": []
    },
    {
      "cell_type": "code",
      "metadata": {
        "id": "B5Moo4dFEBm7",
        "colab_type": "code",
        "colab": {
          "base_uri": "https://localhost:8080/",
          "height": 71
        },
        "outputId": "563ee69c-f6a7-46b4-c326-a85265270201"
      },
      "source": [
        "reverse_word_index = dict([(value, key) for (key, value) in word_index.items()])\n",
        "\n",
        "def decode_review(text):\n",
        "    return ' '.join([reverse_word_index.get(i, '?') for i in text])\n",
        "\n",
        "print(decode_review(padded[3]))\n",
        "print(training_sentences[3])"
      ],
      "execution_count": 5,
      "outputs": [
        {
          "output_type": "stream",
          "text": [
            "this is the kind of film for a <OOV> <OOV> <OOV> when the rest of the\n",
            "This is the kind of film for a snowy Sunday afternoon when the rest of the world can go ahead with its own business as you descend into a big arm-chair and mellow for a couple of hours. Wonderful performances from Cher and Nicolas Cage (as always) gently row the plot along. There are no rapids to cross, no dangerous waters, just a warm and witty paddle through New York life at its best. A family film in every sense and one that deserves the praise it received.\n"
          ],
          "name": "stdout"
        }
      ]
    },
    {
      "cell_type": "code",
      "metadata": {
        "id": "yNlB-l9PEPBV",
        "colab_type": "code",
        "colab": {
          "base_uri": "https://localhost:8080/",
          "height": 88
        },
        "outputId": "ec18f751-61c7-4152-d48e-1d988cba2f2a"
      },
      "source": [
        "print(padded[0])\n",
        "print(sequences[0])\n",
        "print(training_sentences[0])"
      ],
      "execution_count": 6,
      "outputs": [
        {
          "output_type": "stream",
          "text": [
            "[ 12  14  33 425 392  18  90  28   1   9  32   1   1  40 486   1]\n",
            "[12, 14, 33, 425, 392, 18, 90, 28, 1, 9, 32, 1, 1, 40, 486, 1, 197, 24, 85, 154, 19, 12, 213, 329, 28, 66, 247, 215, 9, 477, 58, 66, 85, 114, 98, 22, 1, 12, 1, 643, 767, 12, 18, 7, 33, 400, 1, 176, 1, 416, 2, 89, 1, 137, 69, 146, 52, 2, 1, 1, 69, 229, 66, 1, 16, 1, 1, 1, 1, 1, 1, 3, 39, 1, 117, 1, 17, 1, 14, 162, 19, 4, 1, 917, 1, 9, 4, 18, 13, 14, 1, 5, 99, 145, 1, 11, 242, 683, 13, 48, 24, 100, 38, 12, 1, 1, 38, 1, 1, 50, 401, 11, 98, 1, 867, 141, 10]\n",
            "This was an absolutely terrible movie. Don't be lured in by Christopher Walken or Michael Ironside. Both are great actors, but this must simply be their worst role in history. Even their great acting could not redeem this movie's ridiculous storyline. This movie is an early nineties US propaganda piece. The most pathetic scenes were those when the Columbian rebels were making their cases for revolutions. Maria Conchita Alonso appeared phony, and her pseudo-love affair with Walken was nothing but a pathetic emotional plug in a movie that was devoid of any real meaning. I am disappointed that there are movies like this, ruining actor's like Christopher Walken's good name. I could barely sit through it.\n"
          ],
          "name": "stdout"
        }
      ]
    },
    {
      "cell_type": "code",
      "metadata": {
        "id": "FvNHbT3QLx8j",
        "colab_type": "code",
        "colab": {
          "base_uri": "https://localhost:8080/",
          "height": 34
        },
        "outputId": "0f47f036-0126-4da2-a0c5-69e6ca05221c"
      },
      "source": [
        "print(training_labels_final[3])"
      ],
      "execution_count": 7,
      "outputs": [
        {
          "output_type": "stream",
          "text": [
            "1\n"
          ],
          "name": "stdout"
        }
      ]
    },
    {
      "cell_type": "markdown",
      "metadata": {
        "id": "8WfbA3IxMUBO",
        "colab_type": "text"
      },
      "source": [
        "**Model 1 Bidirectionals LSTM**"
      ]
    },
    {
      "cell_type": "code",
      "metadata": {
        "id": "xL_72vHzLQee",
        "colab_type": "code",
        "colab": {}
      },
      "source": [
        "model = tf.keras.Sequential([\n",
        "    tf.keras.layers.Embedding(vocab_size, embedding_dim, input_length=max_length),\n",
        "    tf.keras.layers.Bidirectional(tf.keras.layers.LSTM(64, return_sequences=True)),\n",
        "    tf.keras.layers.Bidirectional(tf.keras.layers.LSTM(32)),\n",
        "    tf.keras.layers.Dense(64, activation='relu'),\n",
        "    tf.keras.layers.Dense(1, activation='sigmoid')\n",
        "])"
      ],
      "execution_count": 8,
      "outputs": []
    },
    {
      "cell_type": "code",
      "metadata": {
        "id": "L_fjhOfXLxaQ",
        "colab_type": "code",
        "colab": {
          "base_uri": "https://localhost:8080/",
          "height": 323
        },
        "outputId": "dfa7a3c8-aa76-48c4-fd3e-bb44a2881a04"
      },
      "source": [
        "model.compile(loss='binary_crossentropy',optimizer='adam',metrics=['accuracy'])\n",
        "model.summary()\n"
      ],
      "execution_count": 9,
      "outputs": [
        {
          "output_type": "stream",
          "text": [
            "Model: \"sequential\"\n",
            "_________________________________________________________________\n",
            "Layer (type)                 Output Shape              Param #   \n",
            "=================================================================\n",
            "embedding (Embedding)        (None, 16, 16)            16000     \n",
            "_________________________________________________________________\n",
            "bidirectional (Bidirectional (None, 16, 128)           41472     \n",
            "_________________________________________________________________\n",
            "bidirectional_1 (Bidirection (None, 64)                41216     \n",
            "_________________________________________________________________\n",
            "dense (Dense)                (None, 64)                4160      \n",
            "_________________________________________________________________\n",
            "dense_1 (Dense)              (None, 1)                 65        \n",
            "=================================================================\n",
            "Total params: 102,913\n",
            "Trainable params: 102,913\n",
            "Non-trainable params: 0\n",
            "_________________________________________________________________\n"
          ],
          "name": "stdout"
        }
      ]
    },
    {
      "cell_type": "code",
      "metadata": {
        "id": "LsuVvMEWMznk",
        "colab_type": "code",
        "colab": {
          "base_uri": "https://localhost:8080/",
          "height": 697
        },
        "outputId": "133fff49-5568-4d35-d36d-52cc2fcb72a7"
      },
      "source": [
        "num_epochs = 20\n",
        "history = model.fit(padded, training_labels_final, epochs=num_epochs, validation_data=(testing_padded, testing_labels_final))"
      ],
      "execution_count": 10,
      "outputs": [
        {
          "output_type": "stream",
          "text": [
            "Epoch 1/20\n",
            "782/782 [==============================] - 26s 33ms/step - loss: 0.6244 - accuracy: 0.6372 - val_loss: 0.5958 - val_accuracy: 0.6701\n",
            "Epoch 2/20\n",
            "782/782 [==============================] - 25s 32ms/step - loss: 0.5823 - accuracy: 0.6855 - val_loss: 0.5882 - val_accuracy: 0.6726\n",
            "Epoch 3/20\n",
            "782/782 [==============================] - 25s 32ms/step - loss: 0.5694 - accuracy: 0.6929 - val_loss: 0.5857 - val_accuracy: 0.6719\n",
            "Epoch 4/20\n",
            "782/782 [==============================] - 25s 32ms/step - loss: 0.5562 - accuracy: 0.7002 - val_loss: 0.5986 - val_accuracy: 0.6642\n",
            "Epoch 5/20\n",
            "782/782 [==============================] - 25s 32ms/step - loss: 0.5440 - accuracy: 0.7098 - val_loss: 0.5930 - val_accuracy: 0.6666\n",
            "Epoch 6/20\n",
            "782/782 [==============================] - 25s 32ms/step - loss: 0.5327 - accuracy: 0.7176 - val_loss: 0.6070 - val_accuracy: 0.6631\n",
            "Epoch 7/20\n",
            "782/782 [==============================] - 25s 32ms/step - loss: 0.5240 - accuracy: 0.7229 - val_loss: 0.6080 - val_accuracy: 0.6655\n",
            "Epoch 8/20\n",
            "782/782 [==============================] - 25s 32ms/step - loss: 0.5133 - accuracy: 0.7293 - val_loss: 0.6180 - val_accuracy: 0.6672\n",
            "Epoch 9/20\n",
            "782/782 [==============================] - 25s 32ms/step - loss: 0.5043 - accuracy: 0.7371 - val_loss: 0.6412 - val_accuracy: 0.6608\n",
            "Epoch 10/20\n",
            "782/782 [==============================] - 25s 32ms/step - loss: 0.4947 - accuracy: 0.7413 - val_loss: 0.6484 - val_accuracy: 0.6538\n",
            "Epoch 11/20\n",
            "782/782 [==============================] - 25s 32ms/step - loss: 0.4842 - accuracy: 0.7475 - val_loss: 0.6527 - val_accuracy: 0.6520\n",
            "Epoch 12/20\n",
            "782/782 [==============================] - 25s 32ms/step - loss: 0.4728 - accuracy: 0.7503 - val_loss: 0.6469 - val_accuracy: 0.6558\n",
            "Epoch 13/20\n",
            "782/782 [==============================] - 25s 32ms/step - loss: 0.4610 - accuracy: 0.7598 - val_loss: 0.7168 - val_accuracy: 0.6580\n",
            "Epoch 14/20\n",
            "782/782 [==============================] - 25s 32ms/step - loss: 0.4491 - accuracy: 0.7653 - val_loss: 0.7189 - val_accuracy: 0.6536\n",
            "Epoch 15/20\n",
            "782/782 [==============================] - 25s 32ms/step - loss: 0.4372 - accuracy: 0.7673 - val_loss: 0.7486 - val_accuracy: 0.6513\n",
            "Epoch 16/20\n",
            "782/782 [==============================] - 25s 32ms/step - loss: 0.4233 - accuracy: 0.7752 - val_loss: 0.7858 - val_accuracy: 0.6530\n",
            "Epoch 17/20\n",
            "782/782 [==============================] - 25s 32ms/step - loss: 0.4113 - accuracy: 0.7824 - val_loss: 0.7732 - val_accuracy: 0.6453\n",
            "Epoch 18/20\n",
            "782/782 [==============================] - 25s 31ms/step - loss: 0.3967 - accuracy: 0.7882 - val_loss: 0.8973 - val_accuracy: 0.6496\n",
            "Epoch 19/20\n",
            "782/782 [==============================] - 25s 32ms/step - loss: 0.3853 - accuracy: 0.7948 - val_loss: 0.9153 - val_accuracy: 0.6470\n",
            "Epoch 20/20\n",
            "782/782 [==============================] - 25s 31ms/step - loss: 0.3694 - accuracy: 0.8050 - val_loss: 0.9399 - val_accuracy: 0.6440\n"
          ],
          "name": "stdout"
        }
      ]
    },
    {
      "cell_type": "code",
      "metadata": {
        "id": "-LwvuY7gNAnT",
        "colab_type": "code",
        "colab": {
          "base_uri": "https://localhost:8080/",
          "height": 541
        },
        "outputId": "a51ec566-1f29-4523-d3f4-9373c4602afc"
      },
      "source": [
        "import matplotlib.pyplot as plt\n",
        "\n",
        "\n",
        "def plot_graphs(history, string):\n",
        "  plt.plot(history.history[string])\n",
        "  plt.plot(history.history['val_'+string])\n",
        "  plt.xlabel(\"Epochs\")\n",
        "  plt.ylabel(string)\n",
        "  plt.legend([string, 'val_'+string])\n",
        "  plt.show()\n",
        "\n",
        "plot_graphs(history, 'accuracy')\n",
        "plot_graphs(history, 'loss')"
      ],
      "execution_count": 11,
      "outputs": [
        {
          "output_type": "display_data",
          "data": {
            "image/png": "[encoded data removed]",
            "text/plain": [
              "<Figure size 432x288 with 1 Axes>"
            ]
          },
          "metadata": {
            "tags": [],
            "needs_background": "light"
          }
        },
        {
          "output_type": "display_data",
          "data": {
            "image/png": "[encoded data removed]",
            "text/plain": [
              "<Figure size 432x288 with 1 Axes>"
            ]
          },
          "metadata": {
            "tags": [],
            "needs_background": "light"
          }
        }
      ]
    },
    {
      "cell_type": "markdown",
      "metadata": {
        "id": "9KslllUvPcz2",
        "colab_type": "text"
      },
      "source": [
        "**Model 2 GRU single layer**"
      ]
    },
    {
      "cell_type": "code",
      "metadata": {
        "id": "pneocQnRPY0r",
        "colab_type": "code",
        "colab": {
          "base_uri": "https://localhost:8080/",
          "height": 289
        },
        "outputId": "18f90dca-d41a-4aff-c6f5-0aa34d6df750"
      },
      "source": [
        "model = tf.keras.Sequential([\n",
        "    tf.keras.layers.Embedding(vocab_size, embedding_dim, input_length=max_length),\n",
        "    tf.keras.layers.Bidirectional(tf.keras.layers.GRU(32)),\n",
        "    tf.keras.layers.Dense(6, activation='relu'),\n",
        "    tf.keras.layers.Dense(1, activation='sigmoid')\n",
        "])\n",
        "model.compile(loss='binary_crossentropy',optimizer='adam',metrics=['accuracy'])\n",
        "model.summary()\n"
      ],
      "execution_count": 12,
      "outputs": [
        {
          "output_type": "stream",
          "text": [
            "Model: \"sequential_1\"\n",
            "_________________________________________________________________\n",
            "Layer (type)                 Output Shape              Param #   \n",
            "=================================================================\n",
            "embedding_1 (Embedding)      (None, 16, 16)            16000     \n",
            "_________________________________________________________________\n",
            "bidirectional_2 (Bidirection (None, 64)                9600      \n",
            "_________________________________________________________________\n",
            "dense_2 (Dense)              (None, 6)                 390       \n",
            "_________________________________________________________________\n",
            "dense_3 (Dense)              (None, 1)                 7         \n",
            "=================================================================\n",
            "Total params: 25,997\n",
            "Trainable params: 25,997\n",
            "Non-trainable params: 0\n",
            "_________________________________________________________________\n"
          ],
          "name": "stdout"
        }
      ]
    },
    {
      "cell_type": "code",
      "metadata": {
        "id": "LhW5I97hPoGC",
        "colab_type": "code",
        "colab": {
          "base_uri": "https://localhost:8080/",
          "height": 1000
        },
        "outputId": "7a2fa95d-a74c-41bb-bfcf-d3a7d5c0b99c"
      },
      "source": [
        "num_epochs = 50\n",
        "history = model.fit(padded, training_labels_final, epochs=num_epochs, validation_data=(testing_padded, testing_labels_final))"
      ],
      "execution_count": 13,
      "outputs": [
        {
          "output_type": "stream",
          "text": [
            "Epoch 1/50\n",
            "782/782 [==============================] - 11s 13ms/step - loss: 0.6368 - accuracy: 0.6217 - val_loss: 0.5955 - val_accuracy: 0.6671\n",
            "Epoch 2/50\n",
            "782/782 [==============================] - 10s 13ms/step - loss: 0.5790 - accuracy: 0.6860 - val_loss: 0.5855 - val_accuracy: 0.6726\n",
            "Epoch 3/50\n",
            "782/782 [==============================] - 10s 13ms/step - loss: 0.5648 - accuracy: 0.6954 - val_loss: 0.5884 - val_accuracy: 0.6661\n",
            "Epoch 4/50\n",
            "782/782 [==============================] - 10s 13ms/step - loss: 0.5529 - accuracy: 0.7039 - val_loss: 0.5888 - val_accuracy: 0.6711\n",
            "Epoch 5/50\n",
            "782/782 [==============================] - 10s 13ms/step - loss: 0.5402 - accuracy: 0.7125 - val_loss: 0.5988 - val_accuracy: 0.6623\n",
            "Epoch 6/50\n",
            "782/782 [==============================] - 10s 13ms/step - loss: 0.5261 - accuracy: 0.7221 - val_loss: 0.6073 - val_accuracy: 0.6702\n",
            "Epoch 7/50\n",
            "782/782 [==============================] - 10s 13ms/step - loss: 0.5113 - accuracy: 0.7323 - val_loss: 0.6203 - val_accuracy: 0.6691\n",
            "Epoch 8/50\n",
            "782/782 [==============================] - 10s 13ms/step - loss: 0.4986 - accuracy: 0.7394 - val_loss: 0.6351 - val_accuracy: 0.6633\n",
            "Epoch 9/50\n",
            "782/782 [==============================] - 10s 13ms/step - loss: 0.4856 - accuracy: 0.7463 - val_loss: 0.6454 - val_accuracy: 0.6659\n",
            "Epoch 10/50\n",
            "782/782 [==============================] - 10s 13ms/step - loss: 0.4753 - accuracy: 0.7501 - val_loss: 0.6524 - val_accuracy: 0.6568\n",
            "Epoch 11/50\n",
            "782/782 [==============================] - 10s 13ms/step - loss: 0.4630 - accuracy: 0.7559 - val_loss: 0.6605 - val_accuracy: 0.6490\n",
            "Epoch 12/50\n",
            "782/782 [==============================] - 10s 13ms/step - loss: 0.4524 - accuracy: 0.7651 - val_loss: 0.6983 - val_accuracy: 0.6510\n",
            "Epoch 13/50\n",
            "782/782 [==============================] - 10s 13ms/step - loss: 0.4424 - accuracy: 0.7726 - val_loss: 0.7155 - val_accuracy: 0.6470\n",
            "Epoch 14/50\n",
            "782/782 [==============================] - 10s 13ms/step - loss: 0.4311 - accuracy: 0.7772 - val_loss: 0.7291 - val_accuracy: 0.6430\n",
            "Epoch 15/50\n",
            "782/782 [==============================] - 10s 13ms/step - loss: 0.4201 - accuracy: 0.7806 - val_loss: 0.7706 - val_accuracy: 0.6403\n",
            "Epoch 16/50\n",
            "782/782 [==============================] - 10s 13ms/step - loss: 0.4081 - accuracy: 0.7887 - val_loss: 0.8111 - val_accuracy: 0.6402\n",
            "Epoch 17/50\n",
            "782/782 [==============================] - 10s 13ms/step - loss: 0.3956 - accuracy: 0.7968 - val_loss: 0.7971 - val_accuracy: 0.6305\n",
            "Epoch 18/50\n",
            "782/782 [==============================] - 10s 13ms/step - loss: 0.3819 - accuracy: 0.8061 - val_loss: 0.9003 - val_accuracy: 0.6356\n",
            "Epoch 19/50\n",
            "782/782 [==============================] - 11s 13ms/step - loss: 0.3705 - accuracy: 0.8116 - val_loss: 0.9280 - val_accuracy: 0.6249\n",
            "Epoch 20/50\n",
            "782/782 [==============================] - 10s 13ms/step - loss: 0.3579 - accuracy: 0.8175 - val_loss: 0.9627 - val_accuracy: 0.6235\n",
            "Epoch 21/50\n",
            "782/782 [==============================] - 10s 13ms/step - loss: 0.3473 - accuracy: 0.8239 - val_loss: 0.9639 - val_accuracy: 0.6187\n",
            "Epoch 22/50\n",
            "782/782 [==============================] - 10s 13ms/step - loss: 0.3344 - accuracy: 0.8318 - val_loss: 1.0470 - val_accuracy: 0.6224\n",
            "Epoch 23/50\n",
            "782/782 [==============================] - 10s 13ms/step - loss: 0.3230 - accuracy: 0.8397 - val_loss: 1.0981 - val_accuracy: 0.6195\n",
            "Epoch 24/50\n",
            "782/782 [==============================] - 10s 13ms/step - loss: 0.3150 - accuracy: 0.8425 - val_loss: 1.2147 - val_accuracy: 0.6222\n",
            "Epoch 25/50\n",
            "782/782 [==============================] - 10s 13ms/step - loss: 0.3041 - accuracy: 0.8508 - val_loss: 1.2201 - val_accuracy: 0.6234\n",
            "Epoch 26/50\n",
            "782/782 [==============================] - 10s 13ms/step - loss: 0.2932 - accuracy: 0.8568 - val_loss: 1.2345 - val_accuracy: 0.6135\n",
            "Epoch 27/50\n",
            "782/782 [==============================] - 10s 13ms/step - loss: 0.2827 - accuracy: 0.8647 - val_loss: 1.3703 - val_accuracy: 0.6236\n",
            "Epoch 28/50\n",
            "782/782 [==============================] - 10s 13ms/step - loss: 0.2761 - accuracy: 0.8681 - val_loss: 1.4080 - val_accuracy: 0.6176\n",
            "Epoch 29/50\n",
            "782/782 [==============================] - 10s 13ms/step - loss: 0.2695 - accuracy: 0.8710 - val_loss: 1.4691 - val_accuracy: 0.6142\n",
            "Epoch 30/50\n",
            "782/782 [==============================] - 10s 13ms/step - loss: 0.2607 - accuracy: 0.8766 - val_loss: 1.5154 - val_accuracy: 0.6186\n",
            "Epoch 31/50\n",
            "782/782 [==============================] - 10s 13ms/step - loss: 0.2532 - accuracy: 0.8806 - val_loss: 1.5982 - val_accuracy: 0.6159\n",
            "Epoch 32/50\n",
            "782/782 [==============================] - 10s 13ms/step - loss: 0.2459 - accuracy: 0.8866 - val_loss: 1.6405 - val_accuracy: 0.6202\n",
            "Epoch 33/50\n",
            "782/782 [==============================] - 10s 13ms/step - loss: 0.2380 - accuracy: 0.8912 - val_loss: 1.7168 - val_accuracy: 0.6174\n",
            "Epoch 34/50\n",
            "782/782 [==============================] - 10s 13ms/step - loss: 0.2336 - accuracy: 0.8937 - val_loss: 1.7494 - val_accuracy: 0.6211\n",
            "Epoch 35/50\n",
            "782/782 [==============================] - 10s 13ms/step - loss: 0.2252 - accuracy: 0.8973 - val_loss: 1.9103 - val_accuracy: 0.6190\n",
            "Epoch 36/50\n",
            "782/782 [==============================] - 10s 13ms/step - loss: 0.2218 - accuracy: 0.8996 - val_loss: 1.8260 - val_accuracy: 0.6139\n",
            "Epoch 37/50\n",
            "782/782 [==============================] - 10s 13ms/step - loss: 0.2157 - accuracy: 0.9042 - val_loss: 1.9334 - val_accuracy: 0.6172\n",
            "Epoch 38/50\n",
            "782/782 [==============================] - 10s 13ms/step - loss: 0.2106 - accuracy: 0.9080 - val_loss: 1.9808 - val_accuracy: 0.6147\n",
            "Epoch 39/50\n",
            "782/782 [==============================] - 10s 13ms/step - loss: 0.2057 - accuracy: 0.9104 - val_loss: 2.0275 - val_accuracy: 0.6188\n",
            "Epoch 40/50\n",
            "782/782 [==============================] - 10s 13ms/step - loss: 0.2010 - accuracy: 0.9129 - val_loss: 1.9831 - val_accuracy: 0.6135\n",
            "Epoch 41/50\n",
            "782/782 [==============================] - 10s 13ms/step - loss: 0.1927 - accuracy: 0.9182 - val_loss: 2.1158 - val_accuracy: 0.6156\n",
            "Epoch 42/50\n",
            "782/782 [==============================] - 10s 13ms/step - loss: 0.1903 - accuracy: 0.9181 - val_loss: 2.2928 - val_accuracy: 0.6196\n",
            "Epoch 43/50\n",
            "782/782 [==============================] - 10s 13ms/step - loss: 0.1869 - accuracy: 0.9201 - val_loss: 2.3200 - val_accuracy: 0.6166\n",
            "Epoch 44/50\n",
            "782/782 [==============================] - 10s 13ms/step - loss: 0.1818 - accuracy: 0.9235 - val_loss: 2.2875 - val_accuracy: 0.6205\n",
            "Epoch 45/50\n",
            "782/782 [==============================] - 10s 13ms/step - loss: 0.1768 - accuracy: 0.9254 - val_loss: 2.2885 - val_accuracy: 0.6181\n",
            "Epoch 46/50\n",
            "782/782 [==============================] - 10s 13ms/step - loss: 0.1716 - accuracy: 0.9286 - val_loss: 2.3722 - val_accuracy: 0.6166\n",
            "Epoch 47/50\n",
            "782/782 [==============================] - 10s 13ms/step - loss: 0.1703 - accuracy: 0.9304 - val_loss: 2.3294 - val_accuracy: 0.6119\n",
            "Epoch 48/50\n",
            "782/782 [==============================] - 10s 13ms/step - loss: 0.1652 - accuracy: 0.9309 - val_loss: 2.3641 - val_accuracy: 0.6148\n",
            "Epoch 49/50\n",
            "782/782 [==============================] - 10s 13ms/step - loss: 0.1686 - accuracy: 0.9308 - val_loss: 2.4129 - val_accuracy: 0.6144\n",
            "Epoch 50/50\n",
            "782/782 [==============================] - 10s 13ms/step - loss: 0.1531 - accuracy: 0.9392 - val_loss: 2.6073 - val_accuracy: 0.6171\n"
          ],
          "name": "stdout"
        }
      ]
    },
    {
      "cell_type": "code",
      "metadata": {
        "id": "TJzO15MPPsHh",
        "colab_type": "code",
        "colab": {
          "base_uri": "https://localhost:8080/",
          "height": 542
        },
        "outputId": "7f2172e7-a4df-4b58-b59e-7a759b819309"
      },
      "source": [
        "plot_graphs(history, 'accuracy')\n",
        "plot_graphs(history, 'loss')"
      ],
      "execution_count": 14,
      "outputs": [
        {
          "output_type": "display_data",
          "data": {
            "image/png": "[encoded data removed]",
            "text/plain": [
              "<Figure size 432x288 with 1 Axes>"
            ]
          },
          "metadata": {
            "tags": [],
            "needs_background": "light"
          }
        },
        {
          "output_type": "display_data",
          "data": {
            "image/png": "[encoded data removed]",
            "text/plain": [
              "<Figure size 432x288 with 1 Axes>"
            ]
          },
          "metadata": {
            "tags": [],
            "needs_background": "light"
          }
        }
      ]
    },
    {
      "cell_type": "code",
      "metadata": {
        "id": "XLtCV0HZQRC6",
        "colab_type": "code",
        "colab": {}
      },
      "source": [
        "model.save('imdb.h5')"
      ],
      "execution_count": 15,
      "outputs": []
    },
    {
      "cell_type": "code",
      "metadata": {
        "id": "3kAjVQJvQU_z",
        "colab_type": "code",
        "colab": {
          "base_uri": "https://localhost:8080/",
          "height": 34
        },
        "outputId": "434b16af-e265-4e6c-ef31-232bc75e0b4a"
      },
      "source": [
        "import os\n",
        "print(str(os.path.getsize('./imdb.h5')/1000000) + 'MB')"
      ],
      "execution_count": 16,
      "outputs": [
        {
          "output_type": "stream",
          "text": [
            "0.366888MB\n"
          ],
          "name": "stdout"
        }
      ]
    },
    {
      "cell_type": "markdown",
      "metadata": {
        "id": "erhuDoyLP1lI",
        "colab_type": "text"
      },
      "source": [
        "**Model Hybrid** "
      ]
    },
    {
      "cell_type": "code",
      "metadata": {
        "id": "hl1CBwxtQaED",
        "colab_type": "code",
        "colab": {
          "base_uri": "https://localhost:8080/",
          "height": 323
        },
        "outputId": "baa6b19b-dd64-43e6-d600-5ea444f166b1"
      },
      "source": [
        "model = tf.keras.Sequential([\n",
        "    tf.keras.layers.Embedding(vocab_size, embedding_dim, input_length=max_length),\n",
        "    tf.keras.layers.Conv1D(64, 5, activation='relu'),\n",
        "    tf.keras.layers.MaxPooling1D(pool_size=4),\n",
        "    tf.keras.layers.LSTM(64),\n",
        "    tf.keras.layers.Dense(1, activation='sigmoid')\n",
        "])\n",
        "model.compile(loss='binary_crossentropy',optimizer='adam',metrics=['accuracy'])\n",
        "model.summary()"
      ],
      "execution_count": 17,
      "outputs": [
        {
          "output_type": "stream",
          "text": [
            "Model: \"sequential_2\"\n",
            "_________________________________________________________________\n",
            "Layer (type)                 Output Shape              Param #   \n",
            "=================================================================\n",
            "embedding_2 (Embedding)      (None, 16, 16)            16000     \n",
            "_________________________________________________________________\n",
            "conv1d (Conv1D)              (None, 12, 64)            5184      \n",
            "_________________________________________________________________\n",
            "max_pooling1d (MaxPooling1D) (None, 3, 64)             0         \n",
            "_________________________________________________________________\n",
            "lstm_2 (LSTM)                (None, 64)                33024     \n",
            "_________________________________________________________________\n",
            "dense_4 (Dense)              (None, 1)                 65        \n",
            "=================================================================\n",
            "Total params: 54,273\n",
            "Trainable params: 54,273\n",
            "Non-trainable params: 0\n",
            "_________________________________________________________________\n"
          ],
          "name": "stdout"
        }
      ]
    },
    {
      "cell_type": "code",
      "metadata": {
        "id": "xPjvQxmATeNy",
        "colab_type": "code",
        "colab": {
          "base_uri": "https://localhost:8080/",
          "height": 357
        },
        "outputId": "d7807cb9-457f-43b3-96a6-fd5552249df6"
      },
      "source": [
        "num_epochs = 10\n",
        "history = model.fit(padded, training_labels_final, epochs=num_epochs, validation_data=(testing_padded, testing_labels_final))"
      ],
      "execution_count": 18,
      "outputs": [
        {
          "output_type": "stream",
          "text": [
            "Epoch 1/10\n",
            "782/782 [==============================] - 5s 6ms/step - loss: 0.6266 - accuracy: 0.6312 - val_loss: 0.5912 - val_accuracy: 0.6686\n",
            "Epoch 2/10\n",
            "782/782 [==============================] - 5s 6ms/step - loss: 0.5748 - accuracy: 0.6896 - val_loss: 0.5812 - val_accuracy: 0.6796\n",
            "Epoch 3/10\n",
            "782/782 [==============================] - 5s 6ms/step - loss: 0.5493 - accuracy: 0.7120 - val_loss: 0.5880 - val_accuracy: 0.6768\n",
            "Epoch 4/10\n",
            "782/782 [==============================] - 5s 6ms/step - loss: 0.5134 - accuracy: 0.7397 - val_loss: 0.6126 - val_accuracy: 0.6710\n",
            "Epoch 5/10\n",
            "782/782 [==============================] - 5s 6ms/step - loss: 0.4682 - accuracy: 0.7679 - val_loss: 0.6564 - val_accuracy: 0.6582\n",
            "Epoch 6/10\n",
            "782/782 [==============================] - 5s 6ms/step - loss: 0.4226 - accuracy: 0.7961 - val_loss: 0.7269 - val_accuracy: 0.6521\n",
            "Epoch 7/10\n",
            "782/782 [==============================] - 5s 6ms/step - loss: 0.3760 - accuracy: 0.8255 - val_loss: 0.7462 - val_accuracy: 0.6473\n",
            "Epoch 8/10\n",
            "782/782 [==============================] - 5s 6ms/step - loss: 0.3345 - accuracy: 0.8471 - val_loss: 0.8496 - val_accuracy: 0.6458\n",
            "Epoch 9/10\n",
            "782/782 [==============================] - 5s 6ms/step - loss: 0.2988 - accuracy: 0.8670 - val_loss: 0.9444 - val_accuracy: 0.6399\n",
            "Epoch 10/10\n",
            "782/782 [==============================] - 5s 6ms/step - loss: 0.2669 - accuracy: 0.8837 - val_loss: 0.9737 - val_accuracy: 0.6331\n"
          ],
          "name": "stdout"
        }
      ]
    },
    {
      "cell_type": "code",
      "metadata": {
        "id": "ZC61D4dUToJA",
        "colab_type": "code",
        "colab": {}
      },
      "source": [
        "model.save('imdb_2.h5')"
      ],
      "execution_count": 19,
      "outputs": []
    },
    {
      "cell_type": "code",
      "metadata": {
        "id": "bls1c0umXD60",
        "colab_type": "code",
        "colab": {
          "base_uri": "https://localhost:8080/",
          "height": 34
        },
        "outputId": "d02ed329-6e16-47c5-ee64-48a7ca16f0ef"
      },
      "source": [
        "import os\n",
        "print(str(os.path.getsize('./imdb_2.h5')/1000000) + 'MB')"
      ],
      "execution_count": 20,
      "outputs": [
        {
          "output_type": "stream",
          "text": [
            "0.692872MB\n"
          ],
          "name": "stdout"
        }
      ]
    },
    {
      "cell_type": "code",
      "metadata": {
        "id": "Th_7yVo5ZH9P",
        "colab_type": "code",
        "colab": {
          "base_uri": "https://localhost:8080/",
          "height": 543
        },
        "outputId": "325955af-8924-45b0-d157-5f57cabbe5bc"
      },
      "source": [
        "plot_graphs(history, 'accuracy')\n",
        "plot_graphs(history, 'loss')"
      ],
      "execution_count": 21,
      "outputs": [
        {
          "output_type": "display_data",
          "data": {
            "image/png": "[encoded data removed]",
            "text/plain": [
              "<Figure size 432x288 with 1 Axes>"
            ]
          },
          "metadata": {
            "tags": [],
            "needs_background": "light"
          }
        },
        {
          "output_type": "display_data",
          "data": {
            "image/png": "[encoded data removed]",
            "text/plain": [
              "<Figure size 432x288 with 1 Axes>"
            ]
          },
          "metadata": {
            "tags": [],
            "needs_background": "light"
          }
        }
      ]
    },
    {
      "cell_type": "markdown",
      "metadata": {
        "id": "l275VMUACujk",
        "colab_type": "text"
      },
      "source": [
        "**Model Hybrid**"
      ]
    },
    {
      "cell_type": "code",
      "metadata": {
        "id": "KRmxn2dbEKXy",
        "colab_type": "code",
        "colab": {}
      },
      "source": [
        "embedding_dim = 100\n",
        "max_length = 120\n",
        "trunc_type='post'\n",
        "padding_type='post'\n",
        "oov_tok = \"<OOV>\"\n",
        "\n",
        "\n",
        "from tensorflow.keras.preprocessing.text import Tokenizer\n",
        "from tensorflow.keras.preprocessing.sequence import pad_sequences\n",
        "\n",
        "tokenizer = Tokenizer()\n",
        "tokenizer.fit_on_texts(training_sentences)\n",
        "\n",
        "word_index = tokenizer.word_index\n",
        "vocab_size=len(word_index)\n",
        "\n",
        "sequences = tokenizer.texts_to_sequences(training_sentences)\n",
        "padded = pad_sequences(sequences, maxlen=max_length, padding=padding_type, truncating=trunc_type)\n",
        "\n",
        "testing_sequences = tokenizer.texts_to_sequences(testing_sentences)\n",
        "testing_padded = pad_sequences(testing_sequences,  maxlen=max_length, padding=padding_type, truncating=trunc_type)"
      ],
      "execution_count": 22,
      "outputs": []
    },
    {
      "cell_type": "code",
      "metadata": {
        "id": "Q6cOqpl9Gpc2",
        "colab_type": "code",
        "colab": {
          "base_uri": "https://localhost:8080/",
          "height": 34
        },
        "outputId": "446a1532-a62e-4cb7-c336-df1a36a03c09"
      },
      "source": [
        "vocab_size"
      ],
      "execution_count": 23,
      "outputs": [
        {
          "output_type": "execute_result",
          "data": {
            "text/plain": [
              "88582"
            ]
          },
          "metadata": {
            "tags": []
          },
          "execution_count": 23
        }
      ]
    },
    {
      "cell_type": "code",
      "metadata": {
        "id": "-2efKiQoaLO8",
        "colab_type": "code",
        "colab": {
          "base_uri": "https://localhost:8080/",
          "height": 204
        },
        "outputId": "b0c3cdd1-081f-446b-877c-118b10e0a87c"
      },
      "source": [
        "# Note this is the 100 dimension version of GloVe from Stanford\n",
        "# I unzipped and hosted it on my site to make this notebook easier\n",
        "!wget --no-check-certificate \\\n",
        "    https://storage.googleapis.com/laurencemoroney-blog.appspot.com/glove.6B.100d.txt \\\n",
        "    -O /tmp/glove.6B.100d.txt\n",
        "embeddings_index = {};\n",
        "with open('/tmp/glove.6B.100d.txt') as f:\n",
        "    for line in f:\n",
        "        values = line.split();\n",
        "        word = values[0];\n",
        "        coefs = np.asarray(values[1:], dtype='float32');\n",
        "        embeddings_index[word] = coefs;\n",
        "\n",
        "embeddings_matrix = np.zeros((vocab_size+1, embedding_dim));\n",
        "for word, i in word_index.items():\n",
        "    embedding_vector = embeddings_index.get(word);\n",
        "    if embedding_vector is not None:\n",
        "        embeddings_matrix[i] = embedding_vector;"
      ],
      "execution_count": 24,
      "outputs": [
        {
          "output_type": "stream",
          "text": [
            "--2020-08-09 17:07:41--  https://storage.googleapis.com/laurencemoroney-blog.appspot.com/glove.6B.100d.txt\n",
            "Resolving storage.googleapis.com (storage.googleapis.com)... 173.194.194.128, 209.85.145.128, 172.217.212.128, ...\n",
            "Connecting to storage.googleapis.com (storage.googleapis.com)|173.194.194.128|:443... connected.\n",
            "HTTP request sent, awaiting response... 200 OK\n",
            "Length: 347116733 (331M) [text/plain]\n",
            "Saving to: ‘/tmp/glove.6B.100d.txt’\n",
            "\n",
            "/tmp/glove.6B.100d. 100%[===================>] 331.04M   104MB/s    in 3.2s    \n",
            "\n",
            "2020-08-09 17:07:44 (104 MB/s) - ‘/tmp/glove.6B.100d.txt’ saved [347116733/347116733]\n",
            "\n"
          ],
          "name": "stdout"
        }
      ]
    },
    {
      "cell_type": "code",
      "metadata": {
        "id": "IGFcq1_PDWRg",
        "colab_type": "code",
        "colab": {
          "base_uri": "https://localhost:8080/",
          "height": 357
        },
        "outputId": "87a1add8-a3e5-4052-fbd0-437ae5e86959"
      },
      "source": [
        "model = tf.keras.Sequential([\n",
        "    tf.keras.layers.Embedding(vocab_size+1, embedding_dim, input_length=max_length, weights=[embeddings_matrix], trainable=False),\n",
        "    tf.keras.layers.Dropout(0.2),\n",
        "    tf.keras.layers.Conv1D(64, 5, activation='relu'),\n",
        "    tf.keras.layers.MaxPooling1D(pool_size=4),\n",
        "    tf.keras.layers.LSTM(64),\n",
        "    tf.keras.layers.Dense(1, activation='sigmoid')\n",
        "])\n",
        "model.compile(loss='binary_crossentropy',optimizer='adam',metrics=['accuracy'])\n",
        "model.summary()"
      ],
      "execution_count": 25,
      "outputs": [
        {
          "output_type": "stream",
          "text": [
            "Model: \"sequential_3\"\n",
            "_________________________________________________________________\n",
            "Layer (type)                 Output Shape              Param #   \n",
            "=================================================================\n",
            "embedding_3 (Embedding)      (None, 120, 100)          8858300   \n",
            "_________________________________________________________________\n",
            "dropout (Dropout)            (None, 120, 100)          0         \n",
            "_________________________________________________________________\n",
            "conv1d_1 (Conv1D)            (None, 116, 64)           32064     \n",
            "_________________________________________________________________\n",
            "max_pooling1d_1 (MaxPooling1 (None, 29, 64)            0         \n",
            "_________________________________________________________________\n",
            "lstm_3 (LSTM)                (None, 64)                33024     \n",
            "_________________________________________________________________\n",
            "dense_5 (Dense)              (None, 1)                 65        \n",
            "=================================================================\n",
            "Total params: 8,923,453\n",
            "Trainable params: 65,153\n",
            "Non-trainable params: 8,858,300\n",
            "_________________________________________________________________\n"
          ],
          "name": "stdout"
        }
      ]
    },
    {
      "cell_type": "code",
      "metadata": {
        "id": "C2HiGQR6Gybg",
        "colab_type": "code",
        "colab": {
          "base_uri": "https://localhost:8080/",
          "height": 1000
        },
        "outputId": "fb215d86-6ff9-435d-8100-0c61a14e9045"
      },
      "source": [
        "num_epochs = 30\n",
        "history = model.fit(padded, training_labels_final, epochs=num_epochs, validation_data=(testing_padded, testing_labels_final))"
      ],
      "execution_count": 26,
      "outputs": [
        {
          "output_type": "stream",
          "text": [
            "Epoch 1/30\n",
            "782/782 [==============================] - 39s 49ms/step - loss: 0.5562 - accuracy: 0.7065 - val_loss: 0.4498 - val_accuracy: 0.7879\n",
            "Epoch 2/30\n",
            "782/782 [==============================] - 39s 49ms/step - loss: 0.4484 - accuracy: 0.7884 - val_loss: 0.4367 - val_accuracy: 0.7920\n",
            "Epoch 3/30\n",
            "782/782 [==============================] - 39s 49ms/step - loss: 0.4151 - accuracy: 0.8091 - val_loss: 0.3897 - val_accuracy: 0.8204\n",
            "Epoch 4/30\n",
            "782/782 [==============================] - 39s 49ms/step - loss: 0.3868 - accuracy: 0.8244 - val_loss: 0.3803 - val_accuracy: 0.8263\n",
            "Epoch 5/30\n",
            "782/782 [==============================] - 39s 49ms/step - loss: 0.3698 - accuracy: 0.8323 - val_loss: 0.4069 - val_accuracy: 0.8073\n",
            "Epoch 6/30\n",
            "782/782 [==============================] - 39s 50ms/step - loss: 0.3497 - accuracy: 0.8440 - val_loss: 0.3754 - val_accuracy: 0.8325\n",
            "Epoch 7/30\n",
            "782/782 [==============================] - 39s 50ms/step - loss: 0.3364 - accuracy: 0.8508 - val_loss: 0.3825 - val_accuracy: 0.8248\n",
            "Epoch 8/30\n",
            "782/782 [==============================] - 39s 49ms/step - loss: 0.3218 - accuracy: 0.8583 - val_loss: 0.3874 - val_accuracy: 0.8295\n",
            "Epoch 9/30\n",
            "782/782 [==============================] - 39s 50ms/step - loss: 0.3101 - accuracy: 0.8653 - val_loss: 0.4518 - val_accuracy: 0.8054\n",
            "Epoch 10/30\n",
            "782/782 [==============================] - 39s 50ms/step - loss: 0.2885 - accuracy: 0.8777 - val_loss: 0.4104 - val_accuracy: 0.8190\n",
            "Epoch 11/30\n",
            "782/782 [==============================] - 39s 50ms/step - loss: 0.2779 - accuracy: 0.8818 - val_loss: 0.4659 - val_accuracy: 0.8094\n",
            "Epoch 12/30\n",
            "782/782 [==============================] - 39s 50ms/step - loss: 0.2697 - accuracy: 0.8853 - val_loss: 0.3955 - val_accuracy: 0.8274\n",
            "Epoch 13/30\n",
            "782/782 [==============================] - 39s 50ms/step - loss: 0.2588 - accuracy: 0.8893 - val_loss: 0.4235 - val_accuracy: 0.8199\n",
            "Epoch 14/30\n",
            "782/782 [==============================] - 39s 50ms/step - loss: 0.2433 - accuracy: 0.8979 - val_loss: 0.4298 - val_accuracy: 0.8229\n",
            "Epoch 15/30\n",
            "782/782 [==============================] - 39s 50ms/step - loss: 0.2362 - accuracy: 0.9006 - val_loss: 0.4340 - val_accuracy: 0.8183\n",
            "Epoch 16/30\n",
            "782/782 [==============================] - 38s 49ms/step - loss: 0.2258 - accuracy: 0.9071 - val_loss: 0.4659 - val_accuracy: 0.8219\n",
            "Epoch 17/30\n",
            "782/782 [==============================] - 38s 49ms/step - loss: 0.2169 - accuracy: 0.9097 - val_loss: 0.4726 - val_accuracy: 0.8182\n",
            "Epoch 18/30\n",
            "782/782 [==============================] - 39s 49ms/step - loss: 0.2133 - accuracy: 0.9106 - val_loss: 0.4618 - val_accuracy: 0.8206\n",
            "Epoch 19/30\n",
            "782/782 [==============================] - 38s 49ms/step - loss: 0.2090 - accuracy: 0.9129 - val_loss: 0.4790 - val_accuracy: 0.8160\n",
            "Epoch 20/30\n",
            "782/782 [==============================] - 39s 50ms/step - loss: 0.1944 - accuracy: 0.9201 - val_loss: 0.4805 - val_accuracy: 0.8231\n",
            "Epoch 21/30\n",
            "782/782 [==============================] - 39s 49ms/step - loss: 0.1962 - accuracy: 0.9192 - val_loss: 0.5095 - val_accuracy: 0.8182\n",
            "Epoch 22/30\n",
            "782/782 [==============================] - 39s 50ms/step - loss: 0.1851 - accuracy: 0.9237 - val_loss: 0.5103 - val_accuracy: 0.8238\n",
            "Epoch 23/30\n",
            "782/782 [==============================] - 41s 53ms/step - loss: 0.1791 - accuracy: 0.9273 - val_loss: 0.4880 - val_accuracy: 0.8172\n",
            "Epoch 24/30\n",
            "782/782 [==============================] - 39s 50ms/step - loss: 0.1740 - accuracy: 0.9294 - val_loss: 0.5137 - val_accuracy: 0.8159\n",
            "Epoch 25/30\n",
            "782/782 [==============================] - 39s 50ms/step - loss: 0.1693 - accuracy: 0.9293 - val_loss: 0.5044 - val_accuracy: 0.8192\n",
            "Epoch 26/30\n",
            "782/782 [==============================] - 39s 50ms/step - loss: 0.1629 - accuracy: 0.9349 - val_loss: 0.5171 - val_accuracy: 0.8176\n",
            "Epoch 27/30\n",
            "782/782 [==============================] - 39s 50ms/step - loss: 0.1659 - accuracy: 0.9319 - val_loss: 0.5026 - val_accuracy: 0.8176\n",
            "Epoch 28/30\n",
            "782/782 [==============================] - 39s 50ms/step - loss: 0.1564 - accuracy: 0.9374 - val_loss: 0.5090 - val_accuracy: 0.8124\n",
            "Epoch 29/30\n",
            "782/782 [==============================] - 39s 50ms/step - loss: 0.1525 - accuracy: 0.9408 - val_loss: 0.5562 - val_accuracy: 0.8147\n",
            "Epoch 30/30\n",
            "782/782 [==============================] - 40s 51ms/step - loss: 0.1558 - accuracy: 0.9363 - val_loss: 0.5730 - val_accuracy: 0.8099\n"
          ],
          "name": "stdout"
        }
      ]
    },
    {
      "cell_type": "code",
      "metadata": {
        "id": "YKM5GHK1G9BA",
        "colab_type": "code",
        "colab": {
          "base_uri": "https://localhost:8080/",
          "height": 543
        },
        "outputId": "7aef7101-809b-4d79-ffd6-67751fe4f6f5"
      },
      "source": [
        "plot_graphs(history, 'accuracy')\n",
        "plot_graphs(history, 'loss')"
      ],
      "execution_count": 27,
      "outputs": [
        {
          "output_type": "display_data",
          "data": {
            "image/png": "[encoded data removed]",
            "text/plain": [
              "<Figure size 432x288 with 1 Axes>"
            ]
          },
          "metadata": {
            "tags": [],
            "needs_background": "light"
          }
        },
        {
          "output_type": "display_data",
          "data": {
            "image/png": "[encoded data removed]",
            "text/plain": [
              "<Figure size 432x288 with 1 Axes>"
            ]
          },
          "metadata": {
            "tags": [],
            "needs_background": "light"
          }
        }
      ]
    },
    {
      "cell_type": "code",
      "metadata": {
        "id": "ZhDyhkldNtPO",
        "colab_type": "code",
        "colab": {}
      },
      "source": [
        "model.save('imdb_3.h5')"
      ],
      "execution_count": 28,
      "outputs": []
    },
    {
      "cell_type": "code",
      "metadata": {
        "id": "gHp8srg9Tzbz",
        "colab_type": "code",
        "colab": {
          "base_uri": "https://localhost:8080/",
          "height": 34
        },
        "outputId": "7de7a22b-535e-46c4-8c15-4629c5114951"
      },
      "source": [
        "import os\n",
        "print(str(os.path.getsize('./imdb_3.h5')/1000000) + 'MB')"
      ],
      "execution_count": 30,
      "outputs": [
        {
          "output_type": "stream",
          "text": [
            "36.255184MB\n"
          ],
          "name": "stdout"
        }
      ]
    },
    {
      "cell_type": "code",
      "metadata": {
        "id": "KYE2hmJGT2_C",
        "colab_type": "code",
        "colab": {}
      },
      "source": [
        ""
      ],
      "execution_count": null,
      "outputs": []
    }
  ]
}