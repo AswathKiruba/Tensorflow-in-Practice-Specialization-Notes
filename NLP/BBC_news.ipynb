{
  "nbformat": 4,
  "nbformat_minor": 0,
  "metadata": {
    "colab": {
      "name": "BBC news.ipynb",
      "provenance": [],
      "collapsed_sections": []
    },
    "kernelspec": {
      "name": "python3",
      "display_name": "Python 3"
    }
  },
  "cells": [
    {
      "cell_type": "code",
      "metadata": {
        "id": "LkzQxnmOrGhq",
        "colab_type": "code",
        "colab": {}
      },
      "source": [
        "import csv\n",
        "import tensorflow as tf\n",
        "import numpy as np\n",
        "from tensorflow.keras.preprocessing.text import Tokenizer\n",
        "from tensorflow.keras.preprocessing.sequence import pad_sequences"
      ],
      "execution_count": 1,
      "outputs": []
    },
    {
      "cell_type": "code",
      "metadata": {
        "id": "s0bKR8ZNsCw4",
        "colab_type": "code",
        "colab": {
          "base_uri": "https://localhost:8080/",
          "height": 204
        },
        "outputId": "708e5380-6f88-455a-e158-6d3208640b0e"
      },
      "source": [
        "#download bbc text\n",
        "!wget --no-check-certificate \\\n",
        "    https://storage.googleapis.com/laurencemoroney-blog.appspot.com/bbc-text.csv \\\n",
        "    -O /tmp/bbc-text.csv"
      ],
      "execution_count": 2,
      "outputs": [
        {
          "output_type": "stream",
          "text": [
            "--2020-08-11 19:14:56--  https://storage.googleapis.com/laurencemoroney-blog.appspot.com/bbc-text.csv\n",
            "Resolving storage.googleapis.com (storage.googleapis.com)... 74.125.203.128, 74.125.204.128, 64.233.187.128, ...\n",
            "Connecting to storage.googleapis.com (storage.googleapis.com)|74.125.203.128|:443... connected.\n",
            "HTTP request sent, awaiting response... 200 OK\n",
            "Length: 5057493 (4.8M) [application/octet-stream]\n",
            "Saving to: ‘/tmp/bbc-text.csv’\n",
            "\n",
            "\r/tmp/bbc-text.csv     0%[                    ]       0  --.-KB/s               \r/tmp/bbc-text.csv    83%[===============>    ]   4.01M  18.4MB/s               \r/tmp/bbc-text.csv   100%[===================>]   4.82M  21.7MB/s    in 0.2s    \n",
            "\n",
            "2020-08-11 19:14:57 (21.7 MB/s) - ‘/tmp/bbc-text.csv’ saved [5057493/5057493]\n",
            "\n"
          ],
          "name": "stdout"
        }
      ]
    },
    {
      "cell_type": "code",
      "metadata": {
        "id": "U-qSz1fysGtT",
        "colab_type": "code",
        "colab": {}
      },
      "source": [
        "#parameters\n",
        "\n",
        "vocab_size = 1000\n",
        "embedding_dim = 16\n",
        "max_length = 120\n",
        "trunc_type='post'\n",
        "padding_type='post'\n",
        "oov_tok = \"<OOV>\"\n",
        "training_portion = .8"
      ],
      "execution_count": 3,
      "outputs": []
    },
    {
      "cell_type": "code",
      "metadata": {
        "id": "JA2DRaYfsPF0",
        "colab_type": "code",
        "colab": {
          "base_uri": "https://localhost:8080/",
          "height": 34
        },
        "outputId": "2af8119f-0b3b-4b0d-dc17-6d9a5ce092ee"
      },
      "source": [
        "sentences = []\n",
        "labels = []\n",
        "stopwords = [ \"a\", \"about\", \"above\", \"after\", \"again\", \"against\", \"all\", \"am\", \"an\", \"and\", \"any\", \"are\", \"as\", \"at\", \"be\", \"because\", \"been\", \"before\", \"being\", \"below\", \"between\", \"both\", \"but\", \"by\", \"could\", \"did\", \"do\", \"does\", \"doing\", \"down\", \"during\", \"each\", \"few\", \"for\", \"from\", \"further\", \"had\", \"has\", \"have\", \"having\", \"he\", \"he'd\", \"he'll\", \"he's\", \"her\", \"here\", \"here's\", \"hers\", \"herself\", \"him\", \"himself\", \"his\", \"how\", \"how's\", \"i\", \"i'd\", \"i'll\", \"i'm\", \"i've\", \"if\", \"in\", \"into\", \"is\", \"it\", \"it's\", \"its\", \"itself\", \"let's\", \"me\", \"more\", \"most\", \"my\", \"myself\", \"nor\", \"of\", \"on\", \"once\", \"only\", \"or\", \"other\", \"ought\", \"our\", \"ours\", \"ourselves\", \"out\", \"over\", \"own\", \"same\", \"she\", \"she'd\", \"she'll\", \"she's\", \"should\", \"so\", \"some\", \"such\", \"than\", \"that\", \"that's\", \"the\", \"their\", \"theirs\", \"them\", \"themselves\", \"then\", \"there\", \"there's\", \"these\", \"they\", \"they'd\", \"they'll\", \"they're\", \"they've\", \"this\", \"those\", \"through\", \"to\", \"too\", \"under\", \"until\", \"up\", \"very\", \"was\", \"we\", \"we'd\", \"we'll\", \"we're\", \"we've\", \"were\", \"what\", \"what's\", \"when\", \"when's\", \"where\", \"where's\", \"which\", \"while\", \"who\", \"who's\", \"whom\", \"why\", \"why's\", \"with\", \"would\", \"you\", \"you'd\", \"you'll\", \"you're\", \"you've\", \"your\", \"yours\", \"yourself\", \"yourselves\" ]\n",
        "print(len(stopwords))"
      ],
      "execution_count": 4,
      "outputs": [
        {
          "output_type": "stream",
          "text": [
            "153\n"
          ],
          "name": "stdout"
        }
      ]
    },
    {
      "cell_type": "code",
      "metadata": {
        "id": "ehAjN3cmsQqd",
        "colab_type": "code",
        "colab": {}
      },
      "source": [
        "with open(\"/tmp/bbc-text.csv\", 'r') as csvfile:\n",
        "    reader = csv.reader(csvfile, delimiter=',')\n",
        "    next(reader) #skipping the columns\n",
        "    for row in reader:\n",
        "        labels.append(row[0])\n",
        "        sentence = row[1]\n",
        "        for word in stopwords:\n",
        "            token = \" \" + word + \" \"\n",
        "            sentence = sentence.replace(token, \" \")\n",
        "        sentences.append(sentence)"
      ],
      "execution_count": 5,
      "outputs": []
    },
    {
      "cell_type": "code",
      "metadata": {
        "id": "riFJ9kOGsbfN",
        "colab_type": "code",
        "colab": {
          "base_uri": "https://localhost:8080/",
          "height": 88
        },
        "outputId": "af565e77-f345-4c69-b82a-8c5fcd2a9418"
      },
      "source": [
        "print(len(labels))\n",
        "print(len(sentences))\n",
        "print(sentences[0])"
      ],
      "execution_count": 6,
      "outputs": [
        {
          "output_type": "stream",
          "text": [
            "2225\n",
            "2225\n",
            "tv future hands viewers home theatre systems  plasma high-definition tvs  digital video recorders moving living room  way people watch tv will radically different five years  time.  according expert panel gathered annual consumer electronics show las vegas discuss new technologies will impact one favourite pastimes. us leading trend  programmes content will delivered viewers via home networks  cable  satellite  telecoms companies  broadband service providers front rooms portable devices.  one talked-about technologies ces digital personal video recorders (dvr pvr). set-top boxes  like us s tivo uk s sky+ system  allow people record  store  play  pause forward wind tv programmes want.  essentially  technology allows much personalised tv. also built-in high-definition tv sets  big business japan us  slower take off europe lack high-definition programming. not can people forward wind adverts  can also forget abiding network channel schedules  putting together a-la-carte entertainment. us networks cable satellite companies worried means terms advertising revenues well  brand identity  viewer loyalty channels. although us leads technology moment  also concern raised europe  particularly growing uptake services like sky+.  happens today  will see nine months years  time uk   adam hume  bbc broadcast s futurologist told bbc news website. likes bbc  no issues lost advertising revenue yet. pressing issue moment commercial uk broadcasters  brand loyalty important everyone.  will talking content brands rather network brands   said tim hanlon  brand communications firm starcom mediavest.  reality broadband connections  anybody can producer content.  added:  challenge now hard promote programme much choice.   means  said stacey jolna  senior vice president tv guide tv group  way people find content want watch simplified tv viewers. means networks  us terms  channels take leaf google s book search engine future  instead scheduler help people find want watch. kind channel model might work younger ipod generation used taking control gadgets play them. might not suit everyone  panel recognised. older generations comfortable familiar schedules channel brands know getting. perhaps not want much choice put hands  mr hanlon suggested.  end  kids just diapers pushing buttons already - everything possible available   said mr hanlon.  ultimately  consumer will tell market want.   50 000 new gadgets technologies showcased ces  many enhancing tv-watching experience. high-definition tv sets everywhere many new models lcd (liquid crystal display) tvs launched dvr capability built  instead external boxes. one example launched show humax s 26-inch lcd tv 80-hour tivo dvr dvd recorder. one us s biggest satellite tv companies  directtv  even launched branded dvr show 100-hours recording capability  instant replay  search function. set can pause rewind tv 90 hours. microsoft chief bill gates announced pre-show keynote speech partnership tivo  called tivotogo  means people can play recorded programmes windows pcs mobile devices. reflect increasing trend freeing multimedia people can watch want  want.\n"
          ],
          "name": "stdout"
        }
      ]
    },
    {
      "cell_type": "code",
      "metadata": {
        "id": "5JmQyWl4shpF",
        "colab_type": "code",
        "colab": {
          "base_uri": "https://localhost:8080/",
          "height": 102
        },
        "outputId": "ccefc129-61f8-485c-8897-835fdc686a59"
      },
      "source": [
        "train_size = int(len(sentences) * training_portion)\n",
        "\n",
        "train_sentences = sentences[:train_size]\n",
        "train_labels = labels[:train_size]\n",
        "\n",
        "validation_sentences = sentences[train_size:]\n",
        "validation_labels = labels[train_size:]\n",
        "\n",
        "print(train_size)\n",
        "print(len(train_sentences))\n",
        "print(len(train_labels))\n",
        "print(len(validation_sentences))\n",
        "print(len(validation_labels))"
      ],
      "execution_count": 7,
      "outputs": [
        {
          "output_type": "stream",
          "text": [
            "1780\n",
            "1780\n",
            "1780\n",
            "445\n",
            "445\n"
          ],
          "name": "stdout"
        }
      ]
    },
    {
      "cell_type": "code",
      "metadata": {
        "id": "xpbbY-ikspcG",
        "colab_type": "code",
        "colab": {}
      },
      "source": [
        "tokenizer = Tokenizer(num_words = vocab_size, oov_token=oov_tok)\n",
        "tokenizer.fit_on_texts(train_sentences)\n",
        "word_index = tokenizer.word_index\n",
        "\n",
        "train_sequences = tokenizer.texts_to_sequences(train_sentences)\n",
        "train_padded = pad_sequences( train_sequences, padding=padding_type, maxlen=max_length, truncating=trunc_type)"
      ],
      "execution_count": 8,
      "outputs": []
    },
    {
      "cell_type": "code",
      "metadata": {
        "id": "DFx1mnQsttG7",
        "colab_type": "code",
        "colab": {
          "base_uri": "https://localhost:8080/",
          "height": 119
        },
        "outputId": "d9843379-48e5-4f0b-c61c-2187db5efec2"
      },
      "source": [
        "print(len(train_sequences[0]))\n",
        "print(len(train_padded[0]))\n",
        "\n",
        "print(len(train_sequences[1]))\n",
        "print(len(train_padded[1]))\n",
        "\n",
        "print(len(train_sequences[10]))\n",
        "print(len(train_padded[10]))"
      ],
      "execution_count": 9,
      "outputs": [
        {
          "output_type": "stream",
          "text": [
            "449\n",
            "120\n",
            "200\n",
            "120\n",
            "192\n",
            "120\n"
          ],
          "name": "stdout"
        }
      ]
    },
    {
      "cell_type": "code",
      "metadata": {
        "id": "hKFn64eQtwnn",
        "colab_type": "code",
        "colab": {
          "base_uri": "https://localhost:8080/",
          "height": 51
        },
        "outputId": "113fb5d5-5d86-45f5-ccfb-442dacbaecdd"
      },
      "source": [
        "validation_sequences = tokenizer.texts_to_sequences(validation_sentences)\n",
        "validation_padded = pad_sequences(validation_sequences, padding=padding_type, maxlen=max_length,  truncating=trunc_type)\n",
        "\n",
        "print(len(validation_sequences))\n",
        "print(validation_padded.shape)"
      ],
      "execution_count": 10,
      "outputs": [
        {
          "output_type": "stream",
          "text": [
            "445\n",
            "(445, 120)\n"
          ],
          "name": "stdout"
        }
      ]
    },
    {
      "cell_type": "code",
      "metadata": {
        "id": "rIOI9hq9t0ri",
        "colab_type": "code",
        "colab": {
          "base_uri": "https://localhost:8080/",
          "height": 153
        },
        "outputId": "f4168655-3cfc-4d76-fa84-da8acf6bb8b2"
      },
      "source": [
        "label_tokenizer = Tokenizer()\n",
        "label_tokenizer.fit_on_texts(labels)\n",
        "\n",
        "training_label_seq = np.array(label_tokenizer.texts_to_sequences(train_labels))\n",
        "validation_label_seq = np.array(label_tokenizer.texts_to_sequences(validation_labels))\n",
        "\n",
        "print(training_label_seq[0])\n",
        "print(training_label_seq[1])\n",
        "print(training_label_seq[2])\n",
        "print(training_label_seq.shape)\n",
        "\n",
        "print(validation_label_seq[0])\n",
        "print(validation_label_seq[1])\n",
        "print(validation_label_seq[2])\n",
        "print(validation_label_seq.shape)"
      ],
      "execution_count": 11,
      "outputs": [
        {
          "output_type": "stream",
          "text": [
            "[4]\n",
            "[2]\n",
            "[1]\n",
            "(1780, 1)\n",
            "[5]\n",
            "[4]\n",
            "[3]\n",
            "(445, 1)\n"
          ],
          "name": "stdout"
        }
      ]
    },
    {
      "cell_type": "code",
      "metadata": {
        "id": "SLGOB9eFuXEN",
        "colab_type": "code",
        "colab": {
          "base_uri": "https://localhost:8080/",
          "height": 323
        },
        "outputId": "7c022a21-3301-4899-e211-7fd991e63513"
      },
      "source": [
        "model = tf.keras.Sequential([\n",
        "    tf.keras.layers.Embedding(vocab_size, embedding_dim, input_length=max_length),\n",
        "    tf.keras.layers.Bidirectional(tf.keras.layers.LSTM(64, return_sequences=True)),\n",
        "    tf.keras.layers.Bidirectional(tf.keras.layers.LSTM(32)),\n",
        "    tf.keras.layers.Dense(24, activation='relu'),\n",
        "    tf.keras.layers.Dense(6, activation='softmax')\n",
        "])\n",
        "model.compile(loss='sparse_categorical_crossentropy',optimizer='adam',metrics=['accuracy'])\n",
        "model.summary()"
      ],
      "execution_count": 12,
      "outputs": [
        {
          "output_type": "stream",
          "text": [
            "Model: \"sequential\"\n",
            "_________________________________________________________________\n",
            "Layer (type)                 Output Shape              Param #   \n",
            "=================================================================\n",
            "embedding (Embedding)        (None, 120, 16)           16000     \n",
            "_________________________________________________________________\n",
            "bidirectional (Bidirectional (None, 120, 128)          41472     \n",
            "_________________________________________________________________\n",
            "bidirectional_1 (Bidirection (None, 64)                41216     \n",
            "_________________________________________________________________\n",
            "dense (Dense)                (None, 24)                1560      \n",
            "_________________________________________________________________\n",
            "dense_1 (Dense)              (None, 6)                 150       \n",
            "=================================================================\n",
            "Total params: 100,398\n",
            "Trainable params: 100,398\n",
            "Non-trainable params: 0\n",
            "_________________________________________________________________\n"
          ],
          "name": "stdout"
        }
      ]
    },
    {
      "cell_type": "code",
      "metadata": {
        "id": "rAUcSzq7utl_",
        "colab_type": "code",
        "colab": {
          "base_uri": "https://localhost:8080/",
          "height": 1000
        },
        "outputId": "e283e312-9605-45c8-ddaf-fb40a6837070"
      },
      "source": [
        "num_epochs = 30\n",
        "history = model.fit(train_padded, training_label_seq, epochs=num_epochs, validation_data=(validation_padded, validation_label_seq), verbose=2)"
      ],
      "execution_count": 13,
      "outputs": [
        {
          "output_type": "stream",
          "text": [
            "Epoch 1/30\n",
            "56/56 - 11s - loss: 1.6631 - accuracy: 0.2185 - val_loss: 1.5663 - val_accuracy: 0.3326\n",
            "Epoch 2/30\n",
            "56/56 - 10s - loss: 1.2517 - accuracy: 0.4298 - val_loss: 1.0317 - val_accuracy: 0.5326\n",
            "Epoch 3/30\n",
            "56/56 - 10s - loss: 0.8972 - accuracy: 0.5933 - val_loss: 1.0343 - val_accuracy: 0.5236\n",
            "Epoch 4/30\n",
            "56/56 - 10s - loss: 0.7738 - accuracy: 0.6461 - val_loss: 0.7986 - val_accuracy: 0.6360\n",
            "Epoch 5/30\n",
            "56/56 - 10s - loss: 0.6425 - accuracy: 0.7073 - val_loss: 0.9942 - val_accuracy: 0.5483\n",
            "Epoch 6/30\n",
            "56/56 - 10s - loss: 0.5697 - accuracy: 0.7404 - val_loss: 0.8054 - val_accuracy: 0.6831\n",
            "Epoch 7/30\n",
            "56/56 - 10s - loss: 0.5095 - accuracy: 0.7730 - val_loss: 1.0184 - val_accuracy: 0.6000\n",
            "Epoch 8/30\n",
            "56/56 - 10s - loss: 0.4836 - accuracy: 0.7961 - val_loss: 0.7617 - val_accuracy: 0.7191\n",
            "Epoch 9/30\n",
            "56/56 - 10s - loss: 0.3975 - accuracy: 0.8478 - val_loss: 0.7290 - val_accuracy: 0.7573\n",
            "Epoch 10/30\n",
            "56/56 - 10s - loss: 0.3030 - accuracy: 0.8910 - val_loss: 0.8530 - val_accuracy: 0.7416\n",
            "Epoch 11/30\n",
            "56/56 - 10s - loss: 0.3029 - accuracy: 0.8966 - val_loss: 0.6550 - val_accuracy: 0.8135\n",
            "Epoch 12/30\n",
            "56/56 - 10s - loss: 0.2050 - accuracy: 0.9315 - val_loss: 0.6096 - val_accuracy: 0.8270\n",
            "Epoch 13/30\n",
            "56/56 - 10s - loss: 0.1510 - accuracy: 0.9567 - val_loss: 0.6552 - val_accuracy: 0.8382\n",
            "Epoch 14/30\n",
            "56/56 - 10s - loss: 0.4619 - accuracy: 0.8506 - val_loss: 0.5353 - val_accuracy: 0.8517\n",
            "Epoch 15/30\n",
            "56/56 - 10s - loss: 0.1771 - accuracy: 0.9596 - val_loss: 0.6652 - val_accuracy: 0.7910\n",
            "Epoch 16/30\n",
            "56/56 - 10s - loss: 0.1681 - accuracy: 0.9511 - val_loss: 0.5296 - val_accuracy: 0.8382\n",
            "Epoch 17/30\n",
            "56/56 - 10s - loss: 0.1007 - accuracy: 0.9764 - val_loss: 0.5293 - val_accuracy: 0.8539\n",
            "Epoch 18/30\n",
            "56/56 - 10s - loss: 0.0714 - accuracy: 0.9843 - val_loss: 0.6680 - val_accuracy: 0.8360\n",
            "Epoch 19/30\n",
            "56/56 - 10s - loss: 0.1047 - accuracy: 0.9736 - val_loss: 0.5694 - val_accuracy: 0.8562\n",
            "Epoch 20/30\n",
            "56/56 - 10s - loss: 0.0605 - accuracy: 0.9860 - val_loss: 0.6436 - val_accuracy: 0.8674\n",
            "Epoch 21/30\n",
            "56/56 - 10s - loss: 0.0752 - accuracy: 0.9831 - val_loss: 0.5600 - val_accuracy: 0.8607\n",
            "Epoch 22/30\n",
            "56/56 - 10s - loss: 0.0549 - accuracy: 0.9876 - val_loss: 0.7377 - val_accuracy: 0.8539\n",
            "Epoch 23/30\n",
            "56/56 - 10s - loss: 0.1173 - accuracy: 0.9640 - val_loss: 0.6054 - val_accuracy: 0.8674\n",
            "Epoch 24/30\n",
            "56/56 - 10s - loss: 0.0563 - accuracy: 0.9871 - val_loss: 0.5159 - val_accuracy: 0.8809\n",
            "Epoch 25/30\n",
            "56/56 - 10s - loss: 0.0697 - accuracy: 0.9820 - val_loss: 0.5109 - val_accuracy: 0.8876\n",
            "Epoch 26/30\n",
            "56/56 - 10s - loss: 0.0525 - accuracy: 0.9860 - val_loss: 0.6265 - val_accuracy: 0.8742\n",
            "Epoch 27/30\n",
            "56/56 - 10s - loss: 0.0460 - accuracy: 0.9904 - val_loss: 0.5503 - val_accuracy: 0.8899\n",
            "Epoch 28/30\n",
            "56/56 - 10s - loss: 0.0498 - accuracy: 0.9893 - val_loss: 0.5348 - val_accuracy: 0.8787\n",
            "Epoch 29/30\n",
            "56/56 - 10s - loss: 0.0255 - accuracy: 0.9966 - val_loss: 0.5711 - val_accuracy: 0.8876\n",
            "Epoch 30/30\n",
            "56/56 - 10s - loss: 0.0265 - accuracy: 0.9949 - val_loss: 0.6011 - val_accuracy: 0.8899\n"
          ],
          "name": "stdout"
        }
      ]
    },
    {
      "cell_type": "code",
      "metadata": {
        "id": "RWbLO0PSuydB",
        "colab_type": "code",
        "colab": {
          "base_uri": "https://localhost:8080/",
          "height": 541
        },
        "outputId": "2f83ece5-1430-462c-ccdc-cc3779a03de4"
      },
      "source": [
        "import matplotlib.pyplot as plt\n",
        "\n",
        "\n",
        "def plot_graphs(history, string):\n",
        "  plt.plot(history.history[string])\n",
        "  plt.plot(history.history['val_'+string])\n",
        "  plt.xlabel(\"Epochs\")\n",
        "  plt.ylabel(string)\n",
        "  plt.legend([string, 'val_'+string])\n",
        "  plt.show()\n",
        "  \n",
        "plot_graphs(history, \"accuracy\")\n",
        "plot_graphs(history, \"loss\")"
      ],
      "execution_count": 14,
      "outputs": [
        {
          "output_type": "display_data",
          "data": {
            "image/png": "[encoded data removed]",
            "text/plain": [
              "<Figure size 432x288 with 1 Axes>"
            ]
          },
          "metadata": {
            "tags": [],
            "needs_background": "light"
          }
        },
        {
          "output_type": "display_data",
          "data": {
            "image/png": "[encoded data removed]",
            "text/plain": [
              "<Figure size 432x288 with 1 Axes>"
            ]
          },
          "metadata": {
            "tags": [],
            "needs_background": "light"
          }
        }
      ]
    },
    {
      "cell_type": "code",
      "metadata": {
        "id": "W0IO5Bml8tiJ",
        "colab_type": "code",
        "colab": {
          "base_uri": "https://localhost:8080/",
          "height": 34
        },
        "outputId": "1424ee7e-a484-4468-84c8-cdc37849ff3b"
      },
      "source": [
        "model.save('bbc.h5')\n",
        "import os\n",
        "print(str(os.path.getsize('./bbc.h5')/1000000) + 'MB')"
      ],
      "execution_count": 15,
      "outputs": [
        {
          "output_type": "stream",
          "text": [
            "1.284024MB\n"
          ],
          "name": "stdout"
        }
      ]
    },
    {
      "cell_type": "markdown",
      "metadata": {
        "id": "bycuLpJPwdH2",
        "colab_type": "text"
      },
      "source": [
        "**Pretrained embeddings**"
      ]
    },
    {
      "cell_type": "code",
      "metadata": {
        "id": "QwEDF5Fqu3OS",
        "colab_type": "code",
        "colab": {}
      },
      "source": [
        "embedding_dim = 100\n",
        "max_length = 120\n",
        "trunc_type='post'\n",
        "padding_type='post'\n",
        "oov_tok = \"<OOV>\""
      ],
      "execution_count": 16,
      "outputs": []
    },
    {
      "cell_type": "code",
      "metadata": {
        "id": "a0Ux5jDTwlE0",
        "colab_type": "code",
        "colab": {}
      },
      "source": [
        "tokenizer = Tokenizer()\n",
        "tokenizer.fit_on_texts(train_sentences)"
      ],
      "execution_count": 17,
      "outputs": []
    },
    {
      "cell_type": "code",
      "metadata": {
        "id": "Me10iqAcwweB",
        "colab_type": "code",
        "colab": {}
      },
      "source": [
        "word_index = tokenizer.word_index\n",
        "vocab_size=len(word_index)"
      ],
      "execution_count": 18,
      "outputs": []
    },
    {
      "cell_type": "code",
      "metadata": {
        "id": "F8Ia8bhezkUU",
        "colab_type": "code",
        "colab": {}
      },
      "source": [
        "sequences = tokenizer.texts_to_sequences(train_sentences)\n",
        "padded = pad_sequences(sequences, maxlen=max_length, padding=padding_type, truncating=trunc_type)"
      ],
      "execution_count": 19,
      "outputs": []
    },
    {
      "cell_type": "code",
      "metadata": {
        "id": "67UXJYL7w1VK",
        "colab_type": "code",
        "colab": {}
      },
      "source": [
        "testing_sequences = tokenizer.texts_to_sequences(validation_sentences)\n",
        "testing_padded = pad_sequences(testing_sequences,  maxlen=max_length, padding=padding_type, truncating=trunc_type)"
      ],
      "execution_count": 20,
      "outputs": []
    },
    {
      "cell_type": "code",
      "metadata": {
        "id": "F4zji9kXzaat",
        "colab_type": "code",
        "colab": {
          "base_uri": "https://localhost:8080/",
          "height": 51
        },
        "outputId": "603f2ee0-1e60-4419-cf89-279fbb53df5a"
      },
      "source": [
        "print(len(sequences[0]))\n",
        "print(len(padded[0]))"
      ],
      "execution_count": 21,
      "outputs": [
        {
          "output_type": "stream",
          "text": [
            "449\n",
            "120\n"
          ],
          "name": "stdout"
        }
      ]
    },
    {
      "cell_type": "code",
      "metadata": {
        "id": "EE7qOC3ZziKJ",
        "colab_type": "code",
        "colab": {
          "base_uri": "https://localhost:8080/",
          "height": 51
        },
        "outputId": "36c57af7-04d2-4f8b-d5b3-992c35b0e5ff"
      },
      "source": [
        "print(len(testing_sequences[0]))\n",
        "print(len(testing_padded[0]))"
      ],
      "execution_count": 22,
      "outputs": [
        {
          "output_type": "stream",
          "text": [
            "155\n",
            "120\n"
          ],
          "name": "stdout"
        }
      ]
    },
    {
      "cell_type": "code",
      "metadata": {
        "id": "5EyoO3tXz2Pd",
        "colab_type": "code",
        "colab": {
          "base_uri": "https://localhost:8080/",
          "height": 34
        },
        "outputId": "5f2de564-b4de-4571-90e2-90760b2e22fe"
      },
      "source": [
        "vocab_size"
      ],
      "execution_count": 23,
      "outputs": [
        {
          "output_type": "execute_result",
          "data": {
            "text/plain": [
              "27284"
            ]
          },
          "metadata": {
            "tags": []
          },
          "execution_count": 23
        }
      ]
    },
    {
      "cell_type": "code",
      "metadata": {
        "id": "ZnawSwdUz4M8",
        "colab_type": "code",
        "colab": {
          "base_uri": "https://localhost:8080/",
          "height": 204
        },
        "outputId": "fc49100b-e72b-47d1-83e5-90e583494d4f"
      },
      "source": [
        "# Note this is the 100 dimension version of GloVe from Stanford\n",
        "# I unzipped and hosted it on my site to make this notebook easier\n",
        "!wget --no-check-certificate \\\n",
        "    https://storage.googleapis.com/laurencemoroney-blog.appspot.com/glove.6B.100d.txt \\\n",
        "    -O /tmp/glove.6B.100d.txt\n",
        "embeddings_index = {};\n",
        "with open('/tmp/glove.6B.100d.txt') as f:\n",
        "    for line in f:\n",
        "        values = line.split();\n",
        "        word = values[0];\n",
        "        coefs = np.asarray(values[1:], dtype='float32');\n",
        "        embeddings_index[word] = coefs;\n",
        "\n",
        "embeddings_matrix = np.zeros((vocab_size+1, embedding_dim));\n",
        "for word, i in word_index.items():\n",
        "    embedding_vector = embeddings_index.get(word);\n",
        "    if embedding_vector is not None:\n",
        "        embeddings_matrix[i] = embedding_vector;"
      ],
      "execution_count": 24,
      "outputs": [
        {
          "output_type": "stream",
          "text": [
            "--2020-08-11 19:26:14--  https://storage.googleapis.com/laurencemoroney-blog.appspot.com/glove.6B.100d.txt\n",
            "Resolving storage.googleapis.com (storage.googleapis.com)... 108.177.125.128, 74.125.203.128, 74.125.204.128, ...\n",
            "Connecting to storage.googleapis.com (storage.googleapis.com)|108.177.125.128|:443... connected.\n",
            "HTTP request sent, awaiting response... 200 OK\n",
            "Length: 347116733 (331M) [text/plain]\n",
            "Saving to: ‘/tmp/glove.6B.100d.txt’\n",
            "\n",
            "/tmp/glove.6B.100d. 100%[===================>] 331.04M  32.8MB/s    in 10s     \n",
            "\n",
            "2020-08-11 19:26:25 (32.8 MB/s) - ‘/tmp/glove.6B.100d.txt’ saved [347116733/347116733]\n",
            "\n"
          ],
          "name": "stdout"
        }
      ]
    },
    {
      "cell_type": "code",
      "metadata": {
        "id": "_eDeafRdz7Pe",
        "colab_type": "code",
        "colab": {
          "base_uri": "https://localhost:8080/",
          "height": 323
        },
        "outputId": "68a451be-baf1-4c34-dc7d-a23ddd6d2a7f"
      },
      "source": [
        "model = tf.keras.Sequential([\n",
        "    tf.keras.layers.Embedding(vocab_size+1, embedding_dim, input_length=max_length, weights=[embeddings_matrix], trainable=False),\n",
        "    tf.keras.layers.Bidirectional(tf.keras.layers.LSTM(64, return_sequences=True)),\n",
        "    tf.keras.layers.Bidirectional(tf.keras.layers.LSTM(32)),\n",
        "    tf.keras.layers.Dense(24, activation='relu'),\n",
        "    tf.keras.layers.Dense(6, activation='softmax')\n",
        "])\n",
        "model.compile(loss='sparse_categorical_crossentropy',optimizer='adam',metrics=['accuracy'])\n",
        "model.summary()"
      ],
      "execution_count": 25,
      "outputs": [
        {
          "output_type": "stream",
          "text": [
            "Model: \"sequential_1\"\n",
            "_________________________________________________________________\n",
            "Layer (type)                 Output Shape              Param #   \n",
            "=================================================================\n",
            "embedding_1 (Embedding)      (None, 120, 100)          2728500   \n",
            "_________________________________________________________________\n",
            "bidirectional_2 (Bidirection (None, 120, 128)          84480     \n",
            "_________________________________________________________________\n",
            "bidirectional_3 (Bidirection (None, 64)                41216     \n",
            "_________________________________________________________________\n",
            "dense_2 (Dense)              (None, 24)                1560      \n",
            "_________________________________________________________________\n",
            "dense_3 (Dense)              (None, 6)                 150       \n",
            "=================================================================\n",
            "Total params: 2,855,906\n",
            "Trainable params: 127,406\n",
            "Non-trainable params: 2,728,500\n",
            "_________________________________________________________________\n"
          ],
          "name": "stdout"
        }
      ]
    },
    {
      "cell_type": "code",
      "metadata": {
        "id": "BacTTWw70FPf",
        "colab_type": "code",
        "colab": {
          "base_uri": "https://localhost:8080/",
          "height": 1000
        },
        "outputId": "99c25f5b-94dd-48f7-b5af-e7f8f7d94a8e"
      },
      "source": [
        "num_epochs = 30\n",
        "history = model.fit(padded, training_label_seq, epochs=num_epochs, validation_data=(testing_padded, validation_label_seq))"
      ],
      "execution_count": 26,
      "outputs": [
        {
          "output_type": "stream",
          "text": [
            "Epoch 1/30\n",
            "56/56 [==============================] - 12s 222ms/step - loss: 0.8199 - accuracy: 0.7803 - val_loss: 0.2526 - val_accuracy: 0.9416\n",
            "Epoch 2/30\n",
            "56/56 [==============================] - 11s 199ms/step - loss: 0.2212 - accuracy: 0.9371 - val_loss: 0.2890 - val_accuracy: 0.9011\n",
            "Epoch 3/30\n",
            "56/56 [==============================] - 11s 197ms/step - loss: 0.1558 - accuracy: 0.9534 - val_loss: 0.1253 - val_accuracy: 0.9528\n",
            "Epoch 4/30\n",
            "56/56 [==============================] - 11s 197ms/step - loss: 0.0976 - accuracy: 0.9736 - val_loss: 0.1697 - val_accuracy: 0.9393\n",
            "Epoch 5/30\n",
            "56/56 [==============================] - 11s 198ms/step - loss: 0.1022 - accuracy: 0.9685 - val_loss: 0.2137 - val_accuracy: 0.9281\n",
            "Epoch 6/30\n",
            "56/56 [==============================] - 11s 200ms/step - loss: 0.0813 - accuracy: 0.9736 - val_loss: 0.1241 - val_accuracy: 0.9506\n",
            "Epoch 7/30\n",
            "56/56 [==============================] - 11s 198ms/step - loss: 0.1077 - accuracy: 0.9646 - val_loss: 0.1125 - val_accuracy: 0.9640\n",
            "Epoch 8/30\n",
            "56/56 [==============================] - 11s 198ms/step - loss: 0.0567 - accuracy: 0.9826 - val_loss: 0.0951 - val_accuracy: 0.9663\n",
            "Epoch 9/30\n",
            "56/56 [==============================] - 11s 198ms/step - loss: 0.0356 - accuracy: 0.9916 - val_loss: 0.1272 - val_accuracy: 0.9663\n",
            "Epoch 10/30\n",
            "56/56 [==============================] - 11s 198ms/step - loss: 0.0357 - accuracy: 0.9927 - val_loss: 0.1180 - val_accuracy: 0.9618\n",
            "Epoch 11/30\n",
            "56/56 [==============================] - 11s 199ms/step - loss: 0.0352 - accuracy: 0.9893 - val_loss: 0.1412 - val_accuracy: 0.9551\n",
            "Epoch 12/30\n",
            "56/56 [==============================] - 11s 199ms/step - loss: 0.0207 - accuracy: 0.9955 - val_loss: 0.1145 - val_accuracy: 0.9663\n",
            "Epoch 13/30\n",
            "56/56 [==============================] - 11s 198ms/step - loss: 0.0148 - accuracy: 0.9955 - val_loss: 0.1343 - val_accuracy: 0.9618\n",
            "Epoch 14/30\n",
            "56/56 [==============================] - 11s 199ms/step - loss: 0.0131 - accuracy: 0.9966 - val_loss: 0.1109 - val_accuracy: 0.9663\n",
            "Epoch 15/30\n",
            "56/56 [==============================] - 11s 197ms/step - loss: 0.0423 - accuracy: 0.9865 - val_loss: 0.1300 - val_accuracy: 0.9640\n",
            "Epoch 16/30\n",
            "56/56 [==============================] - 11s 198ms/step - loss: 0.0139 - accuracy: 0.9961 - val_loss: 0.1221 - val_accuracy: 0.9753\n",
            "Epoch 17/30\n",
            "56/56 [==============================] - 11s 196ms/step - loss: 0.0077 - accuracy: 0.9994 - val_loss: 0.1436 - val_accuracy: 0.9685\n",
            "Epoch 18/30\n",
            "56/56 [==============================] - 11s 196ms/step - loss: 0.0052 - accuracy: 0.9989 - val_loss: 0.1225 - val_accuracy: 0.9775\n",
            "Epoch 19/30\n",
            "56/56 [==============================] - 11s 199ms/step - loss: 0.0043 - accuracy: 0.9989 - val_loss: 0.1234 - val_accuracy: 0.9775\n",
            "Epoch 20/30\n",
            "56/56 [==============================] - 11s 199ms/step - loss: 0.0037 - accuracy: 0.9994 - val_loss: 0.1280 - val_accuracy: 0.9753\n",
            "Epoch 21/30\n",
            "56/56 [==============================] - 11s 199ms/step - loss: 0.0028 - accuracy: 0.9994 - val_loss: 0.1426 - val_accuracy: 0.9708\n",
            "Epoch 22/30\n",
            "56/56 [==============================] - 11s 198ms/step - loss: 0.0021 - accuracy: 0.9994 - val_loss: 0.1406 - val_accuracy: 0.9708\n",
            "Epoch 23/30\n",
            "56/56 [==============================] - 11s 196ms/step - loss: 0.0017 - accuracy: 0.9994 - val_loss: 0.1424 - val_accuracy: 0.9708\n",
            "Epoch 24/30\n",
            "56/56 [==============================] - 11s 198ms/step - loss: 0.0012 - accuracy: 1.0000 - val_loss: 0.1532 - val_accuracy: 0.9685\n",
            "Epoch 25/30\n",
            "56/56 [==============================] - 11s 197ms/step - loss: 9.7591e-04 - accuracy: 1.0000 - val_loss: 0.1514 - val_accuracy: 0.9708\n",
            "Epoch 26/30\n",
            "56/56 [==============================] - 11s 196ms/step - loss: 6.9900e-04 - accuracy: 1.0000 - val_loss: 0.1567 - val_accuracy: 0.9708\n",
            "Epoch 27/30\n",
            "56/56 [==============================] - 11s 197ms/step - loss: 5.9570e-04 - accuracy: 1.0000 - val_loss: 0.1605 - val_accuracy: 0.9708\n",
            "Epoch 28/30\n",
            "56/56 [==============================] - 11s 197ms/step - loss: 5.1935e-04 - accuracy: 1.0000 - val_loss: 0.1623 - val_accuracy: 0.9708\n",
            "Epoch 29/30\n",
            "56/56 [==============================] - 11s 199ms/step - loss: 4.5739e-04 - accuracy: 1.0000 - val_loss: 0.1644 - val_accuracy: 0.9708\n",
            "Epoch 30/30\n",
            "56/56 [==============================] - 11s 198ms/step - loss: 4.0355e-04 - accuracy: 1.0000 - val_loss: 0.1664 - val_accuracy: 0.9708\n"
          ],
          "name": "stdout"
        }
      ]
    },
    {
      "cell_type": "code",
      "metadata": {
        "id": "tdpR-bPr0L17",
        "colab_type": "code",
        "colab": {
          "base_uri": "https://localhost:8080/",
          "height": 541
        },
        "outputId": "37908dad-03a0-4308-c17a-77b367a90f83"
      },
      "source": [
        "plot_graphs(history, \"accuracy\")\n",
        "plot_graphs(history, \"loss\")"
      ],
      "execution_count": 27,
      "outputs": [
        {
          "output_type": "display_data",
          "data": {
            "image/png": "[encoded data removed]",
            "text/plain": [
              "<Figure size 432x288 with 1 Axes>"
            ]
          },
          "metadata": {
            "tags": [],
            "needs_background": "light"
          }
        },
        {
          "output_type": "display_data",
          "data": {
            "image/png": "[encoded data removed]",
            "text/plain": [
              "<Figure size 432x288 with 1 Axes>"
            ]
          },
          "metadata": {
            "tags": [],
            "needs_background": "light"
          }
        }
      ]
    },
    {
      "cell_type": "code",
      "metadata": {
        "id": "Xl9lPoBa0b9o",
        "colab_type": "code",
        "colab": {
          "base_uri": "https://localhost:8080/",
          "height": 34
        },
        "outputId": "2bad4efb-c5be-4915-99f5-b1b6d109d26d"
      },
      "source": [
        "model.save('bbc_1.h5')\n",
        "import os\n",
        "print(str(os.path.getsize('./bbc_1.h5')/1000000) + 'MB')"
      ],
      "execution_count": 28,
      "outputs": [
        {
          "output_type": "stream",
          "text": [
            "12.51784MB\n"
          ],
          "name": "stdout"
        }
      ]
    },
    {
      "cell_type": "code",
      "metadata": {
        "id": "p7yi9E3g_QOZ",
        "colab_type": "code",
        "colab": {}
      },
      "source": [
        ""
      ],
      "execution_count": null,
      "outputs": []
    }
  ]
}