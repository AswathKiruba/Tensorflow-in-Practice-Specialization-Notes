{
  "nbformat": 4,
  "nbformat_minor": 0,
  "metadata": {
    "colab": {
      "name": "Cats vs dogs Tensorflow dataset.ipynb",
      "provenance": []
    },
    "kernelspec": {
      "name": "python3",
      "display_name": "Python 3"
    }
  },
  "cells": [
    {
      "cell_type": "code",
      "metadata": {
        "id": "l1-iL9vJDRP_",
        "colab_type": "code",
        "colab": {}
      },
      "source": [
        "import tensorflow.compat.v2 as tf\n",
        "import tensorflow_datasets as tfds\n",
        "from tensorflow.keras.preprocessing.image import ImageDataGenerator"
      ],
      "execution_count": 1,
      "outputs": []
    },
    {
      "cell_type": "code",
      "metadata": {
        "id": "wfwr2syLDbDz",
        "colab_type": "code",
        "colab": {}
      },
      "source": [
        "dataset_name = 'cats_vs_dogs'\n",
        "dataset, info = tfds.load(name=dataset_name, \n",
        "                          split=tfds.Split.TRAIN,\n",
        "                          with_info=True)"
      ],
      "execution_count": 2,
      "outputs": []
    },
    {
      "cell_type": "code",
      "metadata": {
        "id": "sPbJoFZxDdKU",
        "colab_type": "code",
        "colab": {}
      },
      "source": [
        "def normalize_img(x):\n",
        "  \"\"\"Normalizes images: `uint8` -> `float32`.\"\"\"\n",
        "  x['image'] = tf.cast(x['image'], tf.float32) \n",
        "  x['image'] = x['image'] / 255\n",
        "  x['image'] = tf.image.resize(x['image'], [224,224])\n",
        "  return x"
      ],
      "execution_count": 3,
      "outputs": []
    },
    {
      "cell_type": "code",
      "metadata": {
        "id": "8LFGDy9bGXrl",
        "colab_type": "code",
        "colab": {}
      },
      "source": [
        "ds_train = dataset.map(\n",
        "    normalize_img, num_parallel_calls=tf.data.experimental.AUTOTUNE)"
      ],
      "execution_count": 4,
      "outputs": []
    },
    {
      "cell_type": "code",
      "metadata": {
        "id": "xhsQxIQxGbpQ",
        "colab_type": "code",
        "colab": {
          "base_uri": "https://localhost:8080/",
          "height": 904
        },
        "outputId": "9d9b19ab-f910-4fa3-b96e-2598456bae05"
      },
      "source": [
        "for i in ds_train.take(1):\n",
        "  print(i['image'].shape)\n",
        "  print(i)"
      ],
      "execution_count": 5,
      "outputs": [
        {
          "output_type": "stream",
          "text": [
            "(224, 224, 3)\n",
            "{'image': <tf.Tensor: shape=(224, 224, 3), dtype=float32, numpy=\n",
            "array([[[0.9457638 , 0.96929324, 0.96929324],\n",
            "        [0.9245804 , 0.94149214, 0.9381833 ],\n",
            "        [0.9015324 , 0.9140324 , 0.90692455],\n",
            "        ...,\n",
            "        [0.7828547 , 0.7235787 , 0.54390925],\n",
            "        [0.71194637, 0.65883124, 0.47362408],\n",
            "        [0.619661  , 0.5730803 , 0.38460588]],\n",
            "\n",
            "       [[0.93343836, 0.95497197, 0.95397407],\n",
            "        [0.9213378 , 0.9379377 , 0.9344729 ],\n",
            "        [0.85643274, 0.8689327 , 0.86182487],\n",
            "        ...,\n",
            "        [0.7727624 , 0.71885836, 0.5389159 ],\n",
            "        [0.73887867, 0.6912897 , 0.50542444],\n",
            "        [0.709584  , 0.67015827, 0.47882363]],\n",
            "\n",
            "       [[0.9291114 , 0.9447977 , 0.9408761 ],\n",
            "        [0.8986678 , 0.9143541 , 0.9104325 ],\n",
            "        [0.7813277 , 0.7948152 , 0.78474486],\n",
            "        ...,\n",
            "        [0.7423019 , 0.6946478 , 0.51651406],\n",
            "        [0.7702698 , 0.72445405, 0.54412913],\n",
            "        [0.7581304 , 0.7278783 , 0.53452605]],\n",
            "\n",
            "       ...,\n",
            "\n",
            "       [[0.637867  , 0.6087003 , 0.42328364],\n",
            "        [0.6706822 , 0.6471528 , 0.4522998 ],\n",
            "        [0.6662184 , 0.65996844, 0.455189  ],\n",
            "        ...,\n",
            "        [0.5716019 , 0.5793644 , 0.46617436],\n",
            "        [0.5427383 , 0.5609508 , 0.44225326],\n",
            "        [0.38494903, 0.4216183 , 0.30580187]],\n",
            "\n",
            "       [[0.57317156, 0.5440049 , 0.35858825],\n",
            "        [0.5664254 , 0.542896  , 0.34804302],\n",
            "        [0.78407425, 0.7778242 , 0.57304484],\n",
            "        ...,\n",
            "        [0.3278822 , 0.34257048, 0.23787846],\n",
            "        [0.3338641 , 0.35884652, 0.24765936],\n",
            "        [0.19651926, 0.24247552, 0.13177858]],\n",
            "\n",
            "       [[0.48950806, 0.4603414 , 0.2749247 ],\n",
            "        [0.50234205, 0.47881263, 0.28395966],\n",
            "        [0.68741256, 0.6811626 , 0.47638318],\n",
            "        ...,\n",
            "        [0.19328454, 0.21188676, 0.11199449],\n",
            "        [0.23496124, 0.2626239 , 0.15399349],\n",
            "        [0.19074818, 0.24402736, 0.14149474]]], dtype=float32)>, 'image/filename': <tf.Tensor: shape=(), dtype=string, numpy=b'PetImages/Dog/10396.jpg'>, 'label': <tf.Tensor: shape=(), dtype=int64, numpy=1>}\n"
          ],
          "name": "stdout"
        }
      ]
    },
    {
      "cell_type": "code",
      "metadata": {
        "id": "h0Z77OFRGxGm",
        "colab_type": "code",
        "colab": {}
      },
      "source": [
        "ds_train = ds_train.shuffle(1024).batch(32).prefetch(tf.data.experimental.AUTOTUNE)"
      ],
      "execution_count": 6,
      "outputs": []
    },
    {
      "cell_type": "code",
      "metadata": {
        "id": "6jveI4bhG5iq",
        "colab_type": "code",
        "colab": {}
      },
      "source": [
        "for example in ds_train:\n",
        "  train_image, train_label = example[\"image\"], example[\"label\"]"
      ],
      "execution_count": 7,
      "outputs": []
    },
    {
      "cell_type": "code",
      "metadata": {
        "id": "uBks8iQLHBU7",
        "colab_type": "code",
        "colab": {}
      },
      "source": [
        "train_datagen = ImageDataGenerator(rescale=1./255,\n",
        "      rotation_range=40,\n",
        "      width_shift_range=0.2,\n",
        "      height_shift_range=0.2,\n",
        "      shear_range=0.2,\n",
        "      zoom_range=0.2,\n",
        "      horizontal_flip=True,\n",
        "      fill_mode='nearest')"
      ],
      "execution_count": 8,
      "outputs": []
    },
    {
      "cell_type": "code",
      "metadata": {
        "id": "jGWTxzS8HDt4",
        "colab_type": "code",
        "colab": {}
      },
      "source": [
        "train_datagen.fit(train_image)"
      ],
      "execution_count": 9,
      "outputs": []
    },
    {
      "cell_type": "code",
      "metadata": {
        "id": "vtnTdSAHHMGK",
        "colab_type": "code",
        "colab": {
          "base_uri": "https://localhost:8080/",
          "height": 867
        },
        "outputId": "767c1095-ed26-4c15-f3ad-c05f42a938a3"
      },
      "source": [
        "train_image[0]"
      ],
      "execution_count": 10,
      "outputs": [
        {
          "output_type": "execute_result",
          "data": {
            "text/plain": [
              "<tf.Tensor: shape=(224, 224, 3), dtype=float32, numpy=\n",
              "array([[[0.3592787 , 0.14751402, 0.05339636],\n",
              "        [0.3652608 , 0.15349609, 0.05158782],\n",
              "        [0.36381233, 0.15204762, 0.04233123],\n",
              "        ...,\n",
              "        [0.01810224, 0.01810224, 0.01810224],\n",
              "        [0.01807597, 0.01807597, 0.01807597],\n",
              "        [0.01418067, 0.01418067, 0.01418067]],\n",
              "\n",
              "       [[0.36862746, 0.15686275, 0.0627451 ],\n",
              "        [0.34974217, 0.13797747, 0.0360692 ],\n",
              "        [0.36723807, 0.15876257, 0.03917856],\n",
              "        ...,\n",
              "        [0.02685574, 0.02685574, 0.02685574],\n",
              "        [0.02683346, 0.02683346, 0.02683346],\n",
              "        [0.02352941, 0.02352941, 0.02352941]],\n",
              "\n",
              "       [[0.3777311 , 0.16628152, 0.05553222],\n",
              "        [0.3948774 , 0.18701012, 0.06551396],\n",
              "        [0.4250806 , 0.21723746, 0.09179103],\n",
              "        ...,\n",
              "        [0.01924539, 0.01924539, 0.01140226],\n",
              "        [0.01502764, 0.01502764, 0.00718872],\n",
              "        [0.01081932, 0.01081932, 0.00360644]],\n",
              "\n",
              "       ...,\n",
              "\n",
              "       [[0.68438387, 0.44908974, 0.20595248],\n",
              "        [0.71975464, 0.48446053, 0.24132325],\n",
              "        [0.7477609 , 0.52022237, 0.2732073 ],\n",
              "        ...,\n",
              "        [0.71755946, 0.5018732 , 0.24697122],\n",
              "        [0.7096264 , 0.4939401 , 0.23903814],\n",
              "        [0.6832983 , 0.467612  , 0.21271004]],\n",
              "\n",
              "       [[0.7058824 , 0.4745098 , 0.24824937],\n",
              "        [0.7214636 , 0.49009103, 0.2638306 ],\n",
              "        [0.7320248 , 0.50241816, 0.2743918 ],\n",
              "        ...,\n",
              "        [0.7174719 , 0.50178564, 0.2508052 ],\n",
              "        [0.70182544, 0.48613918, 0.23515879],\n",
              "        [0.6817577 , 0.4660714 , 0.215091  ]],\n",
              "\n",
              "       [[0.70738804, 0.47601545, 0.25640762],\n",
              "        [0.7229693 , 0.49159667, 0.27198884],\n",
              "        [0.7254633 , 0.50572413, 0.27448285],\n",
              "        ...,\n",
              "        [0.7135335 , 0.4978472 , 0.2468668 ],\n",
              "        [0.6963497 , 0.48066342, 0.22968301],\n",
              "        [0.6690826 , 0.45339632, 0.20241591]]], dtype=float32)>"
            ]
          },
          "metadata": {
            "tags": []
          },
          "execution_count": 10
        }
      ]
    },
    {
      "cell_type": "markdown",
      "metadata": {
        "id": "j3RKVwtnLSZ6",
        "colab_type": "text"
      },
      "source": [
        "**Model 1 Feature Extraction**"
      ]
    },
    {
      "cell_type": "code",
      "metadata": {
        "id": "ZGGugAILHNxy",
        "colab_type": "code",
        "colab": {}
      },
      "source": [
        "BATCH_SIZE = 32\n",
        "IMG_SIZE = (224, 224)"
      ],
      "execution_count": 11,
      "outputs": []
    },
    {
      "cell_type": "code",
      "metadata": {
        "id": "bLZLYKpXHm7H",
        "colab_type": "code",
        "colab": {}
      },
      "source": [
        "# Create the base model from the pre-trained model MobileNet V2\n",
        "IMG_SHAPE = IMG_SIZE + (3,)\n",
        "base_model = tf.keras.applications.MobileNetV2(input_shape=IMG_SHAPE,\n",
        "                                               include_top=False,\n",
        "                                               weights='imagenet')"
      ],
      "execution_count": 12,
      "outputs": []
    },
    {
      "cell_type": "code",
      "metadata": {
        "id": "cHZOpkb9HowD",
        "colab_type": "code",
        "colab": {}
      },
      "source": [
        "# Make all the layers in the pre-trained model non-trainable\n",
        "for layer in base_model.layers:\n",
        "  layer.trainable = False"
      ],
      "execution_count": 13,
      "outputs": []
    },
    {
      "cell_type": "code",
      "metadata": {
        "id": "j3eUvs1DHqa7",
        "colab_type": "code",
        "colab": {
          "base_uri": "https://localhost:8080/",
          "height": 34
        },
        "outputId": "23991a12-e215-423e-f7c5-1e784931a8cf"
      },
      "source": [
        "last_layer = base_model.get_layer('out_relu')\n",
        "print('last layer output shape: ', last_layer.output_shape)\n",
        "last_output = last_layer.output"
      ],
      "execution_count": 14,
      "outputs": [
        {
          "output_type": "stream",
          "text": [
            "last layer output shape:  (None, 7, 7, 1280)\n"
          ],
          "name": "stdout"
        }
      ]
    },
    {
      "cell_type": "code",
      "metadata": {
        "id": "eAI0svWfHu7w",
        "colab_type": "code",
        "colab": {}
      },
      "source": [
        "global_average_layer = tf.keras.layers.GlobalAveragePooling2D()\n",
        "prediction_layer = tf.keras.layers.Dense(2, activation='softmax')"
      ],
      "execution_count": 15,
      "outputs": []
    },
    {
      "cell_type": "code",
      "metadata": {
        "id": "71Jl6jVhHxBZ",
        "colab_type": "code",
        "colab": {}
      },
      "source": [
        "x = global_average_layer(last_output)\n",
        "x = tf.keras.layers.Dropout(0.2)(x)\n",
        "outputs = prediction_layer(x)"
      ],
      "execution_count": 16,
      "outputs": []
    },
    {
      "cell_type": "code",
      "metadata": {
        "id": "S-wym8lNHzRq",
        "colab_type": "code",
        "colab": {}
      },
      "source": [
        "model = tf.keras.Model(base_model.input, outputs)"
      ],
      "execution_count": 17,
      "outputs": []
    },
    {
      "cell_type": "code",
      "metadata": {
        "id": "bv-fD2CtH038",
        "colab_type": "code",
        "colab": {}
      },
      "source": [
        "from tensorflow.keras.optimizers import RMSprop\n",
        "model.compile(\n",
        "    optimizer=RMSprop(lr=0.0001), \n",
        "    loss='binary_crossentropy', \n",
        "    metrics=['accuracy']\n",
        ")"
      ],
      "execution_count": 18,
      "outputs": []
    },
    {
      "cell_type": "code",
      "metadata": {
        "id": "ak90pVBmIIAo",
        "colab_type": "code",
        "colab": {
          "base_uri": "https://localhost:8080/",
          "height": 34
        },
        "outputId": "4c18de94-4d86-4696-e3d6-cf10fd8f731e"
      },
      "source": [
        "train_image.shape"
      ],
      "execution_count": 19,
      "outputs": [
        {
          "output_type": "execute_result",
          "data": {
            "text/plain": [
              "TensorShape([30, 224, 224, 3])"
            ]
          },
          "metadata": {
            "tags": []
          },
          "execution_count": 19
        }
      ]
    },
    {
      "cell_type": "code",
      "metadata": {
        "id": "OVectC5dH55x",
        "colab_type": "code",
        "colab": {
          "base_uri": "https://localhost:8080/",
          "height": 1000
        },
        "outputId": "38a344c2-6520-44a0-8e86-8966ff40886e"
      },
      "source": [
        "history=model.fit_generator(train_datagen.flow(train_image, train_label, batch_size=32), epochs=50)"
      ],
      "execution_count": 20,
      "outputs": [
        {
          "output_type": "stream",
          "text": [
            "WARNING:tensorflow:From <ipython-input-20-b33c2fe9fb85>:1: Model.fit_generator (from tensorflow.python.keras.engine.training) is deprecated and will be removed in a future version.\n",
            "Instructions for updating:\n",
            "Please use Model.fit, which supports generators.\n"
          ],
          "name": "stdout"
        },
        {
          "output_type": "stream",
          "text": [
            "WARNING:tensorflow:From <ipython-input-20-b33c2fe9fb85>:1: Model.fit_generator (from tensorflow.python.keras.engine.training) is deprecated and will be removed in a future version.\n",
            "Instructions for updating:\n",
            "Please use Model.fit, which supports generators.\n"
          ],
          "name": "stderr"
        },
        {
          "output_type": "stream",
          "text": [
            "Epoch 1/50\n",
            "1/1 [==============================] - 0s 1ms/step - loss: 0.7312 - accuracy: 0.4333\n",
            "Epoch 2/50\n",
            "1/1 [==============================] - 0s 1ms/step - loss: 0.7407 - accuracy: 0.4000\n",
            "Epoch 3/50\n",
            "1/1 [==============================] - 0s 1ms/step - loss: 0.7617 - accuracy: 0.5667\n",
            "Epoch 4/50\n",
            "1/1 [==============================] - 0s 1ms/step - loss: 0.7727 - accuracy: 0.4000\n",
            "Epoch 5/50\n",
            "1/1 [==============================] - 0s 1ms/step - loss: 0.7516 - accuracy: 0.5000\n",
            "Epoch 6/50\n",
            "1/1 [==============================] - 0s 1ms/step - loss: 0.7580 - accuracy: 0.4667\n",
            "Epoch 7/50\n",
            "1/1 [==============================] - 0s 2ms/step - loss: 0.7428 - accuracy: 0.5000\n",
            "Epoch 8/50\n",
            "1/1 [==============================] - 0s 1ms/step - loss: 0.7503 - accuracy: 0.4667\n",
            "Epoch 9/50\n",
            "1/1 [==============================] - 0s 1ms/step - loss: 0.7823 - accuracy: 0.5000\n",
            "Epoch 10/50\n",
            "1/1 [==============================] - 0s 1ms/step - loss: 0.7463 - accuracy: 0.4333\n",
            "Epoch 11/50\n",
            "1/1 [==============================] - 0s 1ms/step - loss: 0.7647 - accuracy: 0.5000\n",
            "Epoch 12/50\n",
            "1/1 [==============================] - 0s 1ms/step - loss: 0.7454 - accuracy: 0.5000\n",
            "Epoch 13/50\n",
            "1/1 [==============================] - 0s 1ms/step - loss: 0.7599 - accuracy: 0.5000\n",
            "Epoch 14/50\n",
            "1/1 [==============================] - 0s 1ms/step - loss: 0.7726 - accuracy: 0.4000\n",
            "Epoch 15/50\n",
            "1/1 [==============================] - 0s 1ms/step - loss: 0.7581 - accuracy: 0.5000\n",
            "Epoch 16/50\n",
            "1/1 [==============================] - 0s 2ms/step - loss: 0.7613 - accuracy: 0.5667\n",
            "Epoch 17/50\n",
            "1/1 [==============================] - 0s 1ms/step - loss: 0.7604 - accuracy: 0.4000\n",
            "Epoch 18/50\n",
            "1/1 [==============================] - 0s 1ms/step - loss: 0.7929 - accuracy: 0.6667\n",
            "Epoch 19/50\n",
            "1/1 [==============================] - 0s 1ms/step - loss: 0.7549 - accuracy: 0.4667\n",
            "Epoch 20/50\n",
            "1/1 [==============================] - 0s 1ms/step - loss: 0.7664 - accuracy: 0.4667\n",
            "Epoch 21/50\n",
            "1/1 [==============================] - 0s 1ms/step - loss: 0.7561 - accuracy: 0.5333\n",
            "Epoch 22/50\n",
            "1/1 [==============================] - 0s 1ms/step - loss: 0.7515 - accuracy: 0.5667\n",
            "Epoch 23/50\n",
            "1/1 [==============================] - 0s 1ms/step - loss: 0.7547 - accuracy: 0.4333\n",
            "Epoch 24/50\n",
            "1/1 [==============================] - 0s 1ms/step - loss: 0.7302 - accuracy: 0.4667\n",
            "Epoch 25/50\n",
            "1/1 [==============================] - 0s 1ms/step - loss: 0.7444 - accuracy: 0.5667\n",
            "Epoch 26/50\n",
            "1/1 [==============================] - 0s 1ms/step - loss: 0.7471 - accuracy: 0.3667\n",
            "Epoch 27/50\n",
            "1/1 [==============================] - 0s 2ms/step - loss: 0.7521 - accuracy: 0.4333\n",
            "Epoch 28/50\n",
            "1/1 [==============================] - 0s 1ms/step - loss: 0.7428 - accuracy: 0.5000\n",
            "Epoch 29/50\n",
            "1/1 [==============================] - 0s 1ms/step - loss: 0.7351 - accuracy: 0.3667\n",
            "Epoch 30/50\n",
            "1/1 [==============================] - 0s 1ms/step - loss: 0.7391 - accuracy: 0.6000\n",
            "Epoch 31/50\n",
            "1/1 [==============================] - 0s 2ms/step - loss: 0.7647 - accuracy: 0.4333\n",
            "Epoch 32/50\n",
            "1/1 [==============================] - 0s 1ms/step - loss: 0.7685 - accuracy: 0.4333\n",
            "Epoch 33/50\n",
            "1/1 [==============================] - 0s 1ms/step - loss: 0.7823 - accuracy: 0.5000\n",
            "Epoch 34/50\n",
            "1/1 [==============================] - 0s 2ms/step - loss: 0.7729 - accuracy: 0.4000\n",
            "Epoch 35/50\n",
            "1/1 [==============================] - 0s 1ms/step - loss: 0.7386 - accuracy: 0.4000\n",
            "Epoch 36/50\n",
            "1/1 [==============================] - 0s 1ms/step - loss: 0.7811 - accuracy: 0.5000\n",
            "Epoch 37/50\n",
            "1/1 [==============================] - 0s 2ms/step - loss: 0.7497 - accuracy: 0.4667\n",
            "Epoch 38/50\n",
            "1/1 [==============================] - 0s 1ms/step - loss: 0.7592 - accuracy: 0.6000\n",
            "Epoch 39/50\n",
            "1/1 [==============================] - 0s 1ms/step - loss: 0.7521 - accuracy: 0.5333\n",
            "Epoch 40/50\n",
            "1/1 [==============================] - 0s 1ms/step - loss: 0.7546 - accuracy: 0.5000\n",
            "Epoch 41/50\n",
            "1/1 [==============================] - 0s 4ms/step - loss: 0.7648 - accuracy: 0.5333\n",
            "Epoch 42/50\n",
            "1/1 [==============================] - 0s 1ms/step - loss: 0.7686 - accuracy: 0.6667\n",
            "Epoch 43/50\n",
            "1/1 [==============================] - 0s 1ms/step - loss: 0.7655 - accuracy: 0.3667\n",
            "Epoch 44/50\n",
            "1/1 [==============================] - 0s 2ms/step - loss: 0.7481 - accuracy: 0.5000\n",
            "Epoch 45/50\n",
            "1/1 [==============================] - 0s 1ms/step - loss: 0.7432 - accuracy: 0.4667\n",
            "Epoch 46/50\n",
            "1/1 [==============================] - 0s 1ms/step - loss: 0.7324 - accuracy: 0.4667\n",
            "Epoch 47/50\n",
            "1/1 [==============================] - 0s 1ms/step - loss: 0.7644 - accuracy: 0.5667\n",
            "Epoch 48/50\n",
            "1/1 [==============================] - 0s 1ms/step - loss: 0.7374 - accuracy: 0.4000\n",
            "Epoch 49/50\n",
            "1/1 [==============================] - 0s 1ms/step - loss: 0.7811 - accuracy: 0.4333\n",
            "Epoch 50/50\n",
            "1/1 [==============================] - 0s 2ms/step - loss: 0.7416 - accuracy: 0.5000\n"
          ],
          "name": "stdout"
        }
      ]
    },
    {
      "cell_type": "code",
      "metadata": {
        "id": "SBVLuh_YIQLg",
        "colab_type": "code",
        "colab": {}
      },
      "source": [
        "model.save('cats.h5')"
      ],
      "execution_count": 21,
      "outputs": []
    },
    {
      "cell_type": "code",
      "metadata": {
        "id": "ktBfBiowIjOY",
        "colab_type": "code",
        "colab": {
          "base_uri": "https://localhost:8080/",
          "height": 34
        },
        "outputId": "7840194b-d450-43bc-d5ac-b9550f9c0ac3"
      },
      "source": [
        "import os\n",
        "print(str(os.path.getsize('./cats.h5')/1000000) + 'MB')"
      ],
      "execution_count": 22,
      "outputs": [
        {
          "output_type": "stream",
          "text": [
            "9.528032MB\n"
          ],
          "name": "stdout"
        }
      ]
    },
    {
      "cell_type": "markdown",
      "metadata": {
        "id": "7Hq7CuB4PI1W",
        "colab_type": "text"
      },
      "source": [
        "**Model 2 Fine Tuning**"
      ]
    },
    {
      "cell_type": "code",
      "metadata": {
        "id": "x9saHArmIptC",
        "colab_type": "code",
        "colab": {}
      },
      "source": [
        "base_model.trainable = True"
      ],
      "execution_count": 35,
      "outputs": []
    },
    {
      "cell_type": "code",
      "metadata": {
        "id": "yE0XSta7PMM8",
        "colab_type": "code",
        "colab": {
          "base_uri": "https://localhost:8080/",
          "height": 34
        },
        "outputId": "46323a81-5bd2-47ad-ffb5-42f97adb2d74"
      },
      "source": [
        "# Let's take a look to see how many layers are in the base model\n",
        "print(\"Number of layers in the base model: \", len(base_model.layers))"
      ],
      "execution_count": 36,
      "outputs": [
        {
          "output_type": "stream",
          "text": [
            "Number of layers in the base model:  155\n"
          ],
          "name": "stdout"
        }
      ]
    },
    {
      "cell_type": "code",
      "metadata": {
        "id": "LCIE6S9RPOTf",
        "colab_type": "code",
        "colab": {}
      },
      "source": [
        "# Fine-tune from this layer onwards\n",
        "fine_tune_at = 100"
      ],
      "execution_count": 37,
      "outputs": []
    },
    {
      "cell_type": "code",
      "metadata": {
        "id": "SJfi6bvRPQdM",
        "colab_type": "code",
        "colab": {}
      },
      "source": [
        "# Freeze all the layers before the `fine_tune_at` layer\n",
        "for layer in base_model.layers[:fine_tune_at]:\n",
        "  layer.trainable =  False"
      ],
      "execution_count": 38,
      "outputs": []
    },
    {
      "cell_type": "code",
      "metadata": {
        "id": "lRqhnT79PTV3",
        "colab_type": "code",
        "colab": {}
      },
      "source": [
        "from tensorflow.keras.optimizers import RMSprop\n",
        "model.compile(\n",
        "    optimizer=RMSprop(lr=0.0001), \n",
        "    loss='binary_crossentropy', \n",
        "    metrics=['accuracy']\n",
        ")"
      ],
      "execution_count": 39,
      "outputs": []
    },
    {
      "cell_type": "code",
      "metadata": {
        "id": "TAloLHUuPb_M",
        "colab_type": "code",
        "colab": {
          "base_uri": "https://localhost:8080/",
          "height": 34
        },
        "outputId": "6c93cd6d-1ec3-4631-d30b-11ef640c0c01"
      },
      "source": [
        "len(model.trainable_variables)"
      ],
      "execution_count": 40,
      "outputs": [
        {
          "output_type": "execute_result",
          "data": {
            "text/plain": [
              "58"
            ]
          },
          "metadata": {
            "tags": []
          },
          "execution_count": 40
        }
      ]
    },
    {
      "cell_type": "code",
      "metadata": {
        "id": "Wpnb6Sy6Pf9O",
        "colab_type": "code",
        "colab": {
          "base_uri": "https://localhost:8080/",
          "height": 1000
        },
        "outputId": "5065c6b6-4574-4323-c125-d5365b76ef0b"
      },
      "source": [
        "history=model.fit_generator(train_datagen.flow(train_image, train_label, batch_size=32), epochs=50)"
      ],
      "execution_count": 41,
      "outputs": [
        {
          "output_type": "stream",
          "text": [
            "Epoch 1/50\n",
            "1/1 [==============================] - 0s 1ms/step - loss: 1.2989 - accuracy: 0.6000\n",
            "Epoch 2/50\n",
            "1/1 [==============================] - 0s 1ms/step - loss: 0.7440 - accuracy: 0.4333\n",
            "Epoch 3/50\n",
            "1/1 [==============================] - 0s 1ms/step - loss: 1.3211 - accuracy: 0.6000\n",
            "Epoch 4/50\n",
            "1/1 [==============================] - 0s 1ms/step - loss: 0.7339 - accuracy: 0.4333\n",
            "Epoch 5/50\n",
            "1/1 [==============================] - 0s 1ms/step - loss: 0.8519 - accuracy: 0.5667\n",
            "Epoch 6/50\n",
            "1/1 [==============================] - 0s 1ms/step - loss: 0.9528 - accuracy: 0.4000\n",
            "Epoch 7/50\n",
            "1/1 [==============================] - 0s 1ms/step - loss: 1.1027 - accuracy: 0.6000\n",
            "Epoch 8/50\n",
            "1/1 [==============================] - 0s 1ms/step - loss: 0.8089 - accuracy: 0.4667\n",
            "Epoch 9/50\n",
            "1/1 [==============================] - 0s 1ms/step - loss: 1.0365 - accuracy: 0.6000\n",
            "Epoch 10/50\n",
            "1/1 [==============================] - 0s 1ms/step - loss: 0.8144 - accuracy: 0.4000\n",
            "Epoch 11/50\n",
            "1/1 [==============================] - 0s 1ms/step - loss: 0.8062 - accuracy: 0.6000\n",
            "Epoch 12/50\n",
            "1/1 [==============================] - 0s 1ms/step - loss: 0.7914 - accuracy: 0.5000\n",
            "Epoch 13/50\n",
            "1/1 [==============================] - 0s 1ms/step - loss: 0.7683 - accuracy: 0.5000\n",
            "Epoch 14/50\n",
            "1/1 [==============================] - 0s 1ms/step - loss: 0.7483 - accuracy: 0.3667\n",
            "Epoch 15/50\n",
            "1/1 [==============================] - 0s 1ms/step - loss: 0.7353 - accuracy: 0.5667\n",
            "Epoch 16/50\n",
            "1/1 [==============================] - 0s 1ms/step - loss: 0.7214 - accuracy: 0.5333\n",
            "Epoch 17/50\n",
            "1/1 [==============================] - 0s 1ms/step - loss: 0.7141 - accuracy: 0.6000\n",
            "Epoch 18/50\n",
            "1/1 [==============================] - 0s 1ms/step - loss: 0.7096 - accuracy: 0.4000\n",
            "Epoch 19/50\n",
            "1/1 [==============================] - 0s 1ms/step - loss: 0.7165 - accuracy: 0.4667\n",
            "Epoch 20/50\n",
            "1/1 [==============================] - 0s 1ms/step - loss: 0.7148 - accuracy: 0.6333\n",
            "Epoch 21/50\n",
            "1/1 [==============================] - 0s 1ms/step - loss: 0.7146 - accuracy: 0.5000\n",
            "Epoch 22/50\n",
            "1/1 [==============================] - 0s 1ms/step - loss: 0.7278 - accuracy: 0.4333\n",
            "Epoch 23/50\n",
            "1/1 [==============================] - 0s 1ms/step - loss: 0.7205 - accuracy: 0.4333\n",
            "Epoch 24/50\n",
            "1/1 [==============================] - 0s 1ms/step - loss: 0.7643 - accuracy: 0.5333\n",
            "Epoch 25/50\n",
            "1/1 [==============================] - 0s 1ms/step - loss: 0.8235 - accuracy: 0.3667\n",
            "Epoch 26/50\n",
            "1/1 [==============================] - 0s 1ms/step - loss: 0.8540 - accuracy: 0.6000\n",
            "Epoch 27/50\n",
            "1/1 [==============================] - 0s 1ms/step - loss: 0.7875 - accuracy: 0.4333\n",
            "Epoch 28/50\n",
            "1/1 [==============================] - 0s 1ms/step - loss: 0.9012 - accuracy: 0.6000\n",
            "Epoch 29/50\n",
            "1/1 [==============================] - 0s 1ms/step - loss: 0.8649 - accuracy: 0.4000\n",
            "Epoch 30/50\n",
            "1/1 [==============================] - 0s 2ms/step - loss: 0.8882 - accuracy: 0.6000\n",
            "Epoch 31/50\n",
            "1/1 [==============================] - 0s 1ms/step - loss: 0.7977 - accuracy: 0.4333\n",
            "Epoch 32/50\n",
            "1/1 [==============================] - 0s 1ms/step - loss: 0.8082 - accuracy: 0.5667\n",
            "Epoch 33/50\n",
            "1/1 [==============================] - 0s 1ms/step - loss: 0.7594 - accuracy: 0.4667\n",
            "Epoch 34/50\n",
            "1/1 [==============================] - 0s 1ms/step - loss: 0.7461 - accuracy: 0.6333\n",
            "Epoch 35/50\n",
            "1/1 [==============================] - 0s 1ms/step - loss: 0.7402 - accuracy: 0.4000\n",
            "Epoch 36/50\n",
            "1/1 [==============================] - 0s 1ms/step - loss: 0.7558 - accuracy: 0.6000\n",
            "Epoch 37/50\n",
            "1/1 [==============================] - 0s 1ms/step - loss: 0.7238 - accuracy: 0.3667\n",
            "Epoch 38/50\n",
            "1/1 [==============================] - 0s 1ms/step - loss: 0.7196 - accuracy: 0.7000\n",
            "Epoch 39/50\n",
            "1/1 [==============================] - 0s 1ms/step - loss: 0.7173 - accuracy: 0.3667\n",
            "Epoch 40/50\n",
            "1/1 [==============================] - 0s 1ms/step - loss: 0.7259 - accuracy: 0.5667\n",
            "Epoch 41/50\n",
            "1/1 [==============================] - 0s 1ms/step - loss: 0.7220 - accuracy: 0.5000\n",
            "Epoch 42/50\n",
            "1/1 [==============================] - 0s 1ms/step - loss: 0.7191 - accuracy: 0.5667\n",
            "Epoch 43/50\n",
            "1/1 [==============================] - 0s 1ms/step - loss: 0.7176 - accuracy: 0.5000\n",
            "Epoch 44/50\n",
            "1/1 [==============================] - 0s 1ms/step - loss: 0.7218 - accuracy: 0.4667\n",
            "Epoch 45/50\n",
            "1/1 [==============================] - 0s 1ms/step - loss: 0.7387 - accuracy: 0.3667\n",
            "Epoch 46/50\n",
            "1/1 [==============================] - 0s 2ms/step - loss: 0.7809 - accuracy: 0.6333\n",
            "Epoch 47/50\n",
            "1/1 [==============================] - 0s 1ms/step - loss: 0.7847 - accuracy: 0.4000\n",
            "Epoch 48/50\n",
            "1/1 [==============================] - 0s 1ms/step - loss: 0.8009 - accuracy: 0.5667\n",
            "Epoch 49/50\n",
            "1/1 [==============================] - 0s 1ms/step - loss: 0.8054 - accuracy: 0.4667\n",
            "Epoch 50/50\n",
            "1/1 [==============================] - 0s 1ms/step - loss: 0.8582 - accuracy: 0.6000\n"
          ],
          "name": "stdout"
        }
      ]
    },
    {
      "cell_type": "code",
      "metadata": {
        "id": "Mr5Tg65GPsK9",
        "colab_type": "code",
        "colab": {}
      },
      "source": [
        "model.save('cats.h5')"
      ],
      "execution_count": 42,
      "outputs": []
    },
    {
      "cell_type": "code",
      "metadata": {
        "id": "unalgFLqQFKJ",
        "colab_type": "code",
        "colab": {
          "base_uri": "https://localhost:8080/",
          "height": 34
        },
        "outputId": "13db6fa4-d306-4179-ddfe-1de59477db12"
      },
      "source": [
        "import os\n",
        "print(str(os.path.getsize('./cats.h5')/1000000) + 'MB')"
      ],
      "execution_count": 43,
      "outputs": [
        {
          "output_type": "stream",
          "text": [
            "17.097408MB\n"
          ],
          "name": "stdout"
        }
      ]
    },
    {
      "cell_type": "code",
      "metadata": {
        "id": "6QVDR5scQH_H",
        "colab_type": "code",
        "colab": {}
      },
      "source": [
        ""
      ],
      "execution_count": null,
      "outputs": []
    }
  ]
}