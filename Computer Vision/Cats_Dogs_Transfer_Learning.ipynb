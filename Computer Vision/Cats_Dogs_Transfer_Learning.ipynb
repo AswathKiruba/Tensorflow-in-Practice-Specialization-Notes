{
  "nbformat": 4,
  "nbformat_minor": 0,
  "metadata": {
    "colab": {
      "name": "Cats_Dogs Transfer Learning.ipynb",
      "provenance": [],
      "collapsed_sections": []
    },
    "kernelspec": {
      "name": "python3",
      "display_name": "Python 3"
    }
  },
  "cells": [
    {
      "cell_type": "code",
      "metadata": {
        "id": "PYnOgukd_LcB",
        "colab_type": "code",
        "colab": {}
      },
      "source": [
        "import os\n",
        "import zipfile\n",
        "import random\n",
        "import tensorflow as tf\n",
        "from tensorflow.keras.optimizers import RMSprop\n",
        "from tensorflow.keras.preprocessing.image import ImageDataGenerator\n",
        "from shutil import copyfile"
      ],
      "execution_count": 2,
      "outputs": []
    },
    {
      "cell_type": "code",
      "metadata": {
        "id": "ayHtoOti_Vyz",
        "colab_type": "code",
        "colab": {
          "base_uri": "https://localhost:8080/",
          "height": 204
        },
        "outputId": "d2553a35-3af2-47f4-93a3-1e5232786aa8"
      },
      "source": [
        "!wget --no-check-certificate \\\n",
        "    \"https://download.microsoft.com/download/3/E/1/3E1C3F21-ECDB-4869-8368-6DEBA77B919F/kagglecatsanddogs_3367a.zip\" \\\n",
        "    -O \"/tmp/cats-and-dogs.zip\"\n",
        "\n",
        "local_zip = '/tmp/cats-and-dogs.zip'\n",
        "zip_ref = zipfile.ZipFile(local_zip, 'r')\n",
        "zip_ref.extractall('/tmp')\n",
        "zip_ref.close()"
      ],
      "execution_count": 3,
      "outputs": [
        {
          "output_type": "stream",
          "text": [
            "--2020-08-12 02:38:55--  https://download.microsoft.com/download/3/E/1/3E1C3F21-ECDB-4869-8368-6DEBA77B919F/kagglecatsanddogs_3367a.zip\n",
            "Resolving download.microsoft.com (download.microsoft.com)... 23.35.76.84, 2600:1407:d800:29f::e59, 2600:1407:d800:29d::e59\n",
            "Connecting to download.microsoft.com (download.microsoft.com)|23.35.76.84|:443... connected.\n",
            "HTTP request sent, awaiting response... 200 OK\n",
            "Length: 824894548 (787M) [application/octet-stream]\n",
            "Saving to: ‘/tmp/cats-and-dogs.zip’\n",
            "\n",
            "/tmp/cats-and-dogs. 100%[===================>] 786.68M  78.7MB/s    in 8.6s    \n",
            "\n",
            "2020-08-12 02:39:04 (91.8 MB/s) - ‘/tmp/cats-and-dogs.zip’ saved [824894548/824894548]\n",
            "\n"
          ],
          "name": "stdout"
        }
      ]
    },
    {
      "cell_type": "code",
      "metadata": {
        "id": "2Ei9uUFP_Zwv",
        "colab_type": "code",
        "colab": {
          "base_uri": "https://localhost:8080/",
          "height": 51
        },
        "outputId": "a27269c8-0eef-401a-9bfc-13d0e3148aa3"
      },
      "source": [
        "print(len(os.listdir('/tmp/PetImages/Cat/')))\n",
        "print(len(os.listdir('/tmp/PetImages/Dog/')))"
      ],
      "execution_count": 4,
      "outputs": [
        {
          "output_type": "stream",
          "text": [
            "12501\n",
            "12501\n"
          ],
          "name": "stdout"
        }
      ]
    },
    {
      "cell_type": "code",
      "metadata": {
        "id": "DyAW4OWg_fKR",
        "colab_type": "code",
        "colab": {}
      },
      "source": [
        "try:\n",
        "    os.mkdir('/tmp/cats-v-dogs')\n",
        "    os.mkdir('/tmp/cats-v-dogs/training')\n",
        "    os.mkdir('/tmp/cats-v-dogs/testing')\n",
        "    os.mkdir('/tmp/cats-v-dogs/training/cats')\n",
        "    os.mkdir('/tmp/cats-v-dogs/training/dogs')\n",
        "    os.mkdir('/tmp/cats-v-dogs/testing/cats')\n",
        "    os.mkdir('/tmp/cats-v-dogs/testing/dogs')\n",
        "except OSError:\n",
        "    pass"
      ],
      "execution_count": 5,
      "outputs": []
    },
    {
      "cell_type": "code",
      "metadata": {
        "id": "YBc893AQ_j-h",
        "colab_type": "code",
        "colab": {
          "base_uri": "https://localhost:8080/",
          "height": 51
        },
        "outputId": "22e1cf43-2901-41c9-bf26-c3680303b8c6"
      },
      "source": [
        "\n",
        "def split_data(SOURCE, TRAINING, TESTING, SPLIT_SIZE):\n",
        "    all_files = []\n",
        "    \n",
        "    for file_name in os.listdir(SOURCE):\n",
        "        file_path = SOURCE + file_name\n",
        "\n",
        "        if os.path.getsize(file_path):\n",
        "            all_files.append(file_name)\n",
        "        else:\n",
        "            print('{} is zero length, so ignoring'.format(file_name))\n",
        "    \n",
        "    n_files = len(all_files)\n",
        "    split_point = int(n_files * SPLIT_SIZE)\n",
        "    \n",
        "    shuffled = random.sample(all_files, n_files)\n",
        "    \n",
        "    train_set = shuffled[:split_point]\n",
        "    test_set = shuffled[split_point:]\n",
        "    \n",
        "    for file_name in train_set:\n",
        "        copyfile(SOURCE + file_name, TRAINING + file_name)\n",
        "        \n",
        "    for file_name in test_set:\n",
        "        copyfile(SOURCE + file_name, TESTING + file_name)\n",
        "\n",
        "\n",
        "CAT_SOURCE_DIR = \"/tmp/PetImages/Cat/\"\n",
        "TRAINING_CATS_DIR = \"/tmp/cats-v-dogs/training/cats/\"\n",
        "TESTING_CATS_DIR = \"/tmp/cats-v-dogs/testing/cats/\"\n",
        "DOG_SOURCE_DIR = \"/tmp/PetImages/Dog/\"\n",
        "TRAINING_DOGS_DIR = \"/tmp/cats-v-dogs/training/dogs/\"\n",
        "TESTING_DOGS_DIR = \"/tmp/cats-v-dogs/testing/dogs/\"\n",
        "\n",
        "split_size = .9\n",
        "split_data(CAT_SOURCE_DIR, TRAINING_CATS_DIR, TESTING_CATS_DIR, split_size)\n",
        "split_data(DOG_SOURCE_DIR, TRAINING_DOGS_DIR, TESTING_DOGS_DIR, split_size)"
      ],
      "execution_count": 6,
      "outputs": [
        {
          "output_type": "stream",
          "text": [
            "666.jpg is zero length, so ignoring\n",
            "11702.jpg is zero length, so ignoring\n"
          ],
          "name": "stdout"
        }
      ]
    },
    {
      "cell_type": "code",
      "metadata": {
        "id": "o3PtJ8fH_1iJ",
        "colab_type": "code",
        "colab": {
          "base_uri": "https://localhost:8080/",
          "height": 85
        },
        "outputId": "f5846fbd-4e56-40ac-8472-0ca4de9c96fa"
      },
      "source": [
        "print(len(os.listdir('/tmp/cats-v-dogs/training/cats/')))\n",
        "print(len(os.listdir('/tmp/cats-v-dogs/training/dogs/')))\n",
        "print(len(os.listdir('/tmp/cats-v-dogs/testing/cats/')))\n",
        "print(len(os.listdir('/tmp/cats-v-dogs/testing/dogs/')))"
      ],
      "execution_count": 7,
      "outputs": [
        {
          "output_type": "stream",
          "text": [
            "11250\n",
            "11250\n",
            "1250\n",
            "1250\n"
          ],
          "name": "stdout"
        }
      ]
    },
    {
      "cell_type": "code",
      "metadata": {
        "id": "vPK1B2em_4fI",
        "colab_type": "code",
        "colab": {}
      },
      "source": [
        "BATCH_SIZE = 32\n",
        "IMG_SIZE = (224, 224)"
      ],
      "execution_count": 8,
      "outputs": []
    },
    {
      "cell_type": "code",
      "metadata": {
        "id": "-FRQPtnAAIyC",
        "colab_type": "code",
        "colab": {
          "base_uri": "https://localhost:8080/",
          "height": 51
        },
        "outputId": "0a0ccc62-377a-49ba-a2f9-f01c0315d17c"
      },
      "source": [
        "\n",
        "# Create the base model from the pre-trained model MobileNet V2\n",
        "IMG_SHAPE = IMG_SIZE + (3,)\n",
        "base_model = tf.keras.applications.MobileNetV2(input_shape=IMG_SHAPE,\n",
        "                                               include_top=False,\n",
        "                                               weights='imagenet')"
      ],
      "execution_count": 9,
      "outputs": [
        {
          "output_type": "stream",
          "text": [
            "Downloading data from https://storage.googleapis.com/tensorflow/keras-applications/mobilenet_v2/mobilenet_v2_weights_tf_dim_ordering_tf_kernels_1.0_224_no_top.h5\n",
            "9412608/9406464 [==============================] - 0s 0us/step\n"
          ],
          "name": "stdout"
        }
      ]
    },
    {
      "cell_type": "code",
      "metadata": {
        "id": "VFinDYdPANfc",
        "colab_type": "code",
        "colab": {}
      },
      "source": [
        "# Make all the layers in the pre-trained model non-trainable\n",
        "for layer in base_model.layers:\n",
        "  layer.trainable = False"
      ],
      "execution_count": 10,
      "outputs": []
    },
    {
      "cell_type": "code",
      "metadata": {
        "id": "QplP-BrcAS6N",
        "colab_type": "code",
        "colab": {
          "base_uri": "https://localhost:8080/",
          "height": 34
        },
        "outputId": "44be589e-ff35-45f8-9bf8-4b65059f51ae"
      },
      "source": [
        "last_layer = base_model.get_layer('out_relu')\n",
        "print('last layer output shape: ', last_layer.output_shape)\n",
        "last_output = last_layer.output"
      ],
      "execution_count": 11,
      "outputs": [
        {
          "output_type": "stream",
          "text": [
            "last layer output shape:  (None, 7, 7, 1280)\n"
          ],
          "name": "stdout"
        }
      ]
    },
    {
      "cell_type": "code",
      "metadata": {
        "id": "-umJL13kAXXi",
        "colab_type": "code",
        "colab": {}
      },
      "source": [
        "global_average_layer = tf.keras.layers.GlobalAveragePooling2D()\n",
        "prediction_layer = tf.keras.layers.Dense(2, activation='softmax')"
      ],
      "execution_count": 12,
      "outputs": []
    },
    {
      "cell_type": "code",
      "metadata": {
        "id": "HJC0Voc_BJFp",
        "colab_type": "code",
        "colab": {}
      },
      "source": [
        "x = global_average_layer(last_output)\n",
        "x = tf.keras.layers.Dropout(0.2)(x)\n",
        "outputs = prediction_layer(x)"
      ],
      "execution_count": 13,
      "outputs": []
    },
    {
      "cell_type": "code",
      "metadata": {
        "id": "JomqQ_ZbBeLI",
        "colab_type": "code",
        "colab": {}
      },
      "source": [
        "model = tf.keras.Model(base_model.input, outputs)"
      ],
      "execution_count": 14,
      "outputs": []
    },
    {
      "cell_type": "code",
      "metadata": {
        "id": "pHjXqVapBjC9",
        "colab_type": "code",
        "colab": {}
      },
      "source": [
        "from tensorflow.keras.optimizers import RMSprop\n",
        "model.compile(\n",
        "    optimizer=RMSprop(lr=0.0001), \n",
        "    loss='sparse_categorical_crossentropy', \n",
        "    metrics=['accuracy']\n",
        ")"
      ],
      "execution_count": 15,
      "outputs": []
    },
    {
      "cell_type": "code",
      "metadata": {
        "id": "3r4DKco0BmWN",
        "colab_type": "code",
        "colab": {
          "base_uri": "https://localhost:8080/",
          "height": 51
        },
        "outputId": "79c16c3e-d8b2-46ea-b269-519baed00a75"
      },
      "source": [
        "TRAINING_DIR = '/tmp/cats-v-dogs/training'\n",
        "train_datagen = ImageDataGenerator(\n",
        "    rescale=1 / 255,\n",
        "    rotation_range=40,\n",
        "    width_shift_range=.2,\n",
        "    height_shift_range=.2,\n",
        "    shear_range=.2,\n",
        "    zoom_range=.2,\n",
        "    horizontal_flip=True,\n",
        "    fill_mode='nearest'\n",
        ")\n",
        "train_generator = train_datagen.flow_from_directory(\n",
        "    TRAINING_DIR,\n",
        "    batch_size=BATCH_SIZE,\n",
        "    class_mode='binary',\n",
        "    target_size=(224, 224)\n",
        ")\n",
        "\n",
        "VALIDATION_DIR = '/tmp/cats-v-dogs/testing'\n",
        "validation_datagen = ImageDataGenerator(\n",
        "    rescale=1 / 255\n",
        ")\n",
        "validation_generator = validation_datagen.flow_from_directory(\n",
        "    VALIDATION_DIR,\n",
        "    batch_size=BATCH_SIZE,\n",
        "    class_mode='binary',\n",
        "    target_size=(224, 224)\n",
        ")"
      ],
      "execution_count": 16,
      "outputs": [
        {
          "output_type": "stream",
          "text": [
            "Found 22499 images belonging to 2 classes.\n",
            "Found 2499 images belonging to 2 classes.\n"
          ],
          "name": "stdout"
        }
      ]
    },
    {
      "cell_type": "code",
      "metadata": {
        "id": "Q-m8OpGhJ2yv",
        "colab_type": "code",
        "colab": {
          "base_uri": "https://localhost:8080/",
          "height": 34
        },
        "outputId": "a0916af4-23ae-462a-ef27-96a41df75ecf"
      },
      "source": [
        "BATCH_SIZE"
      ],
      "execution_count": 17,
      "outputs": [
        {
          "output_type": "execute_result",
          "data": {
            "text/plain": [
              "32"
            ]
          },
          "metadata": {
            "tags": []
          },
          "execution_count": 17
        }
      ]
    },
    {
      "cell_type": "code",
      "metadata": {
        "id": "7HsQunF4B5Em",
        "colab_type": "code",
        "colab": {
          "base_uri": "https://localhost:8080/",
          "height": 714
        },
        "outputId": "b038cdcc-0749-4db8-a168-6383d400114e"
      },
      "source": [
        "import warnings\n",
        "warnings.filterwarnings('ignore')\n",
        "print('warnings ignored')\n",
        "\n",
        "from keras.callbacks import ModelCheckpoint \n",
        "\n",
        "filepath = \"catsdog-mnv2-{epoch:02d}-{val_accuracy:.2f}.hdf5\"\n",
        "checkpoint = ModelCheckpoint(filepath, verbose=1, save_best_only=True, mode='auto')\n",
        "\n",
        "history = model.fit_generator(train_generator,\n",
        "                              epochs=10,\n",
        "                              verbose=1,\n",
        "                              validation_data=validation_generator,\n",
        "                              callbacks=[checkpoint])"
      ],
      "execution_count": 19,
      "outputs": [
        {
          "output_type": "stream",
          "text": [
            "warnings ignored\n",
            "Epoch 1/10\n",
            "704/704 [==============================] - ETA: 0s - loss: 0.1901 - accuracy: 0.9247\n",
            "Epoch 00001: val_loss improved from inf to 0.07847, saving model to catsdog-mnv2-01-0.97.hdf5\n",
            "704/704 [==============================] - 352s 501ms/step - loss: 0.1901 - accuracy: 0.9247 - val_loss: 0.0785 - val_accuracy: 0.9744\n",
            "Epoch 2/10\n",
            "704/704 [==============================] - ETA: 0s - loss: 0.1195 - accuracy: 0.9514\n",
            "Epoch 00002: val_loss improved from 0.07847 to 0.06677, saving model to catsdog-mnv2-02-0.98.hdf5\n",
            "704/704 [==============================] - 354s 503ms/step - loss: 0.1195 - accuracy: 0.9514 - val_loss: 0.0668 - val_accuracy: 0.9768\n",
            "Epoch 3/10\n",
            "704/704 [==============================] - ETA: 0s - loss: 0.1097 - accuracy: 0.9576\n",
            "Epoch 00003: val_loss improved from 0.06677 to 0.06501, saving model to catsdog-mnv2-03-0.98.hdf5\n",
            "704/704 [==============================] - 355s 505ms/step - loss: 0.1097 - accuracy: 0.9576 - val_loss: 0.0650 - val_accuracy: 0.9772\n",
            "Epoch 4/10\n",
            "704/704 [==============================] - ETA: 0s - loss: 0.1041 - accuracy: 0.9593\n",
            "Epoch 00004: val_loss improved from 0.06501 to 0.05922, saving model to catsdog-mnv2-04-0.98.hdf5\n",
            "704/704 [==============================] - 354s 503ms/step - loss: 0.1041 - accuracy: 0.9593 - val_loss: 0.0592 - val_accuracy: 0.9792\n",
            "Epoch 5/10\n",
            "704/704 [==============================] - ETA: 0s - loss: 0.1012 - accuracy: 0.9588\n",
            "Epoch 00005: val_loss improved from 0.05922 to 0.05610, saving model to catsdog-mnv2-05-0.98.hdf5\n",
            "704/704 [==============================] - 354s 502ms/step - loss: 0.1012 - accuracy: 0.9588 - val_loss: 0.0561 - val_accuracy: 0.9804\n",
            "Epoch 6/10\n",
            "704/704 [==============================] - ETA: 0s - loss: 0.0968 - accuracy: 0.9608\n",
            "Epoch 00006: val_loss did not improve from 0.05610\n",
            "704/704 [==============================] - 353s 501ms/step - loss: 0.0968 - accuracy: 0.9608 - val_loss: 0.0570 - val_accuracy: 0.9796\n",
            "Epoch 7/10\n",
            "704/704 [==============================] - ETA: 0s - loss: 0.0959 - accuracy: 0.9624\n",
            "Epoch 00007: val_loss improved from 0.05610 to 0.04971, saving model to catsdog-mnv2-07-0.98.hdf5\n",
            "704/704 [==============================] - 348s 494ms/step - loss: 0.0959 - accuracy: 0.9624 - val_loss: 0.0497 - val_accuracy: 0.9840\n",
            "Epoch 8/10\n",
            "704/704 [==============================] - ETA: 0s - loss: 0.0948 - accuracy: 0.9623\n",
            "Epoch 00008: val_loss improved from 0.04971 to 0.04967, saving model to catsdog-mnv2-08-0.98.hdf5\n",
            "704/704 [==============================] - 347s 493ms/step - loss: 0.0948 - accuracy: 0.9623 - val_loss: 0.0497 - val_accuracy: 0.9848\n",
            "Epoch 9/10\n",
            "704/704 [==============================] - ETA: 0s - loss: 0.0910 - accuracy: 0.9641\n",
            "Epoch 00009: val_loss did not improve from 0.04967\n",
            "704/704 [==============================] - 350s 497ms/step - loss: 0.0910 - accuracy: 0.9641 - val_loss: 0.0518 - val_accuracy: 0.9824\n",
            "Epoch 10/10\n",
            "704/704 [==============================] - ETA: 0s - loss: 0.0935 - accuracy: 0.9627\n",
            "Epoch 00010: val_loss did not improve from 0.04967\n",
            "704/704 [==============================] - 358s 509ms/step - loss: 0.0935 - accuracy: 0.9627 - val_loss: 0.0503 - val_accuracy: 0.9840\n"
          ],
          "name": "stdout"
        }
      ]
    },
    {
      "cell_type": "code",
      "metadata": {
        "id": "G116SuwwGtht",
        "colab_type": "code",
        "colab": {}
      },
      "source": [
        "model.save('cats_dogs_mv2.h5')"
      ],
      "execution_count": 20,
      "outputs": []
    },
    {
      "cell_type": "code",
      "metadata": {
        "id": "VQiyXM_WRVqm",
        "colab_type": "code",
        "colab": {
          "base_uri": "https://localhost:8080/",
          "height": 34
        },
        "outputId": "1b9a7db6-3aba-4b12-e357-2b5b028968e3"
      },
      "source": [
        "import os\n",
        "print(str(os.path.getsize('./cats_dogs_mv2.h5')/1000000) + 'MB')"
      ],
      "execution_count": 21,
      "outputs": [
        {
          "output_type": "stream",
          "text": [
            "9.528032MB\n"
          ],
          "name": "stdout"
        }
      ]
    },
    {
      "cell_type": "code",
      "metadata": {
        "id": "Zf-RYCYkK5d0",
        "colab_type": "code",
        "colab": {}
      },
      "source": [
        ""
      ],
      "execution_count": 21,
      "outputs": []
    }
  ]
}