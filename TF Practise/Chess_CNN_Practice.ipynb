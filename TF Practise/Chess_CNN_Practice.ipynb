{
  "nbformat": 4,
  "nbformat_minor": 0,
  "metadata": {
    "colab": {
      "name": "Chess CNN Practice.ipynb",
      "provenance": [],
      "collapsed_sections": []
    },
    "kernelspec": {
      "name": "python3",
      "display_name": "Python 3"
    }
  },
  "cells": [
    {
      "cell_type": "code",
      "metadata": {
        "id": "1qi28dTsIWIf",
        "colab_type": "code",
        "colab": {}
      },
      "source": [
        "import os\n",
        "import zipfile\n",
        "import random\n",
        "import tensorflow as tf\n",
        "from tensorflow.keras.optimizers import RMSprop\n",
        "from tensorflow.keras.preprocessing.image import ImageDataGenerator\n",
        "from shutil import copyfile"
      ],
      "execution_count": 1,
      "outputs": []
    },
    {
      "cell_type": "code",
      "metadata": {
        "id": "fkqsxAA8OJOa",
        "colab_type": "code",
        "colab": {}
      },
      "source": [
        "local_zip = './chess.zip'\n",
        "zip_ref = zipfile.ZipFile(local_zip, 'r')\n",
        "zip_ref.extractall('/tmp')\n",
        "zip_ref.close()"
      ],
      "execution_count": 34,
      "outputs": []
    },
    {
      "cell_type": "code",
      "metadata": {
        "id": "NYnqMes9Zaj6",
        "colab_type": "code",
        "colab": {
          "base_uri": "https://localhost:8080/",
          "height": 119
        },
        "outputId": "a6a53d8b-6c17-45da-aee7-99b5d9c41db6"
      },
      "source": [
        "print(len(os.listdir('/tmp/Chessman-image-dataset/Chess/Bishop')))\n",
        "print(len(os.listdir('/tmp/Chessman-image-dataset/Chess/King')))\n",
        "print(len(os.listdir('/tmp/Chessman-image-dataset/Chess/Knight')))\n",
        "print(len(os.listdir('/tmp/Chessman-image-dataset/Chess/Pawn')))\n",
        "print(len(os.listdir('/tmp/Chessman-image-dataset/Chess/Queen')))\n",
        "print(len(os.listdir('/tmp/Chessman-image-dataset/Chess/Rook')))"
      ],
      "execution_count": 35,
      "outputs": [
        {
          "output_type": "stream",
          "text": [
            "87\n",
            "76\n",
            "106\n",
            "107\n",
            "78\n",
            "102\n"
          ],
          "name": "stdout"
        }
      ]
    },
    {
      "cell_type": "code",
      "metadata": {
        "id": "fYL3NY_OZxLF",
        "colab_type": "code",
        "colab": {
          "base_uri": "https://localhost:8080/",
          "height": 272
        },
        "outputId": "ca087028-6977-45f2-91e4-983123c42ab9"
      },
      "source": [
        "to_create = [\n",
        "    '/tmp/chess',\n",
        "    '/tmp/chess/training',\n",
        "    '/tmp/chess/testing',\n",
        "    '/tmp/chess/training/Bishop',\n",
        "    '/tmp/chess/training/King',\n",
        "    '/tmp/chess/training/Knight',\n",
        "    '/tmp/chess/training/Pawn',\n",
        "    '/tmp/chess/training/Queen',\n",
        "    '/tmp/chess/training/Rook',\n",
        "    '/tmp/chess/testing/Bishop',\n",
        "    '/tmp/chess/testing/King',\n",
        "    '/tmp/chess/testing/Knight',\n",
        "    '/tmp/chess/testing/Pawn',\n",
        "    '/tmp/chess/testing/Queen',\n",
        "    '/tmp/chess/testing/Rook'\n",
        "]\n",
        "\n",
        "for directory in to_create:\n",
        "    try:\n",
        "        os.mkdir(directory)\n",
        "        print(directory, 'created')\n",
        "    except:\n",
        "        print(directory, 'failed')"
      ],
      "execution_count": 36,
      "outputs": [
        {
          "output_type": "stream",
          "text": [
            "/tmp/chess created\n",
            "/tmp/chess/training created\n",
            "/tmp/chess/testing created\n",
            "/tmp/chess/training/Bishop created\n",
            "/tmp/chess/training/King created\n",
            "/tmp/chess/training/Knight created\n",
            "/tmp/chess/training/Pawn created\n",
            "/tmp/chess/training/Queen created\n",
            "/tmp/chess/training/Rook created\n",
            "/tmp/chess/testing/Bishop created\n",
            "/tmp/chess/testing/King created\n",
            "/tmp/chess/testing/Knight created\n",
            "/tmp/chess/testing/Pawn created\n",
            "/tmp/chess/testing/Queen created\n",
            "/tmp/chess/testing/Rook created\n"
          ],
          "name": "stdout"
        }
      ]
    },
    {
      "cell_type": "code",
      "metadata": {
        "id": "d1YWqQX2aiLB",
        "colab_type": "code",
        "colab": {}
      },
      "source": [
        "def split_data(SOURCE, TRAINING, TESTING,):\n",
        "    all_files = []\n",
        "    \n",
        "    for file_name in os.listdir(SOURCE):\n",
        "        file_path = SOURCE + file_name\n",
        "\n",
        "        if os.path.getsize(file_path):\n",
        "            all_files.append(file_name)\n",
        "        else:\n",
        "            print('{} is zero length, so ignoring'.format(file_name))\n",
        "    \n",
        "    n_files = len(all_files)\n",
        "    split_point = 60\n",
        "    \n",
        "    shuffled = random.sample(all_files, n_files)\n",
        "    \n",
        "    train_set = shuffled[:split_point]\n",
        "    test_set = shuffled[split_point:76]\n",
        "    \n",
        "    for file_name in train_set:\n",
        "        copyfile(SOURCE + file_name, TRAINING + file_name)\n",
        "        \n",
        "    for file_name in test_set:\n",
        "        copyfile(SOURCE + file_name, TESTING + file_name)"
      ],
      "execution_count": 37,
      "outputs": []
    },
    {
      "cell_type": "code",
      "metadata": {
        "id": "yJUTw9m0bIUn",
        "colab_type": "code",
        "colab": {}
      },
      "source": [
        "BISHOP_SOURCE_DIR = r\"/tmp/Chessman-image-dataset/Chess/Bishop/\"\n",
        "TRAINING_BISHOP_DIR = r\"/tmp/chess/training/Bishop/\"\n",
        "TESTING_BISHOP_DIR = r\"/tmp/chess/testing/Bishop/\"\n",
        "\n",
        "KING_SOURCE_DIR = r\"/tmp/Chessman-image-dataset/Chess/King/\"\n",
        "TRAINING_KING_DIR = r\"/tmp/chess/training/King/\"\n",
        "TESTING_KING_DIR = r\"/tmp/chess/testing/King/\"\n",
        "\n",
        "KNIGHT_SOURCE_DIR = r\"/tmp/Chessman-image-dataset/Chess/Knight/\"\n",
        "TRAINING_KNIGHT_DIR = r\"/tmp/chess/training/Knight/\"\n",
        "TESTING_KNIGHT_DIR = r\"/tmp/chess/testing/Knight/\"\n",
        "\n",
        "PAWN_SOURCE_DIR = r\"/tmp/Chessman-image-dataset/Chess/Pawn/\"\n",
        "TRAINING_PAWN_DIR = r\"/tmp/chess/training/Pawn/\"\n",
        "TESTING_PAWN_DIR = r\"/tmp/chess/testing/Pawn/\"\n",
        "\n",
        "QUEEN_SOURCE_DIR = r\"/tmp/Chessman-image-dataset/Chess/Queen/\"\n",
        "TRAINING_QUEEN_DIR = r\"/tmp/chess/training/Queen/\"\n",
        "TESTING_QUEEN_DIR = r\"/tmp/chess/testing/Queen/\"\n",
        "\n",
        "ROOK_SOURCE_DIR = r\"/tmp/Chessman-image-dataset/Chess/Rook/\"\n",
        "TRAINING_ROOK_DIR = r\"/tmp/chess/training/Rook/\"\n",
        "TESTING_ROOK_DIR = r\"/tmp/chess/testing/Rook/\""
      ],
      "execution_count": 38,
      "outputs": []
    },
    {
      "cell_type": "code",
      "metadata": {
        "id": "1oQAGGO8csWR",
        "colab_type": "code",
        "colab": {}
      },
      "source": [
        "split_data(BISHOP_SOURCE_DIR, TRAINING_BISHOP_DIR, TESTING_BISHOP_DIR)"
      ],
      "execution_count": 39,
      "outputs": []
    },
    {
      "cell_type": "code",
      "metadata": {
        "id": "_06iketlcz5A",
        "colab_type": "code",
        "colab": {}
      },
      "source": [
        "split_data(KING_SOURCE_DIR, TRAINING_KING_DIR, TESTING_KING_DIR)\n",
        "split_data(KNIGHT_SOURCE_DIR, TRAINING_KNIGHT_DIR, TESTING_KNIGHT_DIR)\n",
        "split_data(PAWN_SOURCE_DIR, TRAINING_PAWN_DIR, TESTING_PAWN_DIR)\n",
        "split_data(QUEEN_SOURCE_DIR, TRAINING_QUEEN_DIR, TESTING_QUEEN_DIR)\n",
        "split_data(ROOK_SOURCE_DIR, TRAINING_ROOK_DIR, TESTING_ROOK_DIR)"
      ],
      "execution_count": 40,
      "outputs": []
    },
    {
      "cell_type": "code",
      "metadata": {
        "id": "K1es3Vgodktp",
        "colab_type": "code",
        "colab": {}
      },
      "source": [
        "len_check =[\n",
        "    '/tmp/chess/training/Bishop',\n",
        "    '/tmp/chess/training/King',\n",
        "    '/tmp/chess/training/Knight',\n",
        "    '/tmp/chess/training/Pawn',\n",
        "    '/tmp/chess/training/Queen',\n",
        "    '/tmp/chess/training/Rook',\n",
        "    '/tmp/chess/testing/Bishop',\n",
        "    '/tmp/chess/testing/King',\n",
        "    '/tmp/chess/testing/Knight',\n",
        "    '/tmp/chess/testing/Pawn',\n",
        "    '/tmp/chess/testing/Queen',\n",
        "    '/tmp/chess/testing/Rook'\n",
        "]"
      ],
      "execution_count": 41,
      "outputs": []
    },
    {
      "cell_type": "code",
      "metadata": {
        "id": "c52rQdxudzhP",
        "colab_type": "code",
        "colab": {
          "base_uri": "https://localhost:8080/",
          "height": 221
        },
        "outputId": "0ceebd78-a6b9-4c29-fd91-8026e1c76efe"
      },
      "source": [
        "for directory in len_check:\n",
        "  print(len(os.listdir(directory)))"
      ],
      "execution_count": 42,
      "outputs": [
        {
          "output_type": "stream",
          "text": [
            "60\n",
            "60\n",
            "60\n",
            "60\n",
            "60\n",
            "60\n",
            "16\n",
            "16\n",
            "16\n",
            "16\n",
            "16\n",
            "16\n"
          ],
          "name": "stdout"
        }
      ]
    },
    {
      "cell_type": "code",
      "metadata": {
        "id": "LuQSDlEqe-NO",
        "colab_type": "code",
        "colab": {}
      },
      "source": [
        "# import shutil\n",
        "# shutil.rmtree('/tmp/Chessman-image-dataset/')"
      ],
      "execution_count": 43,
      "outputs": []
    },
    {
      "cell_type": "code",
      "metadata": {
        "id": "tLCi2cUPflIu",
        "colab_type": "code",
        "colab": {}
      },
      "source": [
        "#shutil.rmtree('/tmp/chess/')"
      ],
      "execution_count": 44,
      "outputs": []
    },
    {
      "cell_type": "code",
      "metadata": {
        "id": "ZSvjt52ffuGz",
        "colab_type": "code",
        "colab": {}
      },
      "source": [
        "# DEFINE A KERAS MODEL TO CLASSIFY CATS V DOGS\n",
        "# USE AT LEAST 3 CONVOLUTION LAYERS\n",
        "model = tf.keras.models.Sequential([\n",
        "    tf.keras.layers.Conv2D(32, (3,3), activation='relu', input_shape=(150, 150, 3)),\n",
        "    tf.keras.layers.MaxPooling2D(2,2),\n",
        "    tf.keras.layers.Conv2D(32, (3,3), activation='relu'),\n",
        "    tf.keras.layers.MaxPooling2D(2,2),\n",
        "    tf.keras.layers.Conv2D(64, (2,2), activation='relu'),\n",
        "    tf.keras.layers.MaxPooling2D(2,2),\n",
        "    tf.keras.layers.Flatten(),\n",
        "    tf.keras.layers.Dense(512, activation='relu'),\n",
        "    tf.keras.layers.Dense(6, activation='softmax')\n",
        "])\n",
        "\n",
        "history = model.compile(optimizer = 'adam',\n",
        "              loss = 'categorical_crossentropy',\n",
        "              metrics=['accuracy'])"
      ],
      "execution_count": 52,
      "outputs": []
    },
    {
      "cell_type": "code",
      "metadata": {
        "id": "i9ECiv1Gg2M7",
        "colab_type": "code",
        "colab": {
          "base_uri": "https://localhost:8080/",
          "height": 51
        },
        "outputId": "7f13dbeb-672a-4fc2-9f27-66667eea1549"
      },
      "source": [
        "\n",
        "TRAINING_DIR = '/tmp/chess/training'\n",
        "train_datagen = ImageDataGenerator(\n",
        "    rescale=1./255,\n",
        "    rotation_range=40,\n",
        "    width_shift_range=.2,\n",
        "    height_shift_range=.2,\n",
        "    shear_range=.2,\n",
        "    zoom_range=.2,\n",
        "    horizontal_flip=True,\n",
        "    fill_mode='nearest'\n",
        ")\n",
        "train_generator = train_datagen.flow_from_directory(\n",
        "    TRAINING_DIR,\n",
        "    batch_size=6,\n",
        "    class_mode='categorical',\n",
        "    target_size=(150, 150)\n",
        ")\n",
        "\n",
        "VALIDATION_DIR = '/tmp/chess/testing'\n",
        "validation_datagen = ImageDataGenerator(rescale= 1./255)\n",
        "validation_generator = validation_datagen.flow_from_directory(\n",
        "    VALIDATION_DIR,\n",
        "    batch_size=6,\n",
        "    class_mode='categorical',\n",
        "    target_size=(150, 150)\n",
        ")"
      ],
      "execution_count": 53,
      "outputs": [
        {
          "output_type": "stream",
          "text": [
            "Found 358 images belonging to 6 classes.\n",
            "Found 93 images belonging to 6 classes.\n"
          ],
          "name": "stdout"
        }
      ]
    },
    {
      "cell_type": "code",
      "metadata": {
        "id": "_4EJ6irLhHzv",
        "colab_type": "code",
        "colab": {
          "base_uri": "https://localhost:8080/",
          "height": 544
        },
        "outputId": "0887e94e-b3fd-4e63-822d-eae0dc0a7300"
      },
      "source": [
        "import warnings\n",
        "warnings.filterwarnings('ignore')\n",
        "print('warnings ignored')\n",
        "\n",
        "\n",
        "history = model.fit_generator(train_generator,\n",
        "                              epochs=15,\n",
        "                              verbose=1,\n",
        "                              validation_data=validation_generator)\n"
      ],
      "execution_count": 54,
      "outputs": [
        {
          "output_type": "stream",
          "text": [
            "warnings ignored\n",
            "Epoch 1/15\n",
            "60/60 [==============================] - 22s 366ms/step - loss: 1.8948 - accuracy: 0.2067 - val_loss: 1.8010 - val_accuracy: 0.1613\n",
            "Epoch 2/15\n",
            "60/60 [==============================] - 22s 361ms/step - loss: 1.7972 - accuracy: 0.1704 - val_loss: 1.7936 - val_accuracy: 0.1183\n",
            "Epoch 3/15\n",
            "60/60 [==============================] - 22s 359ms/step - loss: 1.7937 - accuracy: 0.1536 - val_loss: 1.7926 - val_accuracy: 0.1290\n",
            "Epoch 4/15\n",
            "60/60 [==============================] - 22s 364ms/step - loss: 1.7856 - accuracy: 0.1760 - val_loss: 1.8318 - val_accuracy: 0.1720\n",
            "Epoch 5/15\n",
            "60/60 [==============================] - 22s 362ms/step - loss: 1.7945 - accuracy: 0.1676 - val_loss: 1.7839 - val_accuracy: 0.2258\n",
            "Epoch 6/15\n",
            "60/60 [==============================] - 22s 365ms/step - loss: 1.7864 - accuracy: 0.1760 - val_loss: 1.7833 - val_accuracy: 0.1935\n",
            "Epoch 7/15\n",
            "60/60 [==============================] - 22s 365ms/step - loss: 1.7875 - accuracy: 0.1676 - val_loss: 1.7910 - val_accuracy: 0.2043\n",
            "Epoch 8/15\n",
            "60/60 [==============================] - 22s 365ms/step - loss: 1.7848 - accuracy: 0.1955 - val_loss: 1.7957 - val_accuracy: 0.1613\n",
            "Epoch 9/15\n",
            "60/60 [==============================] - 22s 362ms/step - loss: 1.7833 - accuracy: 0.1983 - val_loss: 1.7981 - val_accuracy: 0.1720\n",
            "Epoch 10/15\n",
            "60/60 [==============================] - 22s 363ms/step - loss: 1.7786 - accuracy: 0.2151 - val_loss: 1.8015 - val_accuracy: 0.1935\n",
            "Epoch 11/15\n",
            "60/60 [==============================] - 22s 363ms/step - loss: 1.7657 - accuracy: 0.2011 - val_loss: 1.7989 - val_accuracy: 0.1828\n",
            "Epoch 12/15\n",
            "60/60 [==============================] - 22s 363ms/step - loss: 1.7498 - accuracy: 0.2318 - val_loss: 1.8182 - val_accuracy: 0.1935\n",
            "Epoch 13/15\n",
            "60/60 [==============================] - 22s 365ms/step - loss: 1.7332 - accuracy: 0.2570 - val_loss: 1.8970 - val_accuracy: 0.1935\n",
            "Epoch 14/15\n",
            "60/60 [==============================] - 22s 364ms/step - loss: 1.7482 - accuracy: 0.2570 - val_loss: 1.8491 - val_accuracy: 0.1828\n",
            "Epoch 15/15\n",
            "60/60 [==============================] - 22s 363ms/step - loss: 1.7543 - accuracy: 0.1899 - val_loss: 1.8236 - val_accuracy: 0.1720\n"
          ],
          "name": "stdout"
        }
      ]
    },
    {
      "cell_type": "code",
      "metadata": {
        "id": "doiuyJ7jhOXl",
        "colab_type": "code",
        "colab": {
          "base_uri": "https://localhost:8080/",
          "height": 34
        },
        "outputId": "c21b009d-b95f-4612-fa80-d3f6c47ee505"
      },
      "source": [
        "model.save('chess_1.h5')\n",
        "print(str(os.path.getsize('./chess_1.h5')/1000000) + 'MB')"
      ],
      "execution_count": 55,
      "outputs": [
        {
          "output_type": "stream",
          "text": [
            "113.952808MB\n"
          ],
          "name": "stdout"
        }
      ]
    },
    {
      "cell_type": "markdown",
      "metadata": {
        "id": "iH1_foi3mBLd",
        "colab_type": "text"
      },
      "source": [
        "#### Transfer Learning"
      ]
    },
    {
      "cell_type": "code",
      "metadata": {
        "id": "TJsnawgUl-jr",
        "colab_type": "code",
        "colab": {}
      },
      "source": [
        "BATCH_SIZE = 6\n",
        "IMG_SIZE = (150, 150)"
      ],
      "execution_count": 56,
      "outputs": []
    },
    {
      "cell_type": "code",
      "metadata": {
        "id": "ijLcCgOemLx9",
        "colab_type": "code",
        "colab": {
          "base_uri": "https://localhost:8080/",
          "height": 88
        },
        "outputId": "1de41b45-0fa5-4103-8361-4ff7bf133871"
      },
      "source": [
        "# Create the base model from the pre-trained model MobileNet V2\n",
        "IMG_SHAPE = IMG_SIZE + (3,)\n",
        "base_model = tf.keras.applications.MobileNetV2(input_shape=IMG_SHAPE,\n",
        "                                               include_top=False,\n",
        "                                               weights='imagenet')"
      ],
      "execution_count": 57,
      "outputs": [
        {
          "output_type": "stream",
          "text": [
            "WARNING:tensorflow:`input_shape` is undefined or non-square, or `rows` is not in [96, 128, 160, 192, 224]. Weights for input shape (224, 224) will be loaded as the default.\n",
            "Downloading data from https://storage.googleapis.com/tensorflow/keras-applications/mobilenet_v2/mobilenet_v2_weights_tf_dim_ordering_tf_kernels_1.0_224_no_top.h5\n",
            "9412608/9406464 [==============================] - 0s 0us/step\n"
          ],
          "name": "stdout"
        }
      ]
    },
    {
      "cell_type": "code",
      "metadata": {
        "id": "P6_lt3J3mNzo",
        "colab_type": "code",
        "colab": {}
      },
      "source": [
        "# Make all the layers in the pre-trained model non-trainable\n",
        "for layer in base_model.layers:\n",
        "  layer.trainable = False"
      ],
      "execution_count": 58,
      "outputs": []
    },
    {
      "cell_type": "code",
      "metadata": {
        "id": "EdqKduBZmRUz",
        "colab_type": "code",
        "colab": {
          "base_uri": "https://localhost:8080/",
          "height": 34
        },
        "outputId": "e4ac3441-17e6-45fc-fd59-fa1a589ed592"
      },
      "source": [
        "last_layer = base_model.get_layer('out_relu')\n",
        "print('last layer output shape: ', last_layer.output_shape)\n",
        "last_output = last_layer.output"
      ],
      "execution_count": 59,
      "outputs": [
        {
          "output_type": "stream",
          "text": [
            "last layer output shape:  (None, 5, 5, 1280)\n"
          ],
          "name": "stdout"
        }
      ]
    },
    {
      "cell_type": "code",
      "metadata": {
        "id": "g8ebvS1ymTOq",
        "colab_type": "code",
        "colab": {}
      },
      "source": [
        "global_average_layer = tf.keras.layers.GlobalAveragePooling2D()\n",
        "prediction_layer = tf.keras.layers.Dense(6, activation='softmax')"
      ],
      "execution_count": 60,
      "outputs": []
    },
    {
      "cell_type": "code",
      "metadata": {
        "id": "OFCtoHkcmW84",
        "colab_type": "code",
        "colab": {}
      },
      "source": [
        "x = global_average_layer(last_output)\n",
        "x = tf.keras.layers.Dropout(0.2)(x)\n",
        "outputs = prediction_layer(x)"
      ],
      "execution_count": 61,
      "outputs": []
    },
    {
      "cell_type": "code",
      "metadata": {
        "id": "RSNd55yzmYdG",
        "colab_type": "code",
        "colab": {}
      },
      "source": [
        "model_2 = tf.keras.Model(base_model.input, outputs)"
      ],
      "execution_count": 62,
      "outputs": []
    },
    {
      "cell_type": "code",
      "metadata": {
        "id": "reF41pX4ma7r",
        "colab_type": "code",
        "colab": {}
      },
      "source": [
        "from tensorflow.keras.optimizers import RMSprop\n",
        "model_2.compile(\n",
        "    optimizer=RMSprop(lr=0.0001), \n",
        "    loss='categorical_crossentropy', \n",
        "    metrics=['accuracy']\n",
        ")"
      ],
      "execution_count": 65,
      "outputs": []
    },
    {
      "cell_type": "code",
      "metadata": {
        "id": "R1e6QYK0mfEg",
        "colab_type": "code",
        "colab": {
          "base_uri": "https://localhost:8080/",
          "height": 527
        },
        "outputId": "ae8f1d50-f2f2-4cf7-efa0-e8e0e79245cd"
      },
      "source": [
        "history = model_2.fit_generator(train_generator,\n",
        "                              epochs=15,\n",
        "                              verbose=1,\n",
        "                              validation_data=validation_generator)"
      ],
      "execution_count": 66,
      "outputs": [
        {
          "output_type": "stream",
          "text": [
            "Epoch 1/15\n",
            "60/60 [==============================] - 15s 251ms/step - loss: 2.4388 - accuracy: 0.1732 - val_loss: 2.4582 - val_accuracy: 0.0860\n",
            "Epoch 2/15\n",
            "60/60 [==============================] - 14s 241ms/step - loss: 2.2976 - accuracy: 0.1927 - val_loss: 2.3102 - val_accuracy: 0.1398\n",
            "Epoch 3/15\n",
            "60/60 [==============================] - 14s 240ms/step - loss: 2.2343 - accuracy: 0.1927 - val_loss: 2.2118 - val_accuracy: 0.1398\n",
            "Epoch 4/15\n",
            "60/60 [==============================] - 14s 241ms/step - loss: 2.0772 - accuracy: 0.2402 - val_loss: 2.1309 - val_accuracy: 0.1935\n",
            "Epoch 5/15\n",
            "60/60 [==============================] - 14s 239ms/step - loss: 1.9567 - accuracy: 0.2933 - val_loss: 2.0392 - val_accuracy: 0.2473\n",
            "Epoch 6/15\n",
            "60/60 [==============================] - 14s 240ms/step - loss: 1.9826 - accuracy: 0.2793 - val_loss: 1.9677 - val_accuracy: 0.2366\n",
            "Epoch 7/15\n",
            "60/60 [==============================] - 14s 241ms/step - loss: 1.8720 - accuracy: 0.2821 - val_loss: 1.9140 - val_accuracy: 0.2688\n",
            "Epoch 8/15\n",
            "60/60 [==============================] - 15s 242ms/step - loss: 1.7894 - accuracy: 0.3520 - val_loss: 1.8555 - val_accuracy: 0.2688\n",
            "Epoch 9/15\n",
            "60/60 [==============================] - 15s 245ms/step - loss: 1.7432 - accuracy: 0.3296 - val_loss: 1.7823 - val_accuracy: 0.2903\n",
            "Epoch 10/15\n",
            "60/60 [==============================] - 15s 242ms/step - loss: 1.6200 - accuracy: 0.3659 - val_loss: 1.7358 - val_accuracy: 0.3011\n",
            "Epoch 11/15\n",
            "60/60 [==============================] - 14s 241ms/step - loss: 1.6473 - accuracy: 0.3631 - val_loss: 1.6888 - val_accuracy: 0.3548\n",
            "Epoch 12/15\n",
            "60/60 [==============================] - 14s 240ms/step - loss: 1.5479 - accuracy: 0.4246 - val_loss: 1.6511 - val_accuracy: 0.3656\n",
            "Epoch 13/15\n",
            "60/60 [==============================] - 14s 239ms/step - loss: 1.4760 - accuracy: 0.4497 - val_loss: 1.6104 - val_accuracy: 0.3548\n",
            "Epoch 14/15\n",
            "60/60 [==============================] - 14s 242ms/step - loss: 1.4769 - accuracy: 0.4302 - val_loss: 1.5830 - val_accuracy: 0.3656\n",
            "Epoch 15/15\n",
            "60/60 [==============================] - 14s 241ms/step - loss: 1.3472 - accuracy: 0.4469 - val_loss: 1.5670 - val_accuracy: 0.3548\n"
          ],
          "name": "stdout"
        }
      ]
    },
    {
      "cell_type": "code",
      "metadata": {
        "id": "CxbdH1jVmljn",
        "colab_type": "code",
        "colab": {
          "base_uri": "https://localhost:8080/",
          "height": 34
        },
        "outputId": "53c1c863-f271-4265-c882-388b0175b74b"
      },
      "source": [
        "model_2.save('chess_2.h5')\n",
        "print(str(os.path.getsize('./chess_2.h5')/1000000) + 'MB')"
      ],
      "execution_count": 67,
      "outputs": [
        {
          "output_type": "stream",
          "text": [
            "9.569008MB\n"
          ],
          "name": "stdout"
        }
      ]
    },
    {
      "cell_type": "code",
      "metadata": {
        "id": "s-IVVyZQoIKT",
        "colab_type": "code",
        "colab": {}
      },
      "source": [
        ""
      ],
      "execution_count": null,
      "outputs": []
    }
  ]
}