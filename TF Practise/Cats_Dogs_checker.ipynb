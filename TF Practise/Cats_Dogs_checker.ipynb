{
  "nbformat": 4,
  "nbformat_minor": 0,
  "metadata": {
    "colab": {
      "name": "Cats Dogs checker",
      "provenance": []
    },
    "kernelspec": {
      "name": "python3",
      "display_name": "Python 3"
    }
  },
  "cells": [
    {
      "cell_type": "code",
      "metadata": {
        "id": "CQwRungvCgbA",
        "colab_type": "code",
        "colab": {}
      },
      "source": [
        "import tensorflow.compat.v2 as tf\n",
        "import tensorflow_datasets as tfds\n",
        "from tensorflow.keras.preprocessing.image import ImageDataGenerator"
      ],
      "execution_count": 1,
      "outputs": []
    },
    {
      "cell_type": "code",
      "metadata": {
        "id": "4Hyb3STTCkNw",
        "colab_type": "code",
        "colab": {}
      },
      "source": [
        "dataset_name = 'cats_vs_dogs'\n",
        "dataset, info = tfds.load(name=dataset_name, \n",
        "                          split=tfds.Split.TRAIN,\n",
        "                          with_info=True)\n"
      ],
      "execution_count": 2,
      "outputs": []
    },
    {
      "cell_type": "code",
      "metadata": {
        "id": "JWGUc-WfCllK",
        "colab_type": "code",
        "colab": {}
      },
      "source": [
        "def normalize_img(x):\n",
        "  \"\"\"Normalizes images: `uint8` -> `float32`.\"\"\"\n",
        "  x['image'] = tf.cast(x['image'], tf.float32) / 255.\n",
        "  x['image'] = tf.image.resize(x['image'], [224,224])\n",
        "  return x\n",
        "\n",
        "ds_train = dataset.map(\n",
        "    normalize_img, num_parallel_calls=tf.data.experimental.AUTOTUNE)"
      ],
      "execution_count": 3,
      "outputs": []
    },
    {
      "cell_type": "code",
      "metadata": {
        "id": "8v6e9e0VCoga",
        "colab_type": "code",
        "colab": {}
      },
      "source": [
        "import numpy as np\n",
        "train_images =[]\n",
        "train_labels = []\n",
        "for example in ds_train.take(1200):\n",
        "  train_images.append(np.array(example[\"image\"]).astype(float))\n",
        "  train_labels.append(np.array(example[\"label\"]).astype(float))\n"
      ],
      "execution_count": 4,
      "outputs": []
    },
    {
      "cell_type": "code",
      "metadata": {
        "id": "V8xE5hnIDvND",
        "colab_type": "code",
        "colab": {
          "base_uri": "https://localhost:8080/",
          "height": 850
        },
        "outputId": "42e24c01-b4bf-4b44-9870-b8d9e0b00e6a"
      },
      "source": [
        "train_images[1]"
      ],
      "execution_count": 5,
      "outputs": [
        {
          "output_type": "execute_result",
          "data": {
            "text/plain": [
              "array([[[0.8355239 , 0.63748467, 0.43846506],\n",
              "        [0.88309479, 0.66133583, 0.47408092],\n",
              "        [0.96694458, 0.71880251, 0.54320514],\n",
              "        ...,\n",
              "        [0.3750219 , 0.35541406, 0.06954438],\n",
              "        [0.39081103, 0.39294249, 0.11197479],\n",
              "        [0.39285934, 0.41263789, 0.13755253]],\n",
              "\n",
              "       [[0.81665134, 0.62200636, 0.41149992],\n",
              "        [0.94470412, 0.68478209, 0.49626884],\n",
              "        [0.88511688, 0.525267  , 0.37242869],\n",
              "        ...,\n",
              "        [0.41858587, 0.38510591, 0.12367821],\n",
              "        [0.39685747, 0.38381913, 0.11529455],\n",
              "        [0.36990109, 0.37591475, 0.09940039]],\n",
              "\n",
              "       [[0.84143692, 0.59477419, 0.3862395 ],\n",
              "        [0.95612311, 0.63944328, 0.45424765],\n",
              "        [0.84091604, 0.3950499 , 0.2544446 ],\n",
              "        ...,\n",
              "        [0.53460479, 0.48207286, 0.25139838],\n",
              "        [0.62986475, 0.59536064, 0.34855568],\n",
              "        [0.39670432, 0.38240767, 0.11501443]],\n",
              "\n",
              "       ...,\n",
              "\n",
              "       [[0.34345472, 0.34421656, 0.14737627],\n",
              "        [0.31167316, 0.31224456, 0.11597566],\n",
              "        [0.38111863, 0.37640712, 0.15841454],\n",
              "        ...,\n",
              "        [0.27750713, 0.26248381, 0.08728297],\n",
              "        [0.30188996, 0.27339509, 0.09408222],\n",
              "        [0.34524572, 0.31304783, 0.13373497]],\n",
              "\n",
              "       [[0.34527278, 0.32137814, 0.13612771],\n",
              "        [0.32187441, 0.30315959, 0.09341512],\n",
              "        [0.32617697, 0.31264198, 0.0613558 ],\n",
              "        ...,\n",
              "        [0.33081684, 0.3210566 , 0.12531547],\n",
              "        [0.35525143, 0.33862844, 0.13448846],\n",
              "        [0.32588696, 0.2974993 , 0.09041812]],\n",
              "\n",
              "       [[0.34209332, 0.30266342, 0.12508534],\n",
              "        [0.35993102, 0.32983664, 0.09656683],\n",
              "        [0.38810819, 0.36781773, 0.08011439],\n",
              "        ...,\n",
              "        [0.29490739, 0.2864252 , 0.07190995],\n",
              "        [0.41824615, 0.39725307, 0.17466047],\n",
              "        [0.3564215 , 0.32730749, 0.09934454]]])"
            ]
          },
          "metadata": {
            "tags": []
          },
          "execution_count": 5
        }
      ]
    },
    {
      "cell_type": "code",
      "metadata": {
        "id": "SJ2QgRQtDyiB",
        "colab_type": "code",
        "colab": {
          "base_uri": "https://localhost:8080/",
          "height": 34
        },
        "outputId": "3565d842-c46c-4759-eaf6-f598e81079bb"
      },
      "source": [
        "train_labels[1]"
      ],
      "execution_count": 6,
      "outputs": [
        {
          "output_type": "execute_result",
          "data": {
            "text/plain": [
              "array(1.)"
            ]
          },
          "metadata": {
            "tags": []
          },
          "execution_count": 6
        }
      ]
    },
    {
      "cell_type": "code",
      "metadata": {
        "id": "LlE5S33JDY4W",
        "colab_type": "code",
        "colab": {}
      },
      "source": [
        "train_datagen = ImageDataGenerator(\n",
        "      rotation_range=40,\n",
        "      width_shift_range=0.2,\n",
        "      height_shift_range=0.2,\n",
        "      shear_range=0.2,\n",
        "      zoom_range=0.2,\n",
        "      horizontal_flip=True,\n",
        "      fill_mode='nearest')"
      ],
      "execution_count": 7,
      "outputs": []
    },
    {
      "cell_type": "code",
      "metadata": {
        "id": "vp1VycjPD00Z",
        "colab_type": "code",
        "colab": {}
      },
      "source": [
        "model = tf.keras.models.Sequential([\n",
        "    tf.keras.layers.Conv2D(32, (3, 3), activation='relu', input_shape=(224, 224, 3)),\n",
        "    tf.keras.layers.MaxPooling2D(2, 2),\n",
        "    tf.keras.layers.Dropout(0.2),\n",
        "    \n",
        "    tf.keras.layers.Conv2D(64, (3, 3), activation='relu'),\n",
        "    tf.keras.layers.MaxPooling2D(2, 2),\n",
        "    tf.keras.layers.Dropout(0.2),\n",
        "\n",
        "    tf.keras.layers.Conv2D(128, (3, 3), activation='relu'),\n",
        "    tf.keras.layers.MaxPooling2D(2, 2),\n",
        "    tf.keras.layers.Dropout(0.2),\n",
        "\n",
        "    tf.keras.layers.Flatten(),\n",
        "\n",
        "    tf.keras.layers.Dense(128, activation='relu'),\n",
        "    tf.keras.layers.Dense(2, activation='softmax')])\n",
        "\n",
        "# Compile Model. \n",
        "model.compile(optimizer = 'adam',\n",
        "              loss = 'sparse_categorical_crossentropy',\n",
        "              metrics=['accuracy'])"
      ],
      "execution_count": 8,
      "outputs": []
    },
    {
      "cell_type": "code",
      "metadata": {
        "id": "rHkWlPCnEVZx",
        "colab_type": "code",
        "colab": {}
      },
      "source": [
        "train_images = np.array(train_images)\n",
        "train_labels=np.array(train_labels)"
      ],
      "execution_count": 11,
      "outputs": []
    },
    {
      "cell_type": "code",
      "metadata": {
        "id": "wMnzNYSlEByY",
        "colab_type": "code",
        "colab": {}
      },
      "source": [
        "train_gen = train_datagen.flow(\n",
        "    train_images,\n",
        "    train_labels,\n",
        "    batch_size=32\n",
        ")"
      ],
      "execution_count": 12,
      "outputs": []
    },
    {
      "cell_type": "code",
      "metadata": {
        "id": "ethIjrccEOex",
        "colab_type": "code",
        "colab": {
          "base_uri": "https://localhost:8080/",
          "height": 241
        },
        "outputId": "00a836a1-2b48-4352-a899-7ab49920fe72"
      },
      "source": [
        "history = model.fit_generator(\n",
        "    train_gen,\n",
        "    epochs=3\n",
        ")"
      ],
      "execution_count": 13,
      "outputs": [
        {
          "output_type": "stream",
          "text": [
            "WARNING:tensorflow:From <ipython-input-13-913053f73f7c>:3: Model.fit_generator (from tensorflow.python.keras.engine.training) is deprecated and will be removed in a future version.\n",
            "Instructions for updating:\n",
            "Please use Model.fit, which supports generators.\n"
          ],
          "name": "stdout"
        },
        {
          "output_type": "stream",
          "text": [
            "WARNING:tensorflow:From <ipython-input-13-913053f73f7c>:3: Model.fit_generator (from tensorflow.python.keras.engine.training) is deprecated and will be removed in a future version.\n",
            "Instructions for updating:\n",
            "Please use Model.fit, which supports generators.\n"
          ],
          "name": "stderr"
        },
        {
          "output_type": "stream",
          "text": [
            "Epoch 1/3\n",
            "38/38 [==============================] - 118s 3s/step - loss: 1.2903 - accuracy: 0.5033\n",
            "Epoch 2/3\n",
            "38/38 [==============================] - 118s 3s/step - loss: 0.6930 - accuracy: 0.5100\n",
            "Epoch 3/3\n",
            "38/38 [==============================] - 121s 3s/step - loss: 0.6932 - accuracy: 0.5108\n"
          ],
          "name": "stdout"
        }
      ]
    },
    {
      "cell_type": "code",
      "metadata": {
        "id": "Xerkoz8QEsQu",
        "colab_type": "code",
        "colab": {}
      },
      "source": [
        "model.save('cats_dogs_checker.h5')"
      ],
      "execution_count": 14,
      "outputs": []
    },
    {
      "cell_type": "code",
      "metadata": {
        "id": "fEVbkG_GGfD_",
        "colab_type": "code",
        "colab": {
          "base_uri": "https://localhost:8080/",
          "height": 34
        },
        "outputId": "1e7cbe4f-a6b4-4d59-bf2d-db4c21e05b40"
      },
      "source": [
        "import os\n",
        "print(str(os.path.getsize('./cats_dogs_checker.h5')/1000000) + 'MB')"
      ],
      "execution_count": 15,
      "outputs": [
        {
          "output_type": "stream",
          "text": [
            "134.08696MB\n"
          ],
          "name": "stdout"
        }
      ]
    },
    {
      "cell_type": "code",
      "metadata": {
        "id": "LnXSUbmUGxNA",
        "colab_type": "code",
        "colab": {}
      },
      "source": [
        ""
      ],
      "execution_count": null,
      "outputs": []
    }
  ]
}