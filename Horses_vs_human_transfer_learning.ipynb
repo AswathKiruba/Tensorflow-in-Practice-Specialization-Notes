{
  "nbformat": 4,
  "nbformat_minor": 0,
  "metadata": {
    "colab": {
      "name": "Horses vs human transfer learning.ipynb",
      "provenance": []
    },
    "kernelspec": {
      "name": "python3",
      "display_name": "Python 3"
    }
  },
  "cells": [
    {
      "cell_type": "code",
      "metadata": {
        "id": "mse46ZDdkshC",
        "colab_type": "code",
        "colab": {}
      },
      "source": [
        "import matplotlib.pyplot as plt\n",
        "import numpy as np\n",
        "import os\n",
        "import tensorflow as tf\n",
        "\n",
        "from tensorflow.keras.preprocessing import image_dataset_from_directory"
      ],
      "execution_count": 1,
      "outputs": []
    },
    {
      "cell_type": "code",
      "metadata": {
        "id": "Oo1jefuFlEbC",
        "colab_type": "code",
        "colab": {
          "base_uri": "https://localhost:8080/",
          "height": 391
        },
        "outputId": "8b8a8f53-b072-4635-c339-767eb94c1caa"
      },
      "source": [
        "!wget --no-check-certificate \\\n",
        "    https://storage.googleapis.com/laurencemoroney-blog.appspot.com/horse-or-human.zip \\\n",
        "    -O /tmp/horse-or-human.zip\n",
        "\n",
        "!wget --no-check-certificate \\\n",
        "    https://storage.googleapis.com/laurencemoroney-blog.appspot.com/validation-horse-or-human.zip \\\n",
        "    -O /tmp/validation-horse-or-human.zip\n",
        "  \n",
        "import os\n",
        "import zipfile\n",
        "\n",
        "local_zip = '/tmp/horse-or-human.zip'\n",
        "zip_ref = zipfile.ZipFile(local_zip, 'r')\n",
        "zip_ref.extractall('/tmp/horse-or-human')\n",
        "local_zip = '/tmp/validation-horse-or-human.zip'\n",
        "zip_ref = zipfile.ZipFile(local_zip, 'r')\n",
        "zip_ref.extractall('/tmp/validation-horse-or-human')\n",
        "zip_ref.close()\n",
        "# Directory with our training horse pictures\n",
        "train_horse_dir = os.path.join('/tmp/horse-or-human/horses')\n",
        "\n",
        "# Directory with our training human pictures\n",
        "train_human_dir = os.path.join('/tmp/horse-or-human/humans')\n",
        "\n",
        "# Directory with our training horse pictures\n",
        "validation_horse_dir = os.path.join('/tmp/validation-horse-or-human/horses')\n",
        "\n",
        "# Directory with our training human pictures\n",
        "validation_human_dir = os.path.join('/tmp/validation-horse-or-human/humans')"
      ],
      "execution_count": 2,
      "outputs": [
        {
          "output_type": "stream",
          "text": [
            "--2020-08-07 03:25:00--  https://storage.googleapis.com/laurencemoroney-blog.appspot.com/horse-or-human.zip\n",
            "Resolving storage.googleapis.com (storage.googleapis.com)... 172.217.193.128, 172.217.204.128, 172.217.203.128, ...\n",
            "Connecting to storage.googleapis.com (storage.googleapis.com)|172.217.193.128|:443... connected.\n",
            "HTTP request sent, awaiting response... 200 OK\n",
            "Length: 149574867 (143M) [application/zip]\n",
            "Saving to: ‘/tmp/horse-or-human.zip’\n",
            "\n",
            "/tmp/horse-or-human 100%[===================>] 142.65M   235MB/s    in 0.6s    \n",
            "\n",
            "2020-08-07 03:25:00 (235 MB/s) - ‘/tmp/horse-or-human.zip’ saved [149574867/149574867]\n",
            "\n",
            "--2020-08-07 03:25:01--  https://storage.googleapis.com/laurencemoroney-blog.appspot.com/validation-horse-or-human.zip\n",
            "Resolving storage.googleapis.com (storage.googleapis.com)... 108.177.11.128, 172.217.204.128, 172.217.203.128, ...\n",
            "Connecting to storage.googleapis.com (storage.googleapis.com)|108.177.11.128|:443... connected.\n",
            "HTTP request sent, awaiting response... 200 OK\n",
            "Length: 11480187 (11M) [application/zip]\n",
            "Saving to: ‘/tmp/validation-horse-or-human.zip’\n",
            "\n",
            "/tmp/validation-hor 100%[===================>]  10.95M  68.3MB/s    in 0.2s    \n",
            "\n",
            "2020-08-07 03:25:01 (68.3 MB/s) - ‘/tmp/validation-horse-or-human.zip’ saved [11480187/11480187]\n",
            "\n"
          ],
          "name": "stdout"
        }
      ]
    },
    {
      "cell_type": "markdown",
      "metadata": {
        "id": "S3sKJsINzm6M",
        "colab_type": "text"
      },
      "source": [
        "**Model** **1**"
      ]
    },
    {
      "cell_type": "code",
      "metadata": {
        "id": "7uLC9OLvlnvh",
        "colab_type": "code",
        "colab": {}
      },
      "source": [
        "BATCH_SIZE = 32\n",
        "IMG_SIZE = (160, 160)"
      ],
      "execution_count": 3,
      "outputs": []
    },
    {
      "cell_type": "code",
      "metadata": {
        "id": "123dXJRQlw1k",
        "colab_type": "code",
        "colab": {}
      },
      "source": [
        "# Create the base model from the pre-trained model MobileNet V2\n",
        "IMG_SHAPE = IMG_SIZE + (3,)\n",
        "base_model = tf.keras.applications.MobileNetV2(input_shape=IMG_SHAPE,\n",
        "                                               include_top=False,\n",
        "                                               weights='imagenet')"
      ],
      "execution_count": 4,
      "outputs": []
    },
    {
      "cell_type": "code",
      "metadata": {
        "id": "45HEHP-Jl1jF",
        "colab_type": "code",
        "colab": {}
      },
      "source": [
        "# Make all the layers in the pre-trained model non-trainable\n",
        "for layer in base_model.layers:\n",
        "  layer.trainable = False"
      ],
      "execution_count": 5,
      "outputs": []
    },
    {
      "cell_type": "code",
      "metadata": {
        "id": "IwMfyo9Go5ay",
        "colab_type": "code",
        "colab": {
          "base_uri": "https://localhost:8080/",
          "height": 34
        },
        "outputId": "d080efb8-2e29-4b39-93c5-a611adff0c24"
      },
      "source": [
        "last_layer = base_model.get_layer('out_relu')\n",
        "print('last layer output shape: ', last_layer.output_shape)\n",
        "last_output = last_layer.output"
      ],
      "execution_count": 6,
      "outputs": [
        {
          "output_type": "stream",
          "text": [
            "last layer output shape:  (None, 5, 5, 1280)\n"
          ],
          "name": "stdout"
        }
      ]
    },
    {
      "cell_type": "code",
      "metadata": {
        "id": "HZ2x2vlmm13R",
        "colab_type": "code",
        "colab": {}
      },
      "source": [
        "from tensorflow.keras import layers\n",
        "# Flatten the output layer to 1 dimension\n",
        "x = layers.Flatten()(last_output)\n",
        "\n",
        "# Add a fully connected layer with 1,024 hidden units and ReLU activation\n",
        "x = layers.Dense(252, activation='relu')(x)\n",
        "\n",
        "# Add a dropout rate of 0.2\n",
        "x = layers.Dropout(.2)(x)  \n",
        "\n",
        "# Add a final sigmoid layer for classification\n",
        "x = layers.Dense(1, activation='sigmoid')(x)  \n",
        "\n",
        "\n",
        "model = tf.keras.Model(base_model.input, x)"
      ],
      "execution_count": 14,
      "outputs": []
    },
    {
      "cell_type": "code",
      "metadata": {
        "id": "AFpq0uyIpjc3",
        "colab_type": "code",
        "colab": {}
      },
      "source": [
        "from tensorflow.keras.optimizers import RMSprop\n",
        "model.compile(\n",
        "    optimizer=RMSprop(lr=0.0001), \n",
        "    loss='binary_crossentropy', \n",
        "    metrics=['accuracy']\n",
        ")\n",
        "\n",
        "#model.summary()"
      ],
      "execution_count": 15,
      "outputs": []
    },
    {
      "cell_type": "code",
      "metadata": {
        "id": "zELYZq2MptYj",
        "colab_type": "code",
        "colab": {
          "base_uri": "https://localhost:8080/",
          "height": 51
        },
        "outputId": "3dcb6339-822a-483f-c5e8-639254970439"
      },
      "source": [
        "from tensorflow.keras.preprocessing.image import ImageDataGenerator\n",
        "\n",
        "# All images will be rescaled by 1./255\n",
        "train_datagen = ImageDataGenerator(\n",
        "      rescale=1./255,\n",
        "      rotation_range=40,\n",
        "      width_shift_range=0.2,\n",
        "      height_shift_range=0.2,\n",
        "      shear_range=0.2,\n",
        "      zoom_range=0.2,\n",
        "      horizontal_flip=True,\n",
        "      fill_mode='nearest')\n",
        "\n",
        "validation_datagen = ImageDataGenerator(rescale=1/255)\n",
        "\n",
        "# Flow training images in batches of 128 using train_datagen generator\n",
        "train_generator = train_datagen.flow_from_directory(\n",
        "        '/tmp/horse-or-human/',  # This is the source directory for training images\n",
        "        target_size=(160, 160),  # All images will be resized to 150x150\n",
        "        batch_size=128,\n",
        "        # Since we use binary_crossentropy loss, we need binary labels\n",
        "        class_mode='binary')\n",
        "\n",
        "# Flow training images in batches of 128 using train_datagen generator\n",
        "validation_generator = validation_datagen.flow_from_directory(\n",
        "        '/tmp/validation-horse-or-human/',  # This is the source directory for training images\n",
        "        target_size=(160, 160),  # All images will be resized to 150x150\n",
        "        batch_size=32,\n",
        "        # Since we use binary_crossentropy loss, we need binary labels\n",
        "        class_mode='binary')"
      ],
      "execution_count": 16,
      "outputs": [
        {
          "output_type": "stream",
          "text": [
            "Found 1027 images belonging to 2 classes.\n",
            "Found 256 images belonging to 2 classes.\n"
          ],
          "name": "stdout"
        }
      ]
    },
    {
      "cell_type": "code",
      "metadata": {
        "id": "DEK68mo4qOhh",
        "colab_type": "code",
        "colab": {
          "base_uri": "https://localhost:8080/",
          "height": 187
        },
        "outputId": "ad6fade3-68bf-45f9-f04e-e490ffd783ad"
      },
      "source": [
        "history = model.fit_generator(\n",
        "    train_generator,\n",
        "    epochs=5,\n",
        "    validation_data=validation_generator,\n",
        ")"
      ],
      "execution_count": 17,
      "outputs": [
        {
          "output_type": "stream",
          "text": [
            "Epoch 1/5\n",
            "9/9 [==============================] - 29s 3s/step - loss: 0.9930 - accuracy: 0.8218 - val_loss: 8.5413e-04 - val_accuracy: 1.0000\n",
            "Epoch 2/5\n",
            "9/9 [==============================] - 28s 3s/step - loss: 0.0263 - accuracy: 0.9922 - val_loss: 7.5588e-04 - val_accuracy: 1.0000\n",
            "Epoch 3/5\n",
            "9/9 [==============================] - 28s 3s/step - loss: 0.0307 - accuracy: 0.9903 - val_loss: 0.0019 - val_accuracy: 1.0000\n",
            "Epoch 4/5\n",
            "9/9 [==============================] - 29s 3s/step - loss: 0.0133 - accuracy: 0.9951 - val_loss: 5.8122e-04 - val_accuracy: 1.0000\n",
            "Epoch 5/5\n",
            "9/9 [==============================] - 29s 3s/step - loss: 0.0054 - accuracy: 0.9990 - val_loss: 5.8734e-04 - val_accuracy: 1.0000\n"
          ],
          "name": "stdout"
        }
      ]
    },
    {
      "cell_type": "code",
      "metadata": {
        "id": "BKsu03F8qW9N",
        "colab_type": "code",
        "colab": {
          "base_uri": "https://localhost:8080/",
          "height": 545
        },
        "outputId": "504919aa-8cc8-449b-ff85-38d818951797"
      },
      "source": [
        "import matplotlib.pyplot as plt\n",
        "acc = history.history['accuracy']\n",
        "val_acc = history.history['val_accuracy']\n",
        "loss = history.history['loss']\n",
        "val_loss = history.history['val_loss']\n",
        "\n",
        "epochs = range(len(acc))\n",
        "\n",
        "plt.plot(epochs, acc, 'r', label='Training accuracy')\n",
        "plt.plot(epochs, val_acc, 'b', label='Validation accuracy')\n",
        "plt.title('Training and validation accuracy')\n",
        "\n",
        "plt.figure()\n",
        "\n",
        "plt.plot(epochs, loss, 'r', label='Training Loss')\n",
        "plt.plot(epochs, val_loss, 'b', label='Validation Loss')\n",
        "plt.title('Training and validation loss')\n",
        "plt.legend()\n",
        "\n",
        "plt.show()"
      ],
      "execution_count": 18,
      "outputs": [
        {
          "output_type": "display_data",
          "data": {
            "image/png": "[encoded data removed]",
            "text/plain": [
              "<Figure size 432x288 with 1 Axes>"
            ]
          },
          "metadata": {
            "tags": [],
            "needs_background": "light"
          }
        },
        {
          "output_type": "display_data",
          "data": {
            "image/png": "[encoded data removed]",
            "text/plain": [
              "<Figure size 432x288 with 1 Axes>"
            ]
          },
          "metadata": {
            "tags": [],
            "needs_background": "light"
          }
        }
      ]
    },
    {
      "cell_type": "code",
      "metadata": {
        "id": "uXOUohImr5Ls",
        "colab_type": "code",
        "colab": {}
      },
      "source": [
        "model.save('horse_human.h5')"
      ],
      "execution_count": 19,
      "outputs": []
    },
    {
      "cell_type": "code",
      "metadata": {
        "id": "Lrp6Dm3xsAAP",
        "colab_type": "code",
        "colab": {
          "base_uri": "https://localhost:8080/",
          "height": 34
        },
        "outputId": "f412c814-dd89-4c7a-ee4c-abb7d218665f"
      },
      "source": [
        "import os\n",
        "print(str(os.path.getsize('./horse_human.h5')/1000000) + 'MB')"
      ],
      "execution_count": 20,
      "outputs": [
        {
          "output_type": "stream",
          "text": [
            "74.032624MB\n"
          ],
          "name": "stdout"
        }
      ]
    },
    {
      "cell_type": "markdown",
      "metadata": {
        "id": "6rQicv-20FsG",
        "colab_type": "text"
      },
      "source": [
        "**Model 2**"
      ]
    },
    {
      "cell_type": "code",
      "metadata": {
        "id": "CV623cJIsAcL",
        "colab_type": "code",
        "colab": {}
      },
      "source": [
        "BATCH_SIZE = 32\n",
        "IMG_SIZE = (160, 160)"
      ],
      "execution_count": 3,
      "outputs": []
    },
    {
      "cell_type": "code",
      "metadata": {
        "id": "QwKgUB_g0eQl",
        "colab_type": "code",
        "colab": {}
      },
      "source": [
        "# Create the base model from the pre-trained model MobileNet V2\n",
        "IMG_SHAPE = IMG_SIZE + (3,)\n",
        "base_model = tf.keras.applications.MobileNetV2(input_shape=IMG_SHAPE,\n",
        "                                               include_top=False,\n",
        "                                               weights='imagenet')"
      ],
      "execution_count": 4,
      "outputs": []
    },
    {
      "cell_type": "code",
      "metadata": {
        "id": "NxROSJ9o0iRL",
        "colab_type": "code",
        "colab": {}
      },
      "source": [
        "# Make all the layers in the pre-trained model non-trainable\n",
        "for layer in base_model.layers:\n",
        "  layer.trainable = False"
      ],
      "execution_count": 5,
      "outputs": []
    },
    {
      "cell_type": "code",
      "metadata": {
        "id": "CRwBgfZg0mKP",
        "colab_type": "code",
        "colab": {
          "base_uri": "https://localhost:8080/",
          "height": 34
        },
        "outputId": "3fa9c742-83e1-41a8-d085-266b484578f5"
      },
      "source": [
        "last_layer = base_model.get_layer('out_relu')\n",
        "print('last layer output shape: ', last_layer.output_shape)\n",
        "last_output = last_layer.output"
      ],
      "execution_count": 6,
      "outputs": [
        {
          "output_type": "stream",
          "text": [
            "last layer output shape:  (None, 5, 5, 1280)\n"
          ],
          "name": "stdout"
        }
      ]
    },
    {
      "cell_type": "code",
      "metadata": {
        "id": "DmECY1-N1AeA",
        "colab_type": "code",
        "colab": {}
      },
      "source": [
        "global_average_layer = tf.keras.layers.GlobalAveragePooling2D()\n",
        "prediction_layer = tf.keras.layers.Dense(1)"
      ],
      "execution_count": 7,
      "outputs": []
    },
    {
      "cell_type": "code",
      "metadata": {
        "id": "wOxeoW-11Q4j",
        "colab_type": "code",
        "colab": {}
      },
      "source": [
        "x = global_average_layer(last_output)\n",
        "x = tf.keras.layers.Dropout(0.2)(x)\n",
        "outputs = prediction_layer(x)"
      ],
      "execution_count": 8,
      "outputs": []
    },
    {
      "cell_type": "code",
      "metadata": {
        "id": "2vwcMuTU2kvZ",
        "colab_type": "code",
        "colab": {}
      },
      "source": [
        "model = tf.keras.Model(base_model.input, outputs)"
      ],
      "execution_count": 9,
      "outputs": []
    },
    {
      "cell_type": "code",
      "metadata": {
        "id": "1d4fNHjB21pD",
        "colab_type": "code",
        "colab": {}
      },
      "source": [
        "from tensorflow.keras.optimizers import RMSprop\n",
        "model.compile(\n",
        "    optimizer=RMSprop(lr=0.0001), \n",
        "    loss='binary_crossentropy', \n",
        "    metrics=['accuracy']\n",
        ")\n"
      ],
      "execution_count": 10,
      "outputs": []
    },
    {
      "cell_type": "code",
      "metadata": {
        "id": "RB8M4B6W2ooX",
        "colab_type": "code",
        "colab": {
          "base_uri": "https://localhost:8080/",
          "height": 51
        },
        "outputId": "cdd35bf8-a45a-47db-cbae-e10a32b43439"
      },
      "source": [
        "from tensorflow.keras.preprocessing.image import ImageDataGenerator\n",
        "\n",
        "# All images will be rescaled by 1./255\n",
        "train_datagen = ImageDataGenerator(\n",
        "      rescale=1./255,\n",
        "      rotation_range=40,\n",
        "      width_shift_range=0.2,\n",
        "      height_shift_range=0.2,\n",
        "      shear_range=0.2,\n",
        "      zoom_range=0.2,\n",
        "      horizontal_flip=True,\n",
        "      fill_mode='nearest')\n",
        "\n",
        "validation_datagen = ImageDataGenerator(rescale=1/255)\n",
        "\n",
        "# Flow training images in batches of 128 using train_datagen generator\n",
        "train_generator = train_datagen.flow_from_directory(\n",
        "        '/tmp/horse-or-human/',  # This is the source directory for training images\n",
        "        target_size=(160, 160),  # All images will be resized to 150x150\n",
        "        batch_size=128,\n",
        "        # Since we use binary_crossentropy loss, we need binary labels\n",
        "        class_mode='binary')\n",
        "\n",
        "# Flow training images in batches of 128 using train_datagen generator\n",
        "validation_generator = validation_datagen.flow_from_directory(\n",
        "        '/tmp/validation-horse-or-human/',  # This is the source directory for training images\n",
        "        target_size=(160, 160),  # All images will be resized to 150x150\n",
        "        batch_size=32,\n",
        "        # Since we use binary_crossentropy loss, we need binary labels\n",
        "        class_mode='binary')"
      ],
      "execution_count": 11,
      "outputs": [
        {
          "output_type": "stream",
          "text": [
            "Found 1027 images belonging to 2 classes.\n",
            "Found 256 images belonging to 2 classes.\n"
          ],
          "name": "stdout"
        }
      ]
    },
    {
      "cell_type": "code",
      "metadata": {
        "id": "UtJOx0ox2uEC",
        "colab_type": "code",
        "colab": {
          "base_uri": "https://localhost:8080/",
          "height": 1000
        },
        "outputId": "cd6b281f-6d46-4484-ade0-c95a2de9d42d"
      },
      "source": [
        "history = model.fit_generator(\n",
        "    train_generator,\n",
        "    epochs=50,\n",
        "    validation_data=validation_generator,\n",
        ")"
      ],
      "execution_count": 12,
      "outputs": [
        {
          "output_type": "stream",
          "text": [
            "WARNING:tensorflow:From <ipython-input-12-0a8d617e1870>:4: Model.fit_generator (from tensorflow.python.keras.engine.training) is deprecated and will be removed in a future version.\n",
            "Instructions for updating:\n",
            "Please use Model.fit, which supports generators.\n",
            "Epoch 1/50\n",
            "9/9 [==============================] - 29s 3s/step - loss: 6.4161 - accuracy: 0.4489 - val_loss: 6.8396 - val_accuracy: 0.4922\n",
            "Epoch 2/50\n",
            "9/9 [==============================] - 28s 3s/step - loss: 5.7542 - accuracy: 0.4703 - val_loss: 5.7125 - val_accuracy: 0.4883\n",
            "Epoch 3/50\n",
            "9/9 [==============================] - 28s 3s/step - loss: 5.3706 - accuracy: 0.5102 - val_loss: 4.9602 - val_accuracy: 0.5195\n",
            "Epoch 4/50\n",
            "9/9 [==============================] - 28s 3s/step - loss: 5.0483 - accuracy: 0.5112 - val_loss: 4.8815 - val_accuracy: 0.5195\n",
            "Epoch 5/50\n",
            "9/9 [==============================] - 28s 3s/step - loss: 4.8226 - accuracy: 0.5521 - val_loss: 4.5521 - val_accuracy: 0.5352\n",
            "Epoch 6/50\n",
            "9/9 [==============================] - 29s 3s/step - loss: 4.5924 - accuracy: 0.5443 - val_loss: 4.1545 - val_accuracy: 0.5586\n",
            "Epoch 7/50\n",
            "9/9 [==============================] - 29s 3s/step - loss: 4.5689 - accuracy: 0.5307 - val_loss: 3.9608 - val_accuracy: 0.5781\n",
            "Epoch 8/50\n",
            "9/9 [==============================] - 31s 3s/step - loss: 4.5946 - accuracy: 0.5453 - val_loss: 4.0037 - val_accuracy: 0.5664\n",
            "Epoch 9/50\n",
            "9/9 [==============================] - 34s 4s/step - loss: 4.3634 - accuracy: 0.5482 - val_loss: 3.9321 - val_accuracy: 0.5820\n",
            "Epoch 10/50\n",
            "9/9 [==============================] - 29s 3s/step - loss: 4.4725 - accuracy: 0.5774 - val_loss: 3.4654 - val_accuracy: 0.6328\n",
            "Epoch 11/50\n",
            "9/9 [==============================] - 34s 4s/step - loss: 3.9455 - accuracy: 0.6056 - val_loss: 3.5925 - val_accuracy: 0.6328\n",
            "Epoch 12/50\n",
            "9/9 [==============================] - 29s 3s/step - loss: 3.9576 - accuracy: 0.5969 - val_loss: 3.8504 - val_accuracy: 0.6133\n",
            "Epoch 13/50\n",
            "9/9 [==============================] - 29s 3s/step - loss: 3.8088 - accuracy: 0.6066 - val_loss: 3.5526 - val_accuracy: 0.6484\n",
            "Epoch 14/50\n",
            "9/9 [==============================] - 33s 4s/step - loss: 3.5804 - accuracy: 0.6280 - val_loss: 2.6282 - val_accuracy: 0.6797\n",
            "Epoch 15/50\n",
            "9/9 [==============================] - 34s 4s/step - loss: 3.4811 - accuracy: 0.6193 - val_loss: 2.0250 - val_accuracy: 0.7031\n",
            "Epoch 16/50\n",
            "9/9 [==============================] - 28s 3s/step - loss: 3.4260 - accuracy: 0.6095 - val_loss: 1.8913 - val_accuracy: 0.7266\n",
            "Epoch 17/50\n",
            "9/9 [==============================] - 34s 4s/step - loss: 3.0869 - accuracy: 0.6563 - val_loss: 1.9254 - val_accuracy: 0.7305\n",
            "Epoch 18/50\n",
            "9/9 [==============================] - 28s 3s/step - loss: 3.2178 - accuracy: 0.6407 - val_loss: 1.6224 - val_accuracy: 0.7461\n",
            "Epoch 19/50\n",
            "9/9 [==============================] - 29s 3s/step - loss: 2.9333 - accuracy: 0.6796 - val_loss: 1.7262 - val_accuracy: 0.7500\n",
            "Epoch 20/50\n",
            "9/9 [==============================] - 29s 3s/step - loss: 2.8162 - accuracy: 0.6641 - val_loss: 1.6914 - val_accuracy: 0.7500\n",
            "Epoch 21/50\n",
            "9/9 [==============================] - 30s 3s/step - loss: 3.0836 - accuracy: 0.6806 - val_loss: 1.4524 - val_accuracy: 0.7656\n",
            "Epoch 22/50\n",
            "9/9 [==============================] - 29s 3s/step - loss: 2.6942 - accuracy: 0.6865 - val_loss: 1.1793 - val_accuracy: 0.8047\n",
            "Epoch 23/50\n",
            "9/9 [==============================] - 28s 3s/step - loss: 2.6309 - accuracy: 0.7040 - val_loss: 1.0647 - val_accuracy: 0.8281\n",
            "Epoch 24/50\n",
            "9/9 [==============================] - 29s 3s/step - loss: 2.7839 - accuracy: 0.7020 - val_loss: 0.9938 - val_accuracy: 0.8398\n",
            "Epoch 25/50\n",
            "9/9 [==============================] - 34s 4s/step - loss: 2.1970 - accuracy: 0.7361 - val_loss: 1.0520 - val_accuracy: 0.8320\n",
            "Epoch 26/50\n",
            "9/9 [==============================] - 28s 3s/step - loss: 2.3098 - accuracy: 0.7381 - val_loss: 1.0793 - val_accuracy: 0.8281\n",
            "Epoch 27/50\n",
            "9/9 [==============================] - 29s 3s/step - loss: 2.4629 - accuracy: 0.7322 - val_loss: 0.9802 - val_accuracy: 0.8398\n",
            "Epoch 28/50\n",
            "9/9 [==============================] - 28s 3s/step - loss: 2.1852 - accuracy: 0.7283 - val_loss: 0.9812 - val_accuracy: 0.8398\n",
            "Epoch 29/50\n",
            "9/9 [==============================] - 33s 4s/step - loss: 2.3197 - accuracy: 0.7303 - val_loss: 1.0113 - val_accuracy: 0.8398\n",
            "Epoch 30/50\n",
            "9/9 [==============================] - 29s 3s/step - loss: 2.0200 - accuracy: 0.7595 - val_loss: 1.1229 - val_accuracy: 0.8242\n",
            "Epoch 31/50\n",
            "9/9 [==============================] - 30s 3s/step - loss: 2.1903 - accuracy: 0.7488 - val_loss: 0.7197 - val_accuracy: 0.8672\n",
            "Epoch 32/50\n",
            "9/9 [==============================] - 30s 3s/step - loss: 1.9017 - accuracy: 0.7663 - val_loss: 0.9168 - val_accuracy: 0.8555\n",
            "Epoch 33/50\n",
            "9/9 [==============================] - 31s 3s/step - loss: 1.9434 - accuracy: 0.7760 - val_loss: 0.9155 - val_accuracy: 0.8555\n",
            "Epoch 34/50\n",
            "9/9 [==============================] - 35s 4s/step - loss: 1.7780 - accuracy: 0.7644 - val_loss: 0.6331 - val_accuracy: 0.8711\n",
            "Epoch 35/50\n",
            "9/9 [==============================] - 31s 3s/step - loss: 2.0211 - accuracy: 0.7751 - val_loss: 0.8125 - val_accuracy: 0.8594\n",
            "Epoch 36/50\n",
            "9/9 [==============================] - 30s 3s/step - loss: 1.6552 - accuracy: 0.7975 - val_loss: 0.4468 - val_accuracy: 0.8867\n",
            "Epoch 37/50\n",
            "9/9 [==============================] - 30s 3s/step - loss: 1.8962 - accuracy: 0.7799 - val_loss: 0.4464 - val_accuracy: 0.8867\n",
            "Epoch 38/50\n",
            "9/9 [==============================] - 29s 3s/step - loss: 1.3357 - accuracy: 0.8374 - val_loss: 0.3519 - val_accuracy: 0.9062\n",
            "Epoch 39/50\n",
            "9/9 [==============================] - 29s 3s/step - loss: 1.6936 - accuracy: 0.8101 - val_loss: 0.3818 - val_accuracy: 0.9023\n",
            "Epoch 40/50\n",
            "9/9 [==============================] - 34s 4s/step - loss: 1.6690 - accuracy: 0.8218 - val_loss: 0.3442 - val_accuracy: 0.9141\n",
            "Epoch 41/50\n",
            "9/9 [==============================] - 30s 3s/step - loss: 1.5002 - accuracy: 0.8111 - val_loss: 0.1271 - val_accuracy: 0.9297\n",
            "Epoch 42/50\n",
            "9/9 [==============================] - 32s 4s/step - loss: 1.7016 - accuracy: 0.8111 - val_loss: 0.1195 - val_accuracy: 0.9297\n",
            "Epoch 43/50\n",
            "9/9 [==============================] - 29s 3s/step - loss: 1.5204 - accuracy: 0.8150 - val_loss: 0.1127 - val_accuracy: 0.9375\n",
            "Epoch 44/50\n",
            "9/9 [==============================] - 32s 4s/step - loss: 1.4075 - accuracy: 0.8374 - val_loss: 0.1109 - val_accuracy: 0.9375\n",
            "Epoch 45/50\n",
            "9/9 [==============================] - 30s 3s/step - loss: 1.2543 - accuracy: 0.8374 - val_loss: 0.0888 - val_accuracy: 0.9453\n",
            "Epoch 46/50\n",
            "9/9 [==============================] - 29s 3s/step - loss: 1.1829 - accuracy: 0.8500 - val_loss: 0.0963 - val_accuracy: 0.9414\n",
            "Epoch 47/50\n",
            "9/9 [==============================] - 30s 3s/step - loss: 1.2304 - accuracy: 0.8481 - val_loss: 0.0919 - val_accuracy: 0.9453\n",
            "Epoch 48/50\n",
            "9/9 [==============================] - 30s 3s/step - loss: 1.3338 - accuracy: 0.8374 - val_loss: 0.1016 - val_accuracy: 0.9414\n",
            "Epoch 49/50\n",
            "9/9 [==============================] - 30s 3s/step - loss: 1.1391 - accuracy: 0.8442 - val_loss: 0.1248 - val_accuracy: 0.9375\n",
            "Epoch 50/50\n",
            "9/9 [==============================] - 30s 3s/step - loss: 1.1813 - accuracy: 0.8530 - val_loss: 0.1328 - val_accuracy: 0.9336\n"
          ],
          "name": "stdout"
        }
      ]
    },
    {
      "cell_type": "code",
      "metadata": {
        "id": "cRxSesxW2w7P",
        "colab_type": "code",
        "colab": {
          "base_uri": "https://localhost:8080/",
          "height": 545
        },
        "outputId": "a511faad-3bc6-4e6b-ea1f-e3e27e849c0b"
      },
      "source": [
        "import matplotlib.pyplot as plt\n",
        "acc = history.history['accuracy']\n",
        "val_acc = history.history['val_accuracy']\n",
        "loss = history.history['loss']\n",
        "val_loss = history.history['val_loss']\n",
        "\n",
        "epochs = range(len(acc))\n",
        "\n",
        "plt.plot(epochs, acc, 'r', label='Training accuracy')\n",
        "plt.plot(epochs, val_acc, 'b', label='Validation accuracy')\n",
        "plt.title('Training and validation accuracy')\n",
        "\n",
        "plt.figure()\n",
        "\n",
        "plt.plot(epochs, loss, 'r', label='Training Loss')\n",
        "plt.plot(epochs, val_loss, 'b', label='Validation Loss')\n",
        "plt.title('Training and validation loss')\n",
        "plt.legend()\n",
        "\n",
        "plt.show()"
      ],
      "execution_count": 13,
      "outputs": [
        {
          "output_type": "display_data",
          "data": {
            "image/png": "[encoded data removed]",
            "text/plain": [
              "<Figure size 432x288 with 1 Axes>"
            ]
          },
          "metadata": {
            "tags": [],
            "needs_background": "light"
          }
        },
        {
          "output_type": "display_data",
          "data": {
            "image/png": "[encoded data removed]",
            "text/plain": [
              "<Figure size 432x288 with 1 Axes>"
            ]
          },
          "metadata": {
            "tags": [],
            "needs_background": "light"
          }
        }
      ]
    },
    {
      "cell_type": "code",
      "metadata": {
        "id": "fcjJYd0q3kbG",
        "colab_type": "code",
        "colab": {}
      },
      "source": [
        "model.save('horse_human1.h5')"
      ],
      "execution_count": 16,
      "outputs": []
    },
    {
      "cell_type": "code",
      "metadata": {
        "id": "601r_-6I3pLH",
        "colab_type": "code",
        "colab": {
          "base_uri": "https://localhost:8080/",
          "height": 34
        },
        "outputId": "cdbb1372-d116-4353-8e16-41df408db3f8"
      },
      "source": [
        "import os\n",
        "print(str(os.path.getsize('./horse_human1.h5')/1000000) + 'MB')"
      ],
      "execution_count": 17,
      "outputs": [
        {
          "output_type": "stream",
          "text": [
            "9.517792MB\n"
          ],
          "name": "stdout"
        }
      ]
    },
    {
      "cell_type": "code",
      "metadata": {
        "id": "FbsijUud3rkp",
        "colab_type": "code",
        "colab": {}
      },
      "source": [
        ""
      ],
      "execution_count": null,
      "outputs": []
    }
  ]
}